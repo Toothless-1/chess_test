{
 "cells": [
  {
   "cell_type": "code",
   "execution_count": 1,
   "metadata": {
    "execution": {
     "iopub.execute_input": "2025-10-09T11:06:44.133471Z",
     "iopub.status.busy": "2025-10-09T11:06:44.133174Z",
     "iopub.status.idle": "2025-10-09T11:06:49.394227Z",
     "shell.execute_reply": "2025-10-09T11:06:49.393578Z",
     "shell.execute_reply.started": "2025-10-09T11:06:44.133448Z"
    },
    "trusted": true
   },
   "outputs": [],
   "source": [
    "import chess\n",
    "import numpy as np\n",
    "import pandas as pd\n",
    "from sklearn.model_selection import train_test_split\n",
    "import matplotlib.pyplot as plt\n",
    "import seaborn as sns\n",
    "from collections import Counter\n",
    "import torch\n",
    "import torch.nn as nn\n",
    "import torch.nn.functional as F\n",
    "from torch.utils.data import Dataset, DataLoader, Subset\n",
    "from torchvision.models import resnet50\n",
    "from torchvision.models.resnet import Bottleneck\n",
    "from typing import List, Tuple\n",
    "import torch.optim as optim\n",
    "import time\n",
    "from tqdm import tqdm\n",
    "\n",
    "seed = 123456\n",
    "np.random.seed(seed=seed)"
   ]
  },
  {
   "cell_type": "markdown",
   "metadata": {},
   "source": [
    "# Разработка модели\n"
   ]
  },
  {
   "cell_type": "code",
   "execution_count": 2,
   "metadata": {
    "execution": {
     "iopub.execute_input": "2025-10-09T11:09:01.038684Z",
     "iopub.status.busy": "2025-10-09T11:09:01.038480Z",
     "iopub.status.idle": "2025-10-09T11:09:01.054856Z",
     "shell.execute_reply": "2025-10-09T11:09:01.053807Z",
     "shell.execute_reply.started": "2025-10-09T11:09:01.038667Z"
    },
    "trusted": true
   },
   "outputs": [],
   "source": [
    "class DualHeadChessDataset(Dataset):\n",
    "    def __init__(self, csv_file: str):\n",
    "        self.df = pd.read_csv(csv_file)\n",
    "\n",
    "        self._validate_data()\n",
    "        self.piece_to_idx = {\n",
    "            \"P\": 0,\n",
    "            \"N\": 1,\n",
    "            \"B\": 2,\n",
    "            \"R\": 3,\n",
    "            \"Q\": 4,\n",
    "            \"K\": 5,\n",
    "            \"p\": 6,\n",
    "            \"n\": 7,\n",
    "            \"b\": 8,\n",
    "            \"r\": 9,\n",
    "            \"q\": 10,\n",
    "            \"k\": 11,\n",
    "        }\n",
    "\n",
    "    def _validate_data(self):\n",
    "        valid_indices = []\n",
    "        for idx, row in self.df.iterrows():\n",
    "            try:\n",
    "                board = chess.Board(row[\"fen\"])\n",
    "                move = chess.Move.from_uci(row[\"move\"])\n",
    "                if move in board.legal_moves:\n",
    "                    valid_indices.append(idx)\n",
    "            except:\n",
    "                continue\n",
    "\n",
    "        self.df = self.df.loc[valid_indices].reset_index(drop=True)\n",
    "        print(f\"Загружено {len(self.df)} валидных позиций\")\n",
    "\n",
    "    def _board_to_tensor(self, fen: str) -> torch.Tensor:\n",
    "        board = chess.Board(fen)\n",
    "        tensor = torch.zeros(20, 8, 8, dtype=torch.float32)\n",
    "\n",
    "        # Фигуры (плоскости 0-11)\n",
    "        for square in chess.SQUARES:\n",
    "            piece = board.piece_at(square)\n",
    "            if piece:\n",
    "                row, col = square // 8, square % 8\n",
    "                piece_idx = self.piece_to_idx[piece.symbol()]\n",
    "                tensor[piece_idx, row, col] = 1.0\n",
    "\n",
    "        # Чей ход (плоскость 12)\n",
    "        tensor[12] = 1.0 if board.turn else 0.0\n",
    "\n",
    "        # Рокировки (плоскости 13-16)\n",
    "        castling_rights = [\n",
    "            board.has_kingside_castling_rights(chess.WHITE),\n",
    "            board.has_queenside_castling_rights(chess.WHITE),\n",
    "            board.has_kingside_castling_rights(chess.BLACK),\n",
    "            board.has_queenside_castling_rights(chess.BLACK),\n",
    "        ]\n",
    "        for i, has_right in enumerate(castling_rights):\n",
    "            if has_right:\n",
    "                tensor[13 + i] = 1.0\n",
    "\n",
    "        # Взятие на проходе (плоскость 17)\n",
    "        if board.ep_square is not None:\n",
    "            row, col = board.ep_square // 8, board.ep_square % 8\n",
    "            tensor[17, row, col] = 1.0\n",
    "\n",
    "        # Счетчик полуходов (плоскость 18)\n",
    "        tensor[18] = board.halfmove_clock / 50.0\n",
    "\n",
    "        # Номер хода (плоскость 19)\n",
    "        tensor[19] = board.fullmove_number / 500.0\n",
    "\n",
    "        return tensor\n",
    "\n",
    "    def _move_to_dual_labels(self, move_uci: str, fen: str) -> tuple:\n",
    "        board = chess.Board(fen)\n",
    "        move = chess.Move.from_uci(move_uci)\n",
    "\n",
    "        from_square = move.from_square\n",
    "\n",
    "        # Для to_square учитываем превращения\n",
    "        # ДИАПАЗОН ДОЛЖЕН БЫТЬ 0-67 (68 классов)\n",
    "        # print(move.promotion)\n",
    "        if move.promotion:\n",
    "            # Кодируем превращения: 64-68\n",
    "            to_square = 64 + (move.promotion - 1)  # 64, 65, 66, 67, 68\n",
    "        else:\n",
    "            to_square = move.to_square  # 0-63\n",
    "\n",
    "        # Проверяем, что to_square в правильном диапазоне\n",
    "        if to_square >= 69:\n",
    "            raise ValueError(f\"Некорректный to_square: {to_square} для хода {move_uci}\")\n",
    "\n",
    "        return from_square, to_square\n",
    "\n",
    "    def __len__(self):\n",
    "        return len(self.df)\n",
    "\n",
    "    def __getitem__(self, idx):\n",
    "        row = self.df.iloc[idx]\n",
    "        fen = row[\"fen\"]\n",
    "        move = row[\"move\"]\n",
    "\n",
    "        board_tensor = self._board_to_tensor(fen)\n",
    "        from_label, to_label = self._move_to_dual_labels(move, fen)\n",
    "\n",
    "        return board_tensor, from_label, to_label"
   ]
  },
  {
   "cell_type": "code",
   "execution_count": 3,
   "metadata": {
    "execution": {
     "iopub.execute_input": "2025-10-09T11:09:01.056029Z",
     "iopub.status.busy": "2025-10-09T11:09:01.055721Z",
     "iopub.status.idle": "2025-10-09T11:09:01.080462Z",
     "shell.execute_reply": "2025-10-09T11:09:01.079616Z",
     "shell.execute_reply.started": "2025-10-09T11:09:01.056001Z"
    },
    "trusted": true
   },
   "outputs": [],
   "source": [
    "class ChessDataSplitter:\n",
    "    def __init__(\n",
    "        self,\n",
    "        csv_file,\n",
    "        train_ratio=0.7,\n",
    "        val_ratio=0.15,\n",
    "        test_ratio=0.15,\n",
    "        random_state=42,\n",
    "    ):\n",
    "        print(train_ratio, val_ratio, test_ratio)\n",
    "        assert abs(train_ratio + val_ratio + test_ratio - 1.0) < 1e-6, (\n",
    "            \"Сумма долей должна быть равна 1\"\n",
    "        )\n",
    "\n",
    "        self.csv_file = csv_file\n",
    "        self.train_ratio = train_ratio\n",
    "        self.val_ratio = val_ratio\n",
    "        self.test_ratio = test_ratio\n",
    "        self.random_state = random_state\n",
    "\n",
    "        # Загружаем полный dataset\n",
    "        self.full_dataset = DualHeadChessDataset(csv_file)\n",
    "\n",
    "    def split_data(self):\n",
    "        \"\"\"Разбивает данные на train/val/test\"\"\"\n",
    "        # Получаем индексы\n",
    "        n_total = len(self.full_dataset)\n",
    "        indices = list(range(n_total))\n",
    "\n",
    "        # Первое разбиение: отделяем test\n",
    "        train_val_idx, test_idx = train_test_split(\n",
    "            indices,\n",
    "            test_size=self.test_ratio,\n",
    "            random_state=self.random_state,\n",
    "            shuffle=True,\n",
    "        )\n",
    "\n",
    "        # Второе разбиение: разделяем train и val\n",
    "        train_idx, val_idx = train_test_split(\n",
    "            train_val_idx,\n",
    "            test_size=self.val_ratio / (self.train_ratio + self.val_ratio),\n",
    "            random_state=self.random_state,\n",
    "            shuffle=True,\n",
    "        )\n",
    "\n",
    "        # Создаем Subset datasets\n",
    "        train_dataset = Subset(self.full_dataset, train_idx)\n",
    "        val_dataset = Subset(self.full_dataset, val_idx)\n",
    "        test_dataset = Subset(self.full_dataset, test_idx)\n",
    "\n",
    "        print(f\"Разбиение завершено:\")\n",
    "        print(\n",
    "            f\"Train: {len(train_dataset)} samples ({len(train_dataset) / n_total * 100:.1f}%)\"\n",
    "        )\n",
    "        print(\n",
    "            f\"Val: {len(val_dataset)} samples ({len(val_dataset) / n_total * 100:.1f}%)\"\n",
    "        )\n",
    "        print(\n",
    "            f\"Test: {len(test_dataset)} samples ({len(test_dataset) / n_total * 100:.1f}%)\"\n",
    "        )\n",
    "\n",
    "        return train_dataset, val_dataset, test_dataset"
   ]
  },
  {
   "cell_type": "code",
   "execution_count": 4,
   "metadata": {
    "execution": {
     "iopub.execute_input": "2025-10-09T11:09:01.081616Z",
     "iopub.status.busy": "2025-10-09T11:09:01.081380Z",
     "iopub.status.idle": "2025-10-09T11:09:01.101453Z",
     "shell.execute_reply": "2025-10-09T11:09:01.100507Z",
     "shell.execute_reply.started": "2025-10-09T11:09:01.081598Z"
    },
    "trusted": true
   },
   "outputs": [],
   "source": [
    "class DualHeadChessModel(nn.Module):\n",
    "    def __init__(self, device=\"cpu\"):\n",
    "        super().__init__()\n",
    "        self.device = device\n",
    "\n",
    "        # ResNet-50 backbone с модификациями\n",
    "        self.backbone = resnet50(pretrained=True)\n",
    "        \n",
    "        # 1. Заменяем первый слой для 20 каналов\n",
    "        self.backbone.conv1 = nn.Conv2d(20, 64, kernel_size=7, stride=2, padding=3, bias=False)\n",
    "        \n",
    "        # 2. Заменяем BatchNorm слои (важно!)\n",
    "        # Получаем все дочерние модули\n",
    "        backbone_layers = list(self.backbone.children())\n",
    "        \n",
    "        # 3. Убираем последние слои (avgpool и classifier)\n",
    "        self.backbone = nn.Sequential(*backbone_layers[:-2])\n",
    "        \n",
    "        # 4. Добавляем свой adaptive pooling\n",
    "        self.adaptive_pool = nn.AdaptiveAvgPool2d((8, 8))\n",
    "        \n",
    "        # 5. Добавляем BatchNorm и Dropout для стабилизации\n",
    "        self.from_bn1 = nn.BatchNorm1d(256)\n",
    "        self.from_dropout = nn.Dropout(0.3)\n",
    "        \n",
    "        self.to_bn1 = nn.BatchNorm2d(256)\n",
    "        self.to_bn2 = nn.BatchNorm1d(128)\n",
    "        self.to_dropout = nn.Dropout(0.3)\n",
    "\n",
    "        # Голова для исходной клетки\n",
    "        self.from_fc1 = nn.Linear(2048 * 8 * 8, 256)\n",
    "        self.from_output = nn.Linear(256, 64)\n",
    "\n",
    "        # Голова для целевой клетки\n",
    "        self.to_conv = nn.Conv2d(2048 + 64, 256, 3, padding=1)\n",
    "        self.to_fc1 = nn.Linear(256 * 8 * 8, 128)\n",
    "        self.to_output = nn.Linear(128, 69)\n",
    "\n",
    "        # Инициализация\n",
    "        self._initialize_weights()\n",
    "        \n",
    "        # Перенос на устройство\n",
    "        self.to(device)\n",
    "\n",
    "    def _initialize_weights(self):\n",
    "        \"\"\"Более безопасная инициализация\"\"\"\n",
    "        for m in self.modules():\n",
    "            if isinstance(m, nn.Conv2d):\n",
    "                nn.init.kaiming_normal_(m.weight, mode='fan_out', nonlinearity='relu')\n",
    "                if m.bias is not None:\n",
    "                    nn.init.constant_(m.bias, 0)\n",
    "            elif isinstance(m, nn.BatchNorm2d) or isinstance(m, nn.BatchNorm1d):\n",
    "                nn.init.constant_(m.weight, 1)\n",
    "                nn.init.constant_(m.bias, 0)\n",
    "            elif isinstance(m, nn.Linear):\n",
    "                nn.init.xavier_uniform_(m.weight)\n",
    "                nn.init.constant_(m.bias, 0)\n",
    "\n",
    "    def forward(self, board_tensor, from_square=None):\n",
    "        # Проверка входных данных\n",
    "        if torch.isnan(board_tensor).any():\n",
    "            print(\"Обнаружены NaN во входных данных!\")\n",
    "            \n",
    "        # Общие признаки через ResNet\n",
    "        x = self.backbone(board_tensor)\n",
    "        shared_features = self.adaptive_pool(x)\n",
    "        \n",
    "        # Проверка промежуточных значений\n",
    "        if torch.isnan(shared_features).any():\n",
    "            print(\"NaN после backbone!\")\n",
    "\n",
    "        # Голова для исходной клетки\n",
    "        from_flat = shared_features.reshape(shared_features.size(0), -1)\n",
    "        from_hidden = F.relu(self.from_fc1(from_flat))\n",
    "        from_hidden = self.from_bn1(from_hidden)\n",
    "        from_hidden = self.from_dropout(from_hidden)\n",
    "        from_logits = self.from_output(from_hidden)\n",
    "        \n",
    "        # Используем log_softmax для стабильности с NLLLoss\n",
    "        from_probs = F.log_softmax(from_logits, dim=1)\n",
    "\n",
    "        if from_square is None:\n",
    "            return from_probs, None\n",
    "\n",
    "        # Голова для целевой клетки\n",
    "        from_onehot = torch.zeros(shared_features.size(0), 64, 8, 8, device=self.device)\n",
    "        from_onehot[torch.arange(shared_features.size(0)), from_square, :, :] = 1\n",
    "\n",
    "        to_input = torch.cat([shared_features, from_onehot], dim=1)\n",
    "        to_features = F.relu(self.to_conv(to_input))\n",
    "        to_features = self.to_bn1(to_features)\n",
    "        \n",
    "        to_flat = to_features.reshape(to_features.size(0), -1)\n",
    "        to_hidden = F.relu(self.to_fc1(to_flat))\n",
    "        to_hidden = self.to_bn2(to_hidden)\n",
    "        to_hidden = self.to_dropout(to_hidden)\n",
    "        to_logits = self.to_output(to_hidden)\n",
    "        to_probs = F.log_softmax(to_logits, dim=1)\n",
    "\n",
    "        return from_probs, to_probs"
   ]
  },
  {
   "cell_type": "code",
   "execution_count": 5,
   "metadata": {
    "execution": {
     "iopub.execute_input": "2025-10-09T11:09:01.102811Z",
     "iopub.status.busy": "2025-10-09T11:09:01.102517Z",
     "iopub.status.idle": "2025-10-09T11:09:01.133979Z",
     "shell.execute_reply": "2025-10-09T11:09:01.133259Z",
     "shell.execute_reply.started": "2025-10-09T11:09:01.102790Z"
    },
    "trusted": true
   },
   "outputs": [],
   "source": [
    "class ChessTrainer:\n",
    "    def __init__(self\n",
    "                 ,model\n",
    "                 ,train_loader\n",
    "                 ,val_loader\n",
    "                 ,test_loader\n",
    "                 ,device=\"cpu\"\n",
    "                 ,lr=0.01\n",
    "                 ,weight_decay = 0.1\n",
    "                ):\n",
    "        self.model = model.to(device)\n",
    "        self.train_loader = train_loader\n",
    "        self.val_loader = val_loader\n",
    "        self.test_loader = test_loader\n",
    "        self.device = device\n",
    "        self.lr = lr\n",
    "        self.weight_decay = weight_decay\n",
    "\n",
    "        # Функции потерь\n",
    "        self.from_criterion = nn.NLLLoss()\n",
    "        self.to_criterion = nn.NLLLoss()\n",
    "\n",
    "        # Оптимизатор\n",
    "        self.optimizer = optim.AdamW(model.parameters(), lr=self.lr, weight_decay = self.weight_decay, amsgrad=True)\n",
    "\n",
    "        # Планировщик learning rate\n",
    "        self.scheduler = optim.lr_scheduler.StepLR(\n",
    "            self.optimizer, step_size=5, gamma=0.5\n",
    "        )\n",
    "\n",
    "        # История обучения\n",
    "        self.history = {\n",
    "            \"train_loss\": [],\n",
    "            \"val_loss\": [],\n",
    "            \"train_from_acc\": [],\n",
    "            \"val_from_acc\": [],\n",
    "            \"train_to_acc\": [],\n",
    "            \"val_to_acc\": [],\n",
    "            \"learning_rate\": [],\n",
    "        }\n",
    "\n",
    "    def train_epoch(self):\n",
    "        \"\"\"Одна эпоха обучения\"\"\"\n",
    "        self.model.train()\n",
    "        total_loss = 0\n",
    "        total_from_correct = 0\n",
    "        total_to_correct = 0\n",
    "        total_samples = 0\n",
    "\n",
    "        train_bar = tqdm(self.train_loader, desc=\"Training\")\n",
    "\n",
    "        for batch_idx, (boards, from_targets, to_targets) in enumerate(train_bar):\n",
    "            # Перемещаем данные на device\n",
    "            boards = boards.to(self.device)\n",
    "            from_targets = from_targets.to(self.device)\n",
    "            to_targets = to_targets.to(self.device)\n",
    "\n",
    "            # Обнуляем градиенты\n",
    "            self.optimizer.zero_grad()\n",
    "\n",
    "            # Прямой проход\n",
    "            from_probs, to_probs = self.model(boards, from_targets)\n",
    "\n",
    "            # Вычисляем потери\n",
    "            # print(to_probs, to_targets)\n",
    "            from_loss = self.from_criterion(from_probs, from_targets)\n",
    "            to_loss = self.to_criterion(to_probs, to_targets)\n",
    "            loss = from_loss + to_loss\n",
    "\n",
    "            # Обратный проход\n",
    "            loss.backward()\n",
    "\n",
    "            # Gradient clipping\n",
    "            torch.nn.utils.clip_grad_norm_(self.model.parameters(), max_norm=1.0)\n",
    "\n",
    "            # Шаг оптимизатора\n",
    "            self.optimizer.step()\n",
    "\n",
    "            # Статистика\n",
    "            total_loss += loss.item()\n",
    "            batch_size = boards.size(0)\n",
    "            total_samples += batch_size\n",
    "\n",
    "            # Точность для from-square\n",
    "            from_preds = torch.argmax(from_probs, dim=1)\n",
    "            from_correct = (from_preds == from_targets).sum().item()\n",
    "            total_from_correct += from_correct\n",
    "\n",
    "            # Точность для to-square\n",
    "            to_preds = torch.argmax(to_probs, dim=1)\n",
    "            to_correct = (to_preds == to_targets).sum().item()\n",
    "            total_to_correct += to_correct\n",
    "\n",
    "            # Обновляем progress bar\n",
    "            train_bar.set_postfix(\n",
    "                {\n",
    "                    \"Loss\": f\"{loss.item():.4f}\",\n",
    "                    \"From Acc\": f\"{from_correct / batch_size:.3f}\",\n",
    "                    \"To Acc\": f\"{to_correct / batch_size:.3f}\",\n",
    "                }\n",
    "            )\n",
    "\n",
    "        # Вычисляем средние метрики за эпоху\n",
    "        avg_loss = total_loss / len(self.train_loader)\n",
    "        from_acc = total_from_correct / total_samples\n",
    "        to_acc = total_to_correct / total_samples\n",
    "\n",
    "        return avg_loss, from_acc, to_acc\n",
    "\n",
    "    def validate(self):\n",
    "        \"\"\"Валидация модели\"\"\"\n",
    "        self.model.eval()\n",
    "        total_loss = 0\n",
    "        total_from_correct = 0\n",
    "        total_to_correct = 0\n",
    "        total_samples = 0\n",
    "\n",
    "        with torch.no_grad():\n",
    "            for boards, from_targets, to_targets in tqdm(\n",
    "                self.val_loader, desc=\"Validation\"\n",
    "            ):\n",
    "                boards = boards.to(self.device)\n",
    "                from_targets = from_targets.to(self.device)\n",
    "                to_targets = to_targets.to(self.device)\n",
    "\n",
    "                # Прямой проход\n",
    "                from_probs, to_probs = self.model(boards, from_targets)\n",
    "\n",
    "                # Потери\n",
    "                from_loss = self.from_criterion(from_probs, from_targets)\n",
    "                to_loss = self.to_criterion(to_probs, to_targets)\n",
    "                loss = from_loss + to_loss\n",
    "\n",
    "                total_loss += loss.item()\n",
    "                batch_size = boards.size(0)\n",
    "                total_samples += batch_size\n",
    "\n",
    "                # Точность\n",
    "                from_preds = torch.argmax(from_probs, dim=1)\n",
    "                # print(from_probs, from_preds, from_targets)\n",
    "                from_correct = (from_preds == from_targets).sum().item()\n",
    "                total_from_correct += from_correct\n",
    "\n",
    "                to_preds = torch.argmax(to_probs, dim=1)\n",
    "                to_correct = (to_preds == to_targets).sum().item()\n",
    "                total_to_correct += to_correct\n",
    "\n",
    "        avg_loss = total_loss / len(self.val_loader)\n",
    "        from_acc = total_from_correct / total_samples\n",
    "        to_acc = total_to_correct / total_samples\n",
    "\n",
    "        return avg_loss, from_acc, to_acc\n",
    "\n",
    "    def train(self, num_epochs=50, early_stopping_patience=10):\n",
    "        \"\"\"Полный цикл обучения\"\"\"\n",
    "        best_val_loss = float(\"inf\")\n",
    "        patience_counter = 0\n",
    "\n",
    "        print(\"Начало обучения...\")\n",
    "        print(f\"Используется устройство: {self.device}\")\n",
    "        print(f\"Размер тренировочного набора: {len(self.train_loader.dataset)}\")\n",
    "        print(f\"Размер валидационного набора: {len(self.val_loader.dataset)}\")\n",
    "\n",
    "        for epoch in range(num_epochs):\n",
    "            print(f\"\\nЭпоха {epoch + 1}/{num_epochs}\")\n",
    "            print(\"-\" * 50)\n",
    "\n",
    "            # Обучение\n",
    "            train_loss, train_from_acc, train_to_acc = self.train_epoch()\n",
    "\n",
    "            # Валидация\n",
    "            val_loss, val_from_acc, val_to_acc = self.validate()\n",
    "\n",
    "            # Обновление learning rate\n",
    "            self.scheduler.step()\n",
    "            current_lr = self.optimizer.param_groups[0][\"lr\"]\n",
    "\n",
    "            # Сохраняем историю\n",
    "            self.history[\"train_loss\"].append(train_loss)\n",
    "            self.history[\"val_loss\"].append(val_loss)\n",
    "            self.history[\"train_from_acc\"].append(train_from_acc)\n",
    "            self.history[\"val_from_acc\"].append(val_from_acc)\n",
    "            self.history[\"train_to_acc\"].append(train_to_acc)\n",
    "            self.history[\"val_to_acc\"].append(val_to_acc)\n",
    "            self.history[\"learning_rate\"].append(current_lr)\n",
    "\n",
    "            # Выводим результаты\n",
    "            print(f\"Train Loss: {train_loss:.4f} | Val Loss: {val_loss:.4f}\")\n",
    "            print(\n",
    "                f\"Train From Acc: {train_from_acc:.4f} | Val From Acc: {val_from_acc:.4f}\"\n",
    "            )\n",
    "            print(f\"Train To Acc: {train_to_acc:.4f} | Val To Acc: {val_to_acc:.4f}\")\n",
    "            print(f\"Learning Rate: {current_lr:.6f}\")\n",
    "\n",
    "            # Сохранение лучшей модели\n",
    "            if val_loss < best_val_loss:\n",
    "                best_val_loss = val_loss\n",
    "                patience_counter = 0\n",
    "                self.save_model(f\"best_chess_model_{self.model.__class__.__name__}.pth\")\n",
    "                print(\"Сохранена лучшая модель!\")\n",
    "            else:\n",
    "                patience_counter += 1\n",
    "                print(\n",
    "                    f\"Early stopping: {patience_counter}/{early_stopping_patience}\"\n",
    "                )\n",
    "\n",
    "            # Early stopping\n",
    "            if patience_counter >= early_stopping_patience:\n",
    "                print(\"Ранняя остановка!\")\n",
    "                break\n",
    "\n",
    "        print(\"\\nОбучение завершено!\")\n",
    "\n",
    "    def evaluate(self):\n",
    "        \"\"\"Финальная оценка на тестовом наборе\"\"\"\n",
    "        print(\"\\nОценка на тестовом наборе...\")\n",
    "        self.model.eval()\n",
    "\n",
    "        total_from_correct = 0\n",
    "        total_to_correct = 0\n",
    "        total_full_correct = 0\n",
    "        total_samples = 0\n",
    "\n",
    "        with torch.no_grad():\n",
    "            for boards, from_targets, to_targets in tqdm(\n",
    "                self.test_loader, desc=\"Testing\"\n",
    "            ):\n",
    "                boards = boards.to(self.device)\n",
    "                from_targets = from_targets.to(self.device)\n",
    "                to_targets = to_targets.to(self.device)\n",
    "\n",
    "                # Предсказание from-square\n",
    "                from_probs, _ = self.model(boards)\n",
    "                from_preds = torch.argmax(from_probs, dim=1)\n",
    "\n",
    "                # Предсказание to-square (используя правильные from-square для честной оценки)\n",
    "                _, to_probs = self.model(boards, from_targets)\n",
    "                to_preds = torch.argmax(to_probs, dim=1)\n",
    "\n",
    "                # Подсчет правильных предсказаний\n",
    "                from_correct = (from_preds == from_targets).sum().item()\n",
    "                to_correct = (to_preds == to_targets).sum().item()\n",
    "                full_correct = (\n",
    "                    ((from_preds == from_targets) & (to_preds == to_targets))\n",
    "                    .sum()\n",
    "                    .item()\n",
    "                )\n",
    "\n",
    "                total_from_correct += from_correct\n",
    "                total_to_correct += to_correct\n",
    "                total_full_correct += full_correct\n",
    "                total_samples += boards.size(0)\n",
    "\n",
    "        from_acc = total_from_correct / total_samples\n",
    "        to_acc = total_to_correct / total_samples\n",
    "        full_acc = total_full_correct / total_samples\n",
    "\n",
    "        print(f\"\\nРезультаты на тестовом наборе:\")\n",
    "        print(f\"From-square Accuracy: {from_acc:.4f}\")\n",
    "        print(f\"To-square Accuracy: {to_acc:.4f}\")\n",
    "        print(f\"Full Move Accuracy: {full_acc:.4f}\")\n",
    "\n",
    "        return from_acc, to_acc, full_acc\n",
    "\n",
    "    def save_model(self, path):\n",
    "        \"\"\"Сохранение модели\"\"\"\n",
    "        torch.save(\n",
    "            {\n",
    "                \"model_state_dict\": self.model.state_dict(),\n",
    "                \"optimizer_state_dict\": self.optimizer.state_dict(),\n",
    "                \"history\": self.history,\n",
    "            },\n",
    "            path,\n",
    "        )\n",
    "\n",
    "    def load_model(self, path):\n",
    "        \"\"\"Загрузка модели\"\"\"\n",
    "        checkpoint = torch.load(path, map_location=self.device)\n",
    "        self.model.load_state_dict(checkpoint[\"model_state_dict\"])\n",
    "        self.optimizer.load_state_dict(checkpoint[\"optimizer_state_dict\"])\n",
    "        self.history = checkpoint[\"history\"]\n",
    "\n",
    "    def plot_training_history(self):\n",
    "        \"\"\"Визуализация истории обучения\"\"\"\n",
    "        import matplotlib.pyplot as plt\n",
    "\n",
    "        fig, ((ax1, ax2), (ax3, ax4)) = plt.subplots(2, 2, figsize=(15, 10))\n",
    "\n",
    "        # Потери\n",
    "        ax1.plot(self.history[\"train_loss\"], label=\"Train Loss\")\n",
    "        ax1.plot(self.history[\"val_loss\"], label=\"Val Loss\")\n",
    "        ax1.set_title(\"Потери\")\n",
    "        ax1.set_xlabel(\"Эпоха\")\n",
    "        ax1.set_ylabel(\"Loss\")\n",
    "        ax1.legend()\n",
    "        ax1.grid(True)\n",
    "\n",
    "        # From-square точность\n",
    "        ax2.plot(self.history[\"train_from_acc\"], label=\"Train From Acc\")\n",
    "        ax2.plot(self.history[\"val_from_acc\"], label=\"Val From Acc\")\n",
    "        ax2.set_title(\"From-square Точность\")\n",
    "        ax2.set_xlabel(\"Эпоха\")\n",
    "        ax2.set_ylabel(\"Accuracy\")\n",
    "        ax2.legend()\n",
    "        ax2.grid(True)\n",
    "\n",
    "        # To-square точность\n",
    "        ax3.plot(self.history[\"train_to_acc\"], label=\"Train To Acc\")\n",
    "        ax3.plot(self.history[\"val_to_acc\"], label=\"Val To Acc\")\n",
    "        ax3.set_title(\"To-square Точность\")\n",
    "        ax3.set_xlabel(\"Эпоха\")\n",
    "        ax3.set_ylabel(\"Accuracy\")\n",
    "        ax3.legend()\n",
    "        ax3.grid(True)\n",
    "\n",
    "        # Learning rate\n",
    "        ax4.plot(self.history[\"learning_rate\"])\n",
    "        ax4.set_title(\"Learning Rate\")\n",
    "        ax4.set_xlabel(\"Эпоха\")\n",
    "        ax4.set_ylabel(\"LR\")\n",
    "        ax4.grid(True)\n",
    "\n",
    "        plt.tight_layout()\n",
    "        plt.savefig(\"training_history.png\", dpi=300, bbox_inches=\"tight\")\n",
    "        plt.show()"
   ]
  },
  {
   "cell_type": "code",
   "execution_count": 8,
   "metadata": {
    "execution": {
     "iopub.execute_input": "2025-10-09T11:09:01.135171Z",
     "iopub.status.busy": "2025-10-09T11:09:01.134876Z",
     "iopub.status.idle": "2025-10-09T11:09:01.155262Z",
     "shell.execute_reply": "2025-10-09T11:09:01.154505Z",
     "shell.execute_reply.started": "2025-10-09T11:09:01.135146Z"
    },
    "trusted": true
   },
   "outputs": [],
   "source": [
    "def main():\n",
    "    device = torch.device(\"cuda\" if torch.cuda.is_available() else \"cpu\")\n",
    "    print(f\"Используется устройство: {device}\")\n",
    "\n",
    "    # Загрузка данных\n",
    "    print(\"Загрузка данных...\")\n",
    "    splitter = ChessDataSplitter(\n",
    "        test_ratio=0.01,\n",
    "        val_ratio=0.2 * (1 - 0.01),\n",
    "        train_ratio=0.8 * (1 - 0.01),\n",
    "        csv_file=\"fens_training_set.csv\",\n",
    "    )\n",
    "    train_dataset, val_dataset, test_dataset = splitter.split_data()\n",
    "    train_loader = DataLoader(train_dataset, batch_size=128, shuffle=True, num_workers=0)\n",
    "    val_loader = DataLoader(val_dataset, batch_size=128, shuffle=False, num_workers=0)\n",
    "    test_loader = DataLoader(test_dataset, batch_size=10, shuffle=False, num_workers=0)\n",
    "\n",
    "    # Модель\n",
    "    print(\"Инициализация модели...\")\n",
    "    model = DualHeadChessModel(device=device)\n",
    "\n",
    "    # Тренер\n",
    "    trainer = ChessTrainer(model, train_loader, val_loader, test_loader, device=device, lr=0.001, weight_decay = 0.5)\n",
    "\n",
    "    # Обучение\n",
    "    trainer.train(num_epochs=20, early_stopping_patience=15)\n",
    "\n",
    "    trainer.plot_training_history()\n",
    "\n",
    "    # # Сохранение финальной модели\n",
    "    # trainer.save_model(\"final_chess_model.pth\")\n",
    "    # print(\"Модель сохранена!\")"
   ]
  },
  {
   "cell_type": "code",
   "execution_count": 9,
   "metadata": {
    "execution": {
     "iopub.execute_input": "2025-10-09T11:09:01.156446Z",
     "iopub.status.busy": "2025-10-09T11:09:01.156193Z"
    },
    "trusted": true
   },
   "outputs": [
    {
     "name": "stdout",
     "output_type": "stream",
     "text": [
      "Используется устройство: cuda\n",
      "Загрузка данных...\n",
      "0.792 0.198 0.01\n",
      "Загружено 268549 валидных позиций\n",
      "Разбиение завершено:\n",
      "Train: 212690 samples (79.2%)\n",
      "Val: 53173 samples (19.8%)\n",
      "Test: 2686 samples (1.0%)\n",
      "Инициализация модели...\n"
     ]
    },
    {
     "name": "stderr",
     "output_type": "stream",
     "text": [
      "f:\\dlml\\venv\\Lib\\site-packages\\torchvision\\models\\_utils.py:208: UserWarning: The parameter 'pretrained' is deprecated since 0.13 and may be removed in the future, please use 'weights' instead.\n",
      "  warnings.warn(\n",
      "f:\\dlml\\venv\\Lib\\site-packages\\torchvision\\models\\_utils.py:223: UserWarning: Arguments other than a weight enum or `None` for 'weights' are deprecated since 0.13 and may be removed in the future. The current behavior is equivalent to passing `weights=ResNet50_Weights.IMAGENET1K_V1`. You can also use `weights=ResNet50_Weights.DEFAULT` to get the most up-to-date weights.\n",
      "  warnings.warn(msg)\n"
     ]
    },
    {
     "name": "stdout",
     "output_type": "stream",
     "text": [
      "Начало обучения...\n",
      "Используется устройство: cuda\n",
      "Размер тренировочного набора: 212690\n",
      "Размер валидационного набора: 53173\n",
      "\n",
      "Эпоха 1/20\n",
      "--------------------------------------------------\n"
     ]
    },
    {
     "name": "stderr",
     "output_type": "stream",
     "text": [
      "Training: 100%|██████████| 1662/1662 [06:08<00:00,  4.51it/s, Loss=6.3340, From Acc=0.098, To Acc=0.207]\n",
      "Validation: 100%|██████████| 416/416 [00:29<00:00, 14.20it/s]\n"
     ]
    },
    {
     "name": "stdout",
     "output_type": "stream",
     "text": [
      "Train Loss: 6.6871 | Val Loss: 6.1128\n",
      "Train From Acc: 0.0845 | Val From Acc: 0.1151\n",
      "Train To Acc: 0.2097 | Val To Acc: 0.2645\n",
      "Learning Rate: 0.001000\n",
      "Сохранена лучшая модель!\n",
      "\n",
      "Эпоха 2/20\n",
      "--------------------------------------------------\n"
     ]
    },
    {
     "name": "stderr",
     "output_type": "stream",
     "text": [
      "Training: 100%|██████████| 1662/1662 [06:07<00:00,  4.53it/s, Loss=5.7674, From Acc=0.195, To Acc=0.207]\n",
      "Validation: 100%|██████████| 416/416 [00:29<00:00, 14.13it/s]\n"
     ]
    },
    {
     "name": "stdout",
     "output_type": "stream",
     "text": [
      "Train Loss: 5.8626 | Val Loss: 5.7078\n",
      "Train From Acc: 0.1694 | Val From Acc: 0.1856\n",
      "Train To Acc: 0.2662 | Val To Acc: 0.2821\n",
      "Learning Rate: 0.001000\n",
      "Сохранена лучшая модель!\n",
      "\n",
      "Эпоха 3/20\n",
      "--------------------------------------------------\n"
     ]
    },
    {
     "name": "stderr",
     "output_type": "stream",
     "text": [
      "Training: 100%|██████████| 1662/1662 [06:08<00:00,  4.51it/s, Loss=5.5161, From Acc=0.293, To Acc=0.305]\n",
      "Validation: 100%|██████████| 416/416 [00:29<00:00, 14.15it/s]\n"
     ]
    },
    {
     "name": "stdout",
     "output_type": "stream",
     "text": [
      "Train Loss: 5.5258 | Val Loss: 5.4356\n",
      "Train From Acc: 0.2368 | Val From Acc: 0.2421\n",
      "Train To Acc: 0.2790 | Val To Acc: 0.2903\n",
      "Learning Rate: 0.001000\n",
      "Сохранена лучшая модель!\n",
      "\n",
      "Эпоха 4/20\n",
      "--------------------------------------------------\n"
     ]
    },
    {
     "name": "stderr",
     "output_type": "stream",
     "text": [
      "Training: 100%|██████████| 1662/1662 [06:08<00:00,  4.51it/s, Loss=5.2232, From Acc=0.317, To Acc=0.341]\n",
      "Validation: 100%|██████████| 416/416 [00:29<00:00, 14.20it/s]\n"
     ]
    },
    {
     "name": "stdout",
     "output_type": "stream",
     "text": [
      "Train Loss: 5.3876 | Val Loss: 5.3467\n",
      "Train From Acc: 0.2612 | Val From Acc: 0.2491\n",
      "Train To Acc: 0.2881 | Val To Acc: 0.2956\n",
      "Learning Rate: 0.001000\n",
      "Сохранена лучшая модель!\n",
      "\n",
      "Эпоха 5/20\n",
      "--------------------------------------------------\n"
     ]
    },
    {
     "name": "stderr",
     "output_type": "stream",
     "text": [
      "Training: 100%|██████████| 1662/1662 [06:06<00:00,  4.53it/s, Loss=5.3568, From Acc=0.256, To Acc=0.244]\n",
      "Validation: 100%|██████████| 416/416 [00:29<00:00, 14.22it/s]\n"
     ]
    },
    {
     "name": "stdout",
     "output_type": "stream",
     "text": [
      "Train Loss: 5.2563 | Val Loss: 5.3980\n",
      "Train From Acc: 0.2822 | Val From Acc: 0.2494\n",
      "Train To Acc: 0.2997 | Val To Acc: 0.2943\n",
      "Learning Rate: 0.000500\n",
      "Early stopping: 1/15\n",
      "\n",
      "Эпоха 6/20\n",
      "--------------------------------------------------\n"
     ]
    },
    {
     "name": "stderr",
     "output_type": "stream",
     "text": [
      "Training: 100%|██████████| 1662/1662 [06:07<00:00,  4.52it/s, Loss=4.9096, From Acc=0.354, To Acc=0.354]\n",
      "Validation: 100%|██████████| 416/416 [00:29<00:00, 14.11it/s]\n"
     ]
    },
    {
     "name": "stdout",
     "output_type": "stream",
     "text": [
      "Train Loss: 4.9919 | Val Loss: 5.0047\n",
      "Train From Acc: 0.3204 | Val From Acc: 0.3077\n",
      "Train To Acc: 0.3171 | Val To Acc: 0.3201\n",
      "Learning Rate: 0.000500\n",
      "Сохранена лучшая модель!\n",
      "\n",
      "Эпоха 7/20\n",
      "--------------------------------------------------\n"
     ]
    },
    {
     "name": "stderr",
     "output_type": "stream",
     "text": [
      "Training: 100%|██████████| 1662/1662 [06:07<00:00,  4.53it/s, Loss=4.9632, From Acc=0.415, To Acc=0.305]\n",
      "Validation: 100%|██████████| 416/416 [00:29<00:00, 13.92it/s]\n"
     ]
    },
    {
     "name": "stdout",
     "output_type": "stream",
     "text": [
      "Train Loss: 4.9568 | Val Loss: 5.0513\n",
      "Train From Acc: 0.3324 | Val From Acc: 0.3175\n",
      "Train To Acc: 0.3234 | Val To Acc: 0.3229\n",
      "Learning Rate: 0.000500\n",
      "Early stopping: 1/15\n",
      "\n",
      "Эпоха 8/20\n",
      "--------------------------------------------------\n"
     ]
    },
    {
     "name": "stderr",
     "output_type": "stream",
     "text": [
      "Training: 100%|██████████| 1662/1662 [06:08<00:00,  4.51it/s, Loss=4.9517, From Acc=0.256, To Acc=0.354]\n",
      "Validation: 100%|██████████| 416/416 [00:29<00:00, 13.97it/s]\n"
     ]
    },
    {
     "name": "stdout",
     "output_type": "stream",
     "text": [
      "Train Loss: 4.9566 | Val Loss: 5.0145\n",
      "Train From Acc: 0.3404 | Val From Acc: 0.3214\n",
      "Train To Acc: 0.3277 | Val To Acc: 0.3261\n",
      "Learning Rate: 0.000500\n",
      "Early stopping: 2/15\n",
      "\n",
      "Эпоха 9/20\n",
      "--------------------------------------------------\n"
     ]
    },
    {
     "name": "stderr",
     "output_type": "stream",
     "text": [
      "Training: 100%|██████████| 1662/1662 [06:08<00:00,  4.51it/s, Loss=5.2613, From Acc=0.256, To Acc=0.232]\n",
      "Validation: 100%|██████████| 416/416 [00:29<00:00, 13.98it/s]\n"
     ]
    },
    {
     "name": "stdout",
     "output_type": "stream",
     "text": [
      "Train Loss: 4.9425 | Val Loss: 4.9843\n",
      "Train From Acc: 0.3457 | Val From Acc: 0.3161\n",
      "Train To Acc: 0.3304 | Val To Acc: 0.3268\n",
      "Learning Rate: 0.000500\n",
      "Сохранена лучшая модель!\n",
      "\n",
      "Эпоха 10/20\n",
      "--------------------------------------------------\n"
     ]
    },
    {
     "name": "stderr",
     "output_type": "stream",
     "text": [
      "Training: 100%|██████████| 1662/1662 [06:07<00:00,  4.52it/s, Loss=4.6398, From Acc=0.427, To Acc=0.390]\n",
      "Validation: 100%|██████████| 416/416 [00:29<00:00, 13.96it/s]\n"
     ]
    },
    {
     "name": "stdout",
     "output_type": "stream",
     "text": [
      "Train Loss: 4.9219 | Val Loss: 4.9071\n",
      "Train From Acc: 0.3516 | Val From Acc: 0.3493\n",
      "Train To Acc: 0.3320 | Val To Acc: 0.3333\n",
      "Learning Rate: 0.000250\n",
      "Сохранена лучшая модель!\n",
      "\n",
      "Эпоха 11/20\n",
      "--------------------------------------------------\n"
     ]
    },
    {
     "name": "stderr",
     "output_type": "stream",
     "text": [
      "Training: 100%|██████████| 1662/1662 [06:07<00:00,  4.53it/s, Loss=4.7230, From Acc=0.439, To Acc=0.354]\n",
      "Validation: 100%|██████████| 416/416 [00:29<00:00, 14.00it/s]\n"
     ]
    },
    {
     "name": "stdout",
     "output_type": "stream",
     "text": [
      "Train Loss: 4.7418 | Val Loss: 4.7309\n",
      "Train From Acc: 0.3783 | Val From Acc: 0.3732\n",
      "Train To Acc: 0.3509 | Val To Acc: 0.3492\n",
      "Learning Rate: 0.000250\n",
      "Сохранена лучшая модель!\n",
      "\n",
      "Эпоха 12/20\n",
      "--------------------------------------------------\n"
     ]
    },
    {
     "name": "stderr",
     "output_type": "stream",
     "text": [
      "Training: 100%|██████████| 1662/1662 [06:09<00:00,  4.50it/s, Loss=4.8603, From Acc=0.378, To Acc=0.402]\n",
      "Validation: 100%|██████████| 416/416 [00:29<00:00, 13.92it/s]\n"
     ]
    },
    {
     "name": "stdout",
     "output_type": "stream",
     "text": [
      "Train Loss: 4.7229 | Val Loss: 4.7179\n",
      "Train From Acc: 0.3865 | Val From Acc: 0.3819\n",
      "Train To Acc: 0.3571 | Val To Acc: 0.3569\n",
      "Learning Rate: 0.000250\n",
      "Сохранена лучшая модель!\n",
      "\n",
      "Эпоха 13/20\n",
      "--------------------------------------------------\n"
     ]
    },
    {
     "name": "stderr",
     "output_type": "stream",
     "text": [
      "Training: 100%|██████████| 1662/1662 [06:07<00:00,  4.52it/s, Loss=4.4736, From Acc=0.427, To Acc=0.402]\n",
      "Validation: 100%|██████████| 416/416 [00:29<00:00, 14.20it/s]\n"
     ]
    },
    {
     "name": "stdout",
     "output_type": "stream",
     "text": [
      "Train Loss: 4.7340 | Val Loss: 4.7128\n",
      "Train From Acc: 0.3917 | Val From Acc: 0.3839\n",
      "Train To Acc: 0.3602 | Val To Acc: 0.3622\n",
      "Learning Rate: 0.000250\n",
      "Сохранена лучшая модель!\n",
      "\n",
      "Эпоха 14/20\n",
      "--------------------------------------------------\n"
     ]
    },
    {
     "name": "stderr",
     "output_type": "stream",
     "text": [
      "Training: 100%|██████████| 1662/1662 [06:07<00:00,  4.52it/s, Loss=4.6342, From Acc=0.427, To Acc=0.378]\n",
      "Validation: 100%|██████████| 416/416 [00:29<00:00, 14.16it/s]\n"
     ]
    },
    {
     "name": "stdout",
     "output_type": "stream",
     "text": [
      "Train Loss: 4.7482 | Val Loss: 4.7124\n",
      "Train From Acc: 0.3940 | Val From Acc: 0.3890\n",
      "Train To Acc: 0.3639 | Val To Acc: 0.3589\n",
      "Learning Rate: 0.000250\n",
      "Сохранена лучшая модель!\n",
      "\n",
      "Эпоха 15/20\n",
      "--------------------------------------------------\n"
     ]
    },
    {
     "name": "stderr",
     "output_type": "stream",
     "text": [
      "Training: 100%|██████████| 1662/1662 [06:07<00:00,  4.52it/s, Loss=4.7930, From Acc=0.366, To Acc=0.341]\n",
      "Validation: 100%|██████████| 416/416 [00:29<00:00, 14.21it/s]\n"
     ]
    },
    {
     "name": "stdout",
     "output_type": "stream",
     "text": [
      "Train Loss: 4.7632 | Val Loss: 4.7554\n",
      "Train From Acc: 0.3984 | Val From Acc: 0.3835\n",
      "Train To Acc: 0.3656 | Val To Acc: 0.3577\n",
      "Learning Rate: 0.000125\n",
      "Early stopping: 1/15\n",
      "\n",
      "Эпоха 16/20\n",
      "--------------------------------------------------\n"
     ]
    },
    {
     "name": "stderr",
     "output_type": "stream",
     "text": [
      "Training: 100%|██████████| 1662/1662 [06:07<00:00,  4.52it/s, Loss=5.0000, From Acc=0.329, To Acc=0.366]\n",
      "Validation: 100%|██████████| 416/416 [00:29<00:00, 13.89it/s]\n"
     ]
    },
    {
     "name": "stdout",
     "output_type": "stream",
     "text": [
      "Train Loss: 4.6405 | Val Loss: 4.6150\n",
      "Train From Acc: 0.4231 | Val From Acc: 0.4095\n",
      "Train To Acc: 0.3830 | Val To Acc: 0.3796\n",
      "Learning Rate: 0.000125\n",
      "Сохранена лучшая модель!\n",
      "\n",
      "Эпоха 17/20\n",
      "--------------------------------------------------\n"
     ]
    },
    {
     "name": "stderr",
     "output_type": "stream",
     "text": [
      "Training: 100%|██████████| 1662/1662 [06:07<00:00,  4.53it/s, Loss=4.6782, From Acc=0.476, To Acc=0.329]\n",
      "Validation: 100%|██████████| 416/416 [00:29<00:00, 14.22it/s]\n"
     ]
    },
    {
     "name": "stdout",
     "output_type": "stream",
     "text": [
      "Train Loss: 4.6227 | Val Loss: 4.6089\n",
      "Train From Acc: 0.4322 | Val From Acc: 0.4146\n",
      "Train To Acc: 0.3879 | Val To Acc: 0.3844\n",
      "Learning Rate: 0.000125\n",
      "Сохранена лучшая модель!\n",
      "\n",
      "Эпоха 18/20\n",
      "--------------------------------------------------\n"
     ]
    },
    {
     "name": "stderr",
     "output_type": "stream",
     "text": [
      "Training: 100%|██████████| 1662/1662 [06:07<00:00,  4.52it/s, Loss=4.7181, From Acc=0.366, To Acc=0.427]\n",
      "Validation: 100%|██████████| 416/416 [00:29<00:00, 14.11it/s]\n"
     ]
    },
    {
     "name": "stdout",
     "output_type": "stream",
     "text": [
      "Train Loss: 4.6400 | Val Loss: 4.6402\n",
      "Train From Acc: 0.4362 | Val From Acc: 0.4168\n",
      "Train To Acc: 0.3910 | Val To Acc: 0.3843\n",
      "Learning Rate: 0.000125\n",
      "Early stopping: 1/15\n",
      "\n",
      "Эпоха 19/20\n",
      "--------------------------------------------------\n"
     ]
    },
    {
     "name": "stderr",
     "output_type": "stream",
     "text": [
      "Training: 100%|██████████| 1662/1662 [06:09<00:00,  4.50it/s, Loss=4.8790, From Acc=0.415, To Acc=0.293]\n",
      "Validation: 100%|██████████| 416/416 [00:29<00:00, 14.01it/s]\n"
     ]
    },
    {
     "name": "stdout",
     "output_type": "stream",
     "text": [
      "Train Loss: 4.6590 | Val Loss: 4.6813\n",
      "Train From Acc: 0.4409 | Val From Acc: 0.4116\n",
      "Train To Acc: 0.3925 | Val To Acc: 0.3865\n",
      "Learning Rate: 0.000125\n",
      "Early stopping: 2/15\n",
      "\n",
      "Эпоха 20/20\n",
      "--------------------------------------------------\n"
     ]
    },
    {
     "name": "stderr",
     "output_type": "stream",
     "text": [
      "Training: 100%|██████████| 1662/1662 [06:07<00:00,  4.53it/s, Loss=4.9099, From Acc=0.427, To Acc=0.329]\n",
      "Validation: 100%|██████████| 416/416 [00:29<00:00, 14.13it/s]\n"
     ]
    },
    {
     "name": "stdout",
     "output_type": "stream",
     "text": [
      "Train Loss: 4.6894 | Val Loss: 4.7176\n",
      "Train From Acc: 0.4420 | Val From Acc: 0.4247\n",
      "Train To Acc: 0.3946 | Val To Acc: 0.3832\n",
      "Learning Rate: 0.000063\n",
      "Early stopping: 3/15\n",
      "\n",
      "Обучение завершено!\n"
     ]
    },
    {
     "data": {
      "image/png": "[encoded data removed]",
      "text/plain": [
       "<Figure size 1500x1000 with 4 Axes>"
      ]
     },
     "metadata": {},
     "output_type": "display_data"
    }
   ],
   "source": [
    "if __name__ == \"__main__\":\n",
    "    main()"
   ]
  },
  {
   "cell_type": "code",
   "execution_count": null,
   "metadata": {
    "trusted": true
   },
   "outputs": [],
   "source": []
  },
  {
   "cell_type": "code",
   "execution_count": null,
   "metadata": {
    "trusted": true
   },
   "outputs": [],
   "source": []
  }
 ],
 "metadata": {
  "kaggle": {
   "accelerator": "gpu",
   "dataSources": [
    {
     "datasetId": 8433197,
     "sourceId": 13304384,
     "sourceType": "datasetVersion"
    }
   ],
   "dockerImageVersionId": 31154,
   "isGpuEnabled": true,
   "isInternetEnabled": true,
   "language": "python",
   "sourceType": "notebook"
  },
  "kernelspec": {
   "display_name": "venv",
   "language": "python",
   "name": "python3"
  },
  "language_info": {
   "codemirror_mode": {
    "name": "ipython",
    "version": 3
   },
   "file_extension": ".py",
   "mimetype": "text/x-python",
   "name": "python",
   "nbconvert_exporter": "python",
   "pygments_lexer": "ipython3",
   "version": "3.13.8"
  }
 },
 "nbformat": 4,
 "nbformat_minor": 4
}
