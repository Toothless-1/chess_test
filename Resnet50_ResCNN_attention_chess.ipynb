{
 "cells": [
  {
   "cell_type": "code",
   "execution_count": 1,
   "id": "237b99bd",
   "metadata": {
    "execution": {
     "iopub.execute_input": "2025-10-10T20:36:51.014619Z",
     "iopub.status.busy": "2025-10-10T20:36:51.014328Z",
     "iopub.status.idle": "2025-10-10T20:36:58.084756Z",
     "shell.execute_reply": "2025-10-10T20:36:58.083892Z"
    },
    "papermill": {
     "duration": 7.076286,
     "end_time": "2025-10-10T20:36:58.086311",
     "exception": false,
     "start_time": "2025-10-10T20:36:51.010025",
     "status": "completed"
    },
    "tags": []
   },
   "outputs": [
    {
     "name": "stdout",
     "output_type": "stream",
     "text": [
      "Collecting chess\r\n",
      "  Downloading chess-1.11.2.tar.gz (6.1 MB)\r\n",
      "\u001b[2K     \u001b[90m━━━━━━━━━━━━━━━━━━━━━━━━━━━━━━━━━━━━━━━━\u001b[0m \u001b[32m6.1/6.1 MB\u001b[0m \u001b[31m52.7 MB/s\u001b[0m eta \u001b[36m0:00:00\u001b[0m\r\n",
      "\u001b[?25h  Preparing metadata (setup.py) ... \u001b[?25l\u001b[?25hdone\r\n",
      "Building wheels for collected packages: chess\r\n",
      "  Building wheel for chess (setup.py) ... \u001b[?25l\u001b[?25hdone\r\n",
      "  Created wheel for chess: filename=chess-1.11.2-py3-none-any.whl size=147775 sha256=6c938f0ab0a508a8439adbb7c9cb0a8362fa33ec35c06935d25668e6dda00943\r\n",
      "  Stored in directory: /root/.cache/pip/wheels/fb/5d/5c/59a62d8a695285e59ec9c1f66add6f8a9ac4152499a2be0113\r\n",
      "Successfully built chess\r\n",
      "Installing collected packages: chess\r\n",
      "Successfully installed chess-1.11.2\r\n"
     ]
    }
   ],
   "source": [
    "!pip install chess"
   ]
  },
  {
   "cell_type": "code",
   "execution_count": 2,
   "id": "0981f2ac",
   "metadata": {
    "execution": {
     "iopub.execute_input": "2025-10-10T20:36:58.094576Z",
     "iopub.status.busy": "2025-10-10T20:36:58.093843Z",
     "iopub.status.idle": "2025-10-10T20:37:10.918009Z",
     "shell.execute_reply": "2025-10-10T20:37:10.917363Z"
    },
    "papermill": {
     "duration": 12.829483,
     "end_time": "2025-10-10T20:37:10.919428",
     "exception": false,
     "start_time": "2025-10-10T20:36:58.089945",
     "status": "completed"
    },
    "tags": []
   },
   "outputs": [],
   "source": [
    "import chess\n",
    "import numpy as np\n",
    "import pandas as pd\n",
    "from sklearn.model_selection import train_test_split\n",
    "import matplotlib.pyplot as plt\n",
    "import seaborn as sns\n",
    "from collections import Counter\n",
    "import torch\n",
    "import torch.nn as nn\n",
    "import torch.nn.functional as F\n",
    "from torch.utils.data import Dataset, DataLoader, Subset\n",
    "from torchvision.models import resnet50\n",
    "from typing import List, Tuple\n",
    "import torch.optim as optim\n",
    "import time\n",
    "from tqdm import tqdm\n",
    "\n",
    "seed = 123456\n",
    "np.random.seed(seed=seed)"
   ]
  },
  {
   "cell_type": "markdown",
   "id": "d5629320",
   "metadata": {
    "papermill": {
     "duration": 0.002653,
     "end_time": "2025-10-10T20:37:10.925166",
     "exception": false,
     "start_time": "2025-10-10T20:37:10.922513",
     "status": "completed"
    },
    "tags": []
   },
   "source": [
    "# Разработка модели\n"
   ]
  },
  {
   "cell_type": "code",
   "execution_count": 3,
   "id": "d59be879",
   "metadata": {
    "execution": {
     "iopub.execute_input": "2025-10-10T20:37:10.932002Z",
     "iopub.status.busy": "2025-10-10T20:37:10.931392Z",
     "iopub.status.idle": "2025-10-10T20:37:10.942352Z",
     "shell.execute_reply": "2025-10-10T20:37:10.941800Z"
    },
    "papermill": {
     "duration": 0.015571,
     "end_time": "2025-10-10T20:37:10.943452",
     "exception": false,
     "start_time": "2025-10-10T20:37:10.927881",
     "status": "completed"
    },
    "tags": []
   },
   "outputs": [],
   "source": [
    "class DualHeadChessDataset(Dataset):\n",
    "    def __init__(self, csv_file: str):\n",
    "        self.df = pd.read_csv(csv_file)\n",
    "\n",
    "        self._validate_data()\n",
    "        self.piece_to_idx = {\n",
    "            \"P\": 0,\n",
    "            \"N\": 1,\n",
    "            \"B\": 2,\n",
    "            \"R\": 3,\n",
    "            \"Q\": 4,\n",
    "            \"K\": 5,\n",
    "            \"p\": 6,\n",
    "            \"n\": 7,\n",
    "            \"b\": 8,\n",
    "            \"r\": 9,\n",
    "            \"q\": 10,\n",
    "            \"k\": 11,\n",
    "        }\n",
    "\n",
    "    def _validate_data(self):\n",
    "        valid_indices = []\n",
    "        for idx, row in self.df.iterrows():\n",
    "            try:\n",
    "                board = chess.Board(row[\"fen\"])\n",
    "                move = chess.Move.from_uci(row[\"move\"])\n",
    "                if move in board.legal_moves:\n",
    "                    valid_indices.append(idx)\n",
    "            except:\n",
    "                continue\n",
    "\n",
    "        self.df = self.df.loc[valid_indices].reset_index(drop=True)\n",
    "        print(f\"Загружено {len(self.df)} валидных позиций\")\n",
    "\n",
    "    def _board_to_tensor(self, fen: str) -> torch.Tensor:\n",
    "        board = chess.Board(fen)\n",
    "        tensor = torch.zeros(20, 8, 8, dtype=torch.float32)\n",
    "\n",
    "        # Фигуры (плоскости 0-11)\n",
    "        for square in chess.SQUARES:\n",
    "            piece = board.piece_at(square)\n",
    "            if piece:\n",
    "                row, col = square // 8, square % 8\n",
    "                piece_idx = self.piece_to_idx[piece.symbol()]\n",
    "                tensor[piece_idx, row, col] = 1.0\n",
    "\n",
    "        # Чей ход (плоскость 12)\n",
    "        tensor[12] = 1.0 if board.turn else 0.0\n",
    "\n",
    "        # Рокировки (плоскости 13-16)\n",
    "        castling_rights = [\n",
    "            board.has_kingside_castling_rights(chess.WHITE),\n",
    "            board.has_queenside_castling_rights(chess.WHITE),\n",
    "            board.has_kingside_castling_rights(chess.BLACK),\n",
    "            board.has_queenside_castling_rights(chess.BLACK),\n",
    "        ]\n",
    "        for i, has_right in enumerate(castling_rights):\n",
    "            if has_right:\n",
    "                tensor[13 + i] = 1.0\n",
    "\n",
    "        # Взятие на проходе (плоскость 17)\n",
    "        if board.ep_square is not None:\n",
    "            row, col = board.ep_square // 8, board.ep_square % 8\n",
    "            tensor[17, row, col] = 1.0\n",
    "\n",
    "        # Счетчик полуходов (плоскость 18)\n",
    "        tensor[18] = board.halfmove_clock / 50.0\n",
    "\n",
    "        # Номер хода (плоскость 19)\n",
    "        tensor[19] = board.fullmove_number / 500.0\n",
    "\n",
    "        return tensor\n",
    "\n",
    "    def _move_to_dual_labels(self, move_uci: str, fen: str) -> tuple:\n",
    "        board = chess.Board(fen)\n",
    "        move = chess.Move.from_uci(move_uci)\n",
    "\n",
    "        from_square = move.from_square\n",
    "\n",
    "        # Для to_square учитываем превращения\n",
    "        # ДИАПАЗОН ДОЛЖЕН БЫТЬ 0-68 (69 классов)\n",
    "        # print(move.promotion)\n",
    "        if move.promotion:\n",
    "            # Кодируем превращения: 64-68\n",
    "            to_square = 64 + (move.promotion - 1)  # 64, 65, 66, 67, 68\n",
    "        else:\n",
    "            to_square = move.to_square  # 0-63\n",
    "\n",
    "        # Проверяем, что to_square в правильном диапазоне\n",
    "        if to_square >= 69:\n",
    "            raise ValueError(f\"Некорректный to_square: {to_square} для хода {move_uci}\")\n",
    "\n",
    "        return from_square, to_square\n",
    "\n",
    "    def __len__(self):\n",
    "        return len(self.df)\n",
    "\n",
    "    def __getitem__(self, idx):\n",
    "        row = self.df.iloc[idx]\n",
    "        fen = row[\"fen\"]\n",
    "        move = row[\"move\"]\n",
    "\n",
    "        board_tensor = self._board_to_tensor(fen)\n",
    "        from_label, to_label = self._move_to_dual_labels(move, fen)\n",
    "\n",
    "        return board_tensor, from_label, to_label"
   ]
  },
  {
   "cell_type": "code",
   "execution_count": 4,
   "id": "0ccf4989",
   "metadata": {
    "execution": {
     "iopub.execute_input": "2025-10-10T20:37:10.950085Z",
     "iopub.status.busy": "2025-10-10T20:37:10.949844Z",
     "iopub.status.idle": "2025-10-10T20:37:10.956402Z",
     "shell.execute_reply": "2025-10-10T20:37:10.955838Z"
    },
    "papermill": {
     "duration": 0.011216,
     "end_time": "2025-10-10T20:37:10.957557",
     "exception": false,
     "start_time": "2025-10-10T20:37:10.946341",
     "status": "completed"
    },
    "tags": []
   },
   "outputs": [],
   "source": [
    "class ChessDataSplitter:\n",
    "    def __init__(\n",
    "        self,\n",
    "        csv_file,\n",
    "        train_ratio=0.7,\n",
    "        val_ratio=0.15,\n",
    "        test_ratio=0.15,\n",
    "        random_state=42,\n",
    "    ):\n",
    "        print(train_ratio, val_ratio, test_ratio)\n",
    "        assert abs(train_ratio + val_ratio + test_ratio - 1.0) < 1e-6, (\n",
    "            \"Сумма долей должна быть равна 1\"\n",
    "        )\n",
    "\n",
    "        self.csv_file = csv_file\n",
    "        self.train_ratio = train_ratio\n",
    "        self.val_ratio = val_ratio\n",
    "        self.test_ratio = test_ratio\n",
    "        self.random_state = random_state\n",
    "\n",
    "        # Загружаем полный dataset\n",
    "        self.full_dataset = DualHeadChessDataset(csv_file)\n",
    "\n",
    "    def split_data(self):\n",
    "        \"\"\"Разбивает данные на train/val/test\"\"\"\n",
    "        # Получаем индексы\n",
    "        n_total = len(self.full_dataset)\n",
    "        indices = list(range(n_total))\n",
    "\n",
    "        # Первое разбиение: отделяем test\n",
    "        train_val_idx, test_idx = train_test_split(\n",
    "            indices,\n",
    "            test_size=self.test_ratio,\n",
    "            random_state=self.random_state,\n",
    "            shuffle=True,\n",
    "        )\n",
    "\n",
    "        # Второе разбиение: разделяем train и val\n",
    "        train_idx, val_idx = train_test_split(\n",
    "            train_val_idx,\n",
    "            test_size=self.val_ratio / (self.train_ratio + self.val_ratio),\n",
    "            random_state=self.random_state,\n",
    "            shuffle=True,\n",
    "        )\n",
    "\n",
    "        # Создаем Subset datasets\n",
    "        train_dataset = Subset(self.full_dataset, train_idx)\n",
    "        val_dataset = Subset(self.full_dataset, val_idx)\n",
    "        test_dataset = Subset(self.full_dataset, test_idx)\n",
    "\n",
    "        print(f\"Разбиение завершено:\")\n",
    "        print(\n",
    "            f\"Train: {len(train_dataset)} samples ({len(train_dataset) / n_total * 100:.1f}%)\"\n",
    "        )\n",
    "        print(\n",
    "            f\"Val: {len(val_dataset)} samples ({len(val_dataset) / n_total * 100:.1f}%)\"\n",
    "        )\n",
    "        print(\n",
    "            f\"Test: {len(test_dataset)} samples ({len(test_dataset) / n_total * 100:.1f}%)\"\n",
    "        )\n",
    "\n",
    "        return train_dataset, val_dataset, test_dataset"
   ]
  },
  {
   "cell_type": "code",
   "execution_count": 5,
   "id": "d106b616",
   "metadata": {
    "execution": {
     "iopub.execute_input": "2025-10-10T20:37:10.963972Z",
     "iopub.status.busy": "2025-10-10T20:37:10.963774Z",
     "iopub.status.idle": "2025-10-10T20:37:10.975225Z",
     "shell.execute_reply": "2025-10-10T20:37:10.974557Z"
    },
    "papermill": {
     "duration": 0.015981,
     "end_time": "2025-10-10T20:37:10.976235",
     "exception": false,
     "start_time": "2025-10-10T20:37:10.960254",
     "status": "completed"
    },
    "tags": []
   },
   "outputs": [],
   "source": [
    "class DualHeadChessModelSimpleAttention(nn.Module):\n",
    "    def __init__(self, device=\"cpu\"):\n",
    "        super().__init__()\n",
    "        self.device = device\n",
    "\n",
    "        # ResNet-50 backbone с модификациями\n",
    "        self.backbone = resnet50(pretrained=True)\n",
    "        \n",
    "        # Заменяем первый слой для 20 каналов\n",
    "        self.backbone.conv1 = nn.Conv2d(20, 64, kernel_size=7, stride=2, padding=3, bias=False)\n",
    "        \n",
    "        # Получаем все дочерние модули\n",
    "        backbone_layers = list(self.backbone.children())\n",
    "        \n",
    "        # Убираем последние слои (avgpool и classifier)\n",
    "        self.backbone = nn.Sequential(*backbone_layers[:-2])\n",
    "        \n",
    "        # Добавляем свой adaptive pooling\n",
    "        self.adaptive_pool = nn.AdaptiveAvgPool2d((8, 8))\n",
    "        \n",
    "        # Простой механизм внимания\n",
    "        self.attention_conv = nn.Conv2d(2048, 1, 1)\n",
    "        \n",
    "        # BatchNorm и Dropout для стабилизации\n",
    "        self.from_bn1 = nn.BatchNorm1d(256)\n",
    "        self.from_dropout = nn.Dropout(0.3)\n",
    "        \n",
    "        self.to_bn1 = nn.BatchNorm2d(256)\n",
    "        self.to_bn2 = nn.BatchNorm1d(128)\n",
    "        self.to_dropout = nn.Dropout(0.3)\n",
    "\n",
    "        # Голова для исходной клетки\n",
    "        self.from_fc1 = nn.Linear(2048 * 8 * 8, 256)\n",
    "        self.from_output = nn.Linear(256, 64)\n",
    "\n",
    "        # Голова для целевой клетки\n",
    "        self.to_conv = nn.Conv2d(2048 + 64, 256, 3, padding=1)\n",
    "        self.to_fc1 = nn.Linear(256 * 8 * 8, 128)\n",
    "        self.to_output = nn.Linear(128, 69)\n",
    "        self._initialize_weights()\n",
    "        self.to(device)\n",
    "\n",
    "    def _initialize_weights(self):\n",
    "        \"\"\"Инициализация весов\"\"\"\n",
    "        for m in self.modules():\n",
    "            if isinstance(m, nn.Conv2d):\n",
    "                nn.init.kaiming_normal_(m.weight, mode='fan_out', nonlinearity='relu')\n",
    "                if m.bias is not None:\n",
    "                    nn.init.constant_(m.bias, 0)\n",
    "            elif isinstance(m, nn.BatchNorm2d) or isinstance(m, nn.BatchNorm1d):\n",
    "                nn.init.constant_(m.weight, 1)\n",
    "                nn.init.constant_(m.bias, 0)\n",
    "            elif isinstance(m, nn.Linear):\n",
    "                nn.init.xavier_uniform_(m.weight)\n",
    "                nn.init.constant_(m.bias, 0)\n",
    "\n",
    "    def forward(self, board_tensor, from_square=None):\n",
    "        x = self.backbone(board_tensor)\n",
    "        shared_features = self.adaptive_pool(x)\n",
    "        attention_weights = F.softmax(\n",
    "            self.attention_conv(shared_features).view(shared_features.size(0), -1), dim=1\n",
    "        ).view(shared_features.size(0), 1, 8, 8)\n",
    "        shared_features = shared_features * attention_weights\n",
    "\n",
    "        # Голова для исходной клетки\n",
    "        from_flat = shared_features.reshape(shared_features.size(0), -1)\n",
    "        from_hidden = F.relu(self.from_fc1(from_flat))\n",
    "        from_hidden = self.from_bn1(from_hidden)\n",
    "        from_hidden = self.from_dropout(from_hidden)\n",
    "        from_logits = self.from_output(from_hidden)\n",
    "        from_probs = F.log_softmax(from_logits, dim=1)\n",
    "\n",
    "        if from_square is None:\n",
    "            return from_probs, None\n",
    "\n",
    "        # Создаем one-hot кодирование на том же устройстве\n",
    "        batch_size = shared_features.size(0)\n",
    "        from_onehot = torch.zeros(batch_size, 64, 8, 8, device=shared_features.device)\n",
    "        \n",
    "        # Используем правильные индексы\n",
    "        batch_indices = torch.arange(batch_size, device=shared_features.device)\n",
    "        from_onehot[batch_indices, from_square, :, :] = 1\n",
    "\n",
    "        to_input = torch.cat([shared_features, from_onehot], dim=1)\n",
    "        to_features = F.relu(self.to_conv(to_input))\n",
    "        to_features = self.to_bn1(to_features)\n",
    "        to_flat = to_features.reshape(to_features.size(0), -1)\n",
    "        to_hidden = F.relu(self.to_fc1(to_flat))\n",
    "        to_hidden = self.to_bn2(to_hidden)\n",
    "        to_hidden = self.to_dropout(to_hidden)\n",
    "        to_logits = self.to_output(to_hidden)\n",
    "        to_probs = F.log_softmax(to_logits, dim=1)\n",
    "\n",
    "        return from_probs, to_probs"
   ]
  },
  {
   "cell_type": "code",
   "execution_count": 6,
   "id": "5a0813fc",
   "metadata": {
    "execution": {
     "iopub.execute_input": "2025-10-10T20:37:10.982962Z",
     "iopub.status.busy": "2025-10-10T20:37:10.982762Z",
     "iopub.status.idle": "2025-10-10T20:37:11.011051Z",
     "shell.execute_reply": "2025-10-10T20:37:11.010477Z"
    },
    "papermill": {
     "duration": 0.033086,
     "end_time": "2025-10-10T20:37:11.012210",
     "exception": false,
     "start_time": "2025-10-10T20:37:10.979124",
     "status": "completed"
    },
    "tags": []
   },
   "outputs": [],
   "source": [
    "class ChessTrainer:\n",
    "    def __init__(\n",
    "        self,\n",
    "        model,\n",
    "        train_loader,\n",
    "        val_loader,\n",
    "        test_loader,\n",
    "        device=\"cpu\",\n",
    "        lr=0.01,\n",
    "        weight_decay=0.1,\n",
    "        step_size=5,\n",
    "        gamma=0.8\n",
    "    ):\n",
    "        self.device = device\n",
    "        self.model = model.to(device)  # Сначала устанавливаем устройство, потом переносим модель\n",
    "        \n",
    "        self.train_loader = train_loader\n",
    "        self.val_loader = val_loader\n",
    "        self.test_loader = test_loader\n",
    "        self.lr = lr\n",
    "        self.weight_decay = weight_decay\n",
    "        self.step_size = step_size\n",
    "        self.gamma = gamma\n",
    "\n",
    "        # Функции потерь для двух голов\n",
    "        self.from_criterion = nn.CrossEntropyLoss()\n",
    "        self.to_criterion = nn.CrossEntropyLoss()\n",
    "\n",
    "        # Оптимизатор\n",
    "        self.optimizer = optim.AdamW(\n",
    "            model.parameters(),\n",
    "            lr=self.lr,\n",
    "            weight_decay=self.weight_decay,\n",
    "        )\n",
    "\n",
    "        # Планировщик learning rate\n",
    "        self.scheduler = optim.lr_scheduler.StepLR(\n",
    "            self.optimizer, step_size=self.step_size, gamma=self.gamma\n",
    "        )\n",
    "\n",
    "        # История обучения\n",
    "        self.history = {\n",
    "            \"train_loss\": [],\n",
    "            \"val_loss\": [],\n",
    "            \"train_from_acc\": [],\n",
    "            \"train_to_acc\": [],\n",
    "            \"val_from_acc\": [],\n",
    "            \"val_to_acc\": [],\n",
    "            \"learning_rate\": [],\n",
    "        }\n",
    "\n",
    "    def train_epoch(self):\n",
    "        \"\"\"Одна эпоха обучения\"\"\"\n",
    "        self.model.train()\n",
    "        total_loss = 0\n",
    "        total_from_correct = 0\n",
    "        total_to_correct = 0\n",
    "        total_samples = 0\n",
    "\n",
    "        train_bar = tqdm(self.train_loader, desc=\"Training\")\n",
    "\n",
    "        for batch_idx, (boards, from_targets, to_targets) in enumerate(train_bar):\n",
    "            # Перемещаем ВСЕ данные на device\n",
    "            boards = boards.to(self.device)\n",
    "            from_targets = from_targets.to(self.device)\n",
    "            to_targets = to_targets.to(self.device)\n",
    "\n",
    "            # Обнуляем градиенты\n",
    "            self.optimizer.zero_grad()\n",
    "\n",
    "            # Прямой проход - получаем обе головы\n",
    "            from_probs, to_probs = self.model(boards, from_targets)\n",
    "\n",
    "            # Вычисляем потери для обеих голов\n",
    "            from_loss = self.from_criterion(from_probs, from_targets)\n",
    "            to_loss = self.to_criterion(to_probs, to_targets)\n",
    "            \n",
    "            # Комбинируем потери\n",
    "            total_batch_loss = from_loss + to_loss\n",
    "\n",
    "            # Обратный проход\n",
    "            total_batch_loss.backward()\n",
    "\n",
    "            # Gradient clipping\n",
    "            torch.nn.utils.clip_grad_norm_(self.model.parameters(), max_norm=1.0)\n",
    "\n",
    "            # Шаг оптимизатора\n",
    "            self.optimizer.step()\n",
    "\n",
    "            # Статистика\n",
    "            total_loss += total_batch_loss.item()\n",
    "            batch_size = boards.size(0)\n",
    "            total_samples += batch_size\n",
    "\n",
    "            # Точность для from-головы\n",
    "            from_preds = torch.argmax(from_probs, dim=1)\n",
    "            from_correct = (from_preds == from_targets).sum().item()\n",
    "            total_from_correct += from_correct\n",
    "\n",
    "            # Точность для to-головы\n",
    "            to_preds = torch.argmax(to_probs, dim=1)\n",
    "            to_correct = (to_preds == to_targets).sum().item()\n",
    "            total_to_correct += to_correct\n",
    "\n",
    "            # Обновляем progress bar\n",
    "            train_bar.set_postfix({\n",
    "                \"Total Loss\": f\"{total_batch_loss.item():.4f}\",\n",
    "                \"From Loss\": f\"{from_loss.item():.4f}\",\n",
    "                \"To Loss\": f\"{to_loss.item():.4f}\",\n",
    "                \"From Acc\": f\"{from_correct / batch_size:.3f}\",\n",
    "                \"To Acc\": f\"{to_correct / batch_size:.3f}\"\n",
    "            })\n",
    "\n",
    "        # Вычисляем средние метрики за эпоху\n",
    "        avg_loss = total_loss / len(self.train_loader)\n",
    "        from_accuracy = total_from_correct / total_samples\n",
    "        to_accuracy = total_to_correct / total_samples\n",
    "\n",
    "        return avg_loss, from_accuracy, to_accuracy\n",
    "\n",
    "    def validate(self):\n",
    "        \"\"\"Валидация модели\"\"\"\n",
    "        self.model.eval()\n",
    "        total_loss = 0\n",
    "        total_from_correct = 0\n",
    "        total_to_correct = 0\n",
    "        total_samples = 0\n",
    "\n",
    "        with torch.no_grad():\n",
    "            for boards, from_targets, to_targets in tqdm(\n",
    "                self.val_loader, desc=\"Validation\"\n",
    "            ):\n",
    "                # Перемещаем ВСЕ данные на device\n",
    "                boards = boards.to(self.device)\n",
    "                from_targets = from_targets.to(self.device)\n",
    "                to_targets = to_targets.to(self.device)\n",
    "\n",
    "                # Прямой проход\n",
    "                from_probs, to_probs = self.model(boards, from_targets)\n",
    "\n",
    "                # Потери\n",
    "                from_loss = self.from_criterion(from_probs, from_targets)\n",
    "                to_loss = self.to_criterion(to_probs, to_targets)\n",
    "                total_batch_loss = from_loss + to_loss\n",
    "\n",
    "                total_loss += total_batch_loss.item()\n",
    "                batch_size = boards.size(0)\n",
    "                total_samples += batch_size\n",
    "\n",
    "                # Точность\n",
    "                from_preds = torch.argmax(from_probs, dim=1)\n",
    "                to_preds = torch.argmax(to_probs, dim=1)\n",
    "                \n",
    "                from_correct = (from_preds == from_targets).sum().item()\n",
    "                to_correct = (to_preds == to_targets).sum().item()\n",
    "                \n",
    "                total_from_correct += from_correct\n",
    "                total_to_correct += to_correct\n",
    "\n",
    "        avg_loss = total_loss / len(self.val_loader)\n",
    "        from_accuracy = total_from_correct / total_samples\n",
    "        to_accuracy = total_to_correct / total_samples\n",
    "\n",
    "        return avg_loss, from_accuracy, to_accuracy\n",
    "\n",
    "    def train(self, num_epochs=50, early_stopping_patience=10):\n",
    "        \"\"\"Полный цикл обучения\"\"\"\n",
    "        best_val_loss = float(\"inf\")\n",
    "        patience_counter = 0\n",
    "\n",
    "        print(\"Начало обучения DualHead модели...\")\n",
    "        print(f\"Используется устройство: {self.device}\")\n",
    "        print(f\"Размер тренировочного набора: {len(self.train_loader.dataset)}\")\n",
    "        print(f\"Размер валидационного набора: {len(self.val_loader.dataset)}\")\n",
    "        print(f\"Архитектура: DualHead с механизмом внимания\")\n",
    "\n",
    "        for epoch in range(num_epochs):\n",
    "            print(f\"\\nЭпоха {epoch + 1}/{num_epochs}\")\n",
    "            print(\"-\" * 50)\n",
    "\n",
    "            # Обучение\n",
    "            train_loss, train_from_acc, train_to_acc = self.train_epoch()\n",
    "\n",
    "            # Валидация\n",
    "            val_loss, val_from_acc, val_to_acc = self.validate()\n",
    "\n",
    "            # Обновление learning rate\n",
    "            self.scheduler.step()\n",
    "            current_lr = self.optimizer.param_groups[0][\"lr\"]\n",
    "\n",
    "            # Сохраняем историю\n",
    "            self.history[\"train_loss\"].append(train_loss)\n",
    "            self.history[\"val_loss\"].append(val_loss)\n",
    "            self.history[\"train_from_acc\"].append(train_from_acc)\n",
    "            self.history[\"train_to_acc\"].append(train_to_acc)\n",
    "            self.history[\"val_from_acc\"].append(val_from_acc)\n",
    "            self.history[\"val_to_acc\"].append(val_to_acc)\n",
    "            self.history[\"learning_rate\"].append(current_lr)\n",
    "\n",
    "            # Выводим результаты\n",
    "            print(f\"Train Loss: {train_loss:.4f} | Val Loss: {val_loss:.4f}\")\n",
    "            print(f\"Train From Acc: {train_from_acc:.4f} | Val From Acc: {val_from_acc:.4f}\")\n",
    "            print(f\"Train To Acc: {train_to_acc:.4f} | Val To Acc: {val_to_acc:.4f}\")\n",
    "            print(f\"Learning Rate: {current_lr:.6f}\")\n",
    "\n",
    "            # Сохранение лучшей модели\n",
    "            if val_loss < best_val_loss:\n",
    "                best_val_loss = val_loss\n",
    "                patience_counter = 0\n",
    "                self.save_model(\"best_dualhead_chess_model.pth\")\n",
    "                print(\"Сохранена лучшая модель!\")\n",
    "            else:\n",
    "                patience_counter += 1\n",
    "                print(f\"Early stopping: {patience_counter}/{early_stopping_patience}\")\n",
    "\n",
    "            # Early stopping\n",
    "            if patience_counter >= early_stopping_patience:\n",
    "                print(\"Ранняя остановка!\")\n",
    "                break\n",
    "\n",
    "        print(\"\\nОбучение завершено!\")\n",
    "        self.plot_training_history()\n",
    "\n",
    "    def evaluate(self):\n",
    "        \"\"\"Финальная оценка на тестовом наборе\"\"\"\n",
    "        print(\"\\nОценка на тестовом наборе...\")\n",
    "        self.model.eval()\n",
    "\n",
    "        total_from_correct = 0\n",
    "        total_to_correct = 0\n",
    "        total_full_correct = 0\n",
    "        total_samples = 0\n",
    "\n",
    "        with torch.no_grad():\n",
    "            for boards, from_targets, to_targets in tqdm(\n",
    "                self.test_loader, desc=\"Testing\"\n",
    "            ):\n",
    "                boards = boards.to(self.device)\n",
    "                from_targets = from_targets.to(self.device)\n",
    "                to_targets = to_targets.to(self.device)\n",
    "\n",
    "                # Прямой проход - сначала получаем предсказания from_square\n",
    "                from_probs, _ = self.model(boards)\n",
    "                from_preds = torch.argmax(from_probs, dim=1)\n",
    "\n",
    "                # Затем используем предсказанные from_square для to-головы\n",
    "                _, to_probs = self.model(boards, from_preds)\n",
    "                to_preds = torch.argmax(to_probs, dim=1)\n",
    "\n",
    "                # Подсчет правильных предсказаний\n",
    "                batch_size = boards.size(0)\n",
    "                total_samples += batch_size\n",
    "\n",
    "                # Точность для from-square\n",
    "                from_correct = (from_preds == from_targets).sum().item()\n",
    "                total_from_correct += from_correct\n",
    "\n",
    "                # Точность для to-square\n",
    "                to_correct = (to_preds == to_targets).sum().item()\n",
    "                total_to_correct += to_correct\n",
    "\n",
    "                # Полная точность (оба предсказания правильные)\n",
    "                full_correct = ((from_preds == from_targets) & (to_preds == to_targets)).sum().item()\n",
    "                total_full_correct += full_correct\n",
    "\n",
    "        from_acc = total_from_correct / total_samples\n",
    "        to_acc = total_to_correct / total_samples\n",
    "        full_acc = total_full_correct / total_samples\n",
    "\n",
    "        print(f\"\\nРезультаты на тестовом наборе:\")\n",
    "        print(f\"Full Move Accuracy (оба правильные): {full_acc:.4f}\")\n",
    "        print(f\"From-square Accuracy: {from_acc:.4f}\")\n",
    "        print(f\"To-square Accuracy: {to_acc:.4f}\")\n",
    "\n",
    "        return full_acc, from_acc, to_acc\n",
    "\n",
    "    def predict_move(self, board_tensor):\n",
    "        \"\"\"Предсказание хода для одной позиции\"\"\"\n",
    "        self.model.eval()\n",
    "        with torch.no_grad():\n",
    "            board_tensor = board_tensor.unsqueeze(0).to(self.device)\n",
    "            \n",
    "            # Первый проход - предсказание from_square\n",
    "            from_probs, _ = self.model(board_tensor)\n",
    "            from_square = torch.argmax(from_probs, dim=1).item()\n",
    "            \n",
    "            # Второй проход - предсказание to_square с использованием from_square\n",
    "            _, to_probs = self.model(board_tensor, torch.tensor([from_square], device=self.device))\n",
    "            to_square = torch.argmax(to_probs, dim=1).item()\n",
    "            \n",
    "            # Определяем тип хода\n",
    "            if to_square >= 64:\n",
    "                promotion_type = to_square - 63  # 1=queen, 2=rook, etc.\n",
    "                actual_to_square = to_square - 64\n",
    "                move_type = \"promotion\"\n",
    "            else:\n",
    "                promotion_type = 0\n",
    "                actual_to_square = to_square\n",
    "                move_type = \"normal\"\n",
    "            \n",
    "            return {\n",
    "                'from_square': from_square,\n",
    "                'to_square': actual_to_square,\n",
    "                'promotion_type': promotion_type,\n",
    "                'move_type': move_type,\n",
    "                'from_confidence': torch.softmax(from_probs, dim=1)[0, from_square].item(),\n",
    "                'to_confidence': torch.softmax(to_probs, dim=1)[0, to_square].item()\n",
    "            }\n",
    "\n",
    "    def save_model(self, path):\n",
    "        \"\"\"Сохранение модели\"\"\"\n",
    "        torch.save(\n",
    "            {\n",
    "                \"model_state_dict\": self.model.state_dict(),\n",
    "                \"optimizer_state_dict\": self.optimizer.state_dict(),\n",
    "                \"history\": self.history,\n",
    "            },\n",
    "            path,\n",
    "        )\n",
    "\n",
    "    def load_model(self, path):\n",
    "        \"\"\"Загрузка модели\"\"\"\n",
    "        checkpoint = torch.load(path, map_location=self.device)\n",
    "        self.model.load_state_dict(checkpoint[\"model_state_dict\"])\n",
    "        self.optimizer.load_state_dict(checkpoint[\"optimizer_state_dict\"])\n",
    "        self.history = checkpoint[\"history\"]\n",
    "\n",
    "    def plot_training_history(self):\n",
    "        \"\"\"Визуализация истории обучения\"\"\"\n",
    "        import matplotlib.pyplot as plt\n",
    "\n",
    "        fig, ((ax1, ax2), (ax3, ax4)) = plt.subplots(2, 2, figsize=(15, 10))\n",
    "\n",
    "        # Потери\n",
    "        ax1.plot(self.history[\"train_loss\"], label=\"Train Loss\")\n",
    "        ax1.plot(self.history[\"val_loss\"], label=\"Val Loss\")\n",
    "        ax1.set_title(\"Общие потери\")\n",
    "        ax1.set_xlabel(\"Эпоха\")\n",
    "        ax1.set_ylabel(\"Loss\")\n",
    "        ax1.legend()\n",
    "        ax1.grid(True)\n",
    "\n",
    "        # Точность from-square\n",
    "        ax2.plot(self.history[\"train_from_acc\"], label=\"Train From Acc\")\n",
    "        ax2.plot(self.history[\"val_from_acc\"], label=\"Val From Acc\")\n",
    "        ax2.set_title(\"Точность From-square\")\n",
    "        ax2.set_xlabel(\"Эпоха\")\n",
    "        ax2.set_ylabel(\"Accuracy\")\n",
    "        ax2.legend()\n",
    "        ax2.grid(True)\n",
    "\n",
    "        # Точность to-square\n",
    "        ax3.plot(self.history[\"train_to_acc\"], label=\"Train To Acc\")\n",
    "        ax3.plot(self.history[\"val_to_acc\"], label=\"Val To Acc\")\n",
    "        ax3.set_title(\"Точность To-square\")\n",
    "        ax3.set_xlabel(\"Эпоха\")\n",
    "        ax3.set_ylabel(\"Accuracy\")\n",
    "        ax3.legend()\n",
    "        ax3.grid(True)\n",
    "\n",
    "        # Learning rate\n",
    "        ax4.plot(self.history[\"learning_rate\"])\n",
    "        ax4.set_title(\"Learning Rate\")\n",
    "        ax4.set_xlabel(\"Эпоха\")\n",
    "        ax4.set_ylabel(\"LR\")\n",
    "        ax4.grid(True)\n",
    "\n",
    "        plt.tight_layout()\n",
    "        plt.savefig(\"dualhead_training_history.png\", dpi=300, bbox_inches=\"tight\")\n",
    "        plt.show()"
   ]
  },
  {
   "cell_type": "code",
   "execution_count": 7,
   "id": "2954e8f2",
   "metadata": {
    "execution": {
     "iopub.execute_input": "2025-10-10T20:37:11.018594Z",
     "iopub.status.busy": "2025-10-10T20:37:11.018208Z",
     "iopub.status.idle": "2025-10-10T20:37:11.024022Z",
     "shell.execute_reply": "2025-10-10T20:37:11.023449Z"
    },
    "papermill": {
     "duration": 0.010041,
     "end_time": "2025-10-10T20:37:11.025045",
     "exception": false,
     "start_time": "2025-10-10T20:37:11.015004",
     "status": "completed"
    },
    "tags": []
   },
   "outputs": [],
   "source": [
    "def main():\n",
    "    device = torch.device(\"cuda\" if torch.cuda.is_available() else \"cpu\")\n",
    "    print(f\"Используется устройство: {device}\")\n",
    "\n",
    "    torch.cuda.empty_cache()\n",
    "\n",
    "    # Загрузка данных\n",
    "    print(\"Загрузка данных...\")\n",
    "    splitter = ChessDataSplitter(\n",
    "        test_ratio=0.01,\n",
    "        val_ratio=0.2 * (1 - 0.01),\n",
    "        train_ratio=0.8 * (1 - 0.01),\n",
    "        csv_file=\"/kaggle/input/fens-training-set/fens_training_set.csv\",\n",
    "        random_state=seed\n",
    "    )\n",
    "    train_dataset, val_dataset, test_dataset = splitter.split_data()\n",
    "    train_loader = DataLoader(train_dataset, batch_size=512, shuffle=True, num_workers=2)\n",
    "    val_loader = DataLoader(val_dataset, batch_size=128, shuffle=False, num_workers=2)\n",
    "    test_loader = DataLoader(test_dataset, batch_size=32, shuffle=False, num_workers=2)\n",
    "\n",
    "    # Модель\n",
    "    print(\"Инициализация модели...\")\n",
    "    model = DualHeadChessModelSimpleAttention()\n",
    "\n",
    "    # Тренер\n",
    "    trainer = ChessTrainer(model\n",
    "                           ,train_loader\n",
    "                           ,val_loader\n",
    "                           ,test_loader\n",
    "                           ,device\n",
    "                           ,lr=1e-2\n",
    "                           ,weight_decay=0.5\n",
    "                           ,step_size=4\n",
    "                           ,gamma=0.3)\n",
    "\n",
    "    # Обучение\n",
    "    trainer.train(num_epochs=20, early_stopping_patience=10)\n",
    "\n",
    "    # Валидация\n",
    "    trainer.validate()\n",
    "\n",
    "    # # Сохранение финальной модели\n",
    "    # trainer.save_model(\"final_chess_model.pth\")\n",
    "    # print(\"Модель сохранена!\")"
   ]
  },
  {
   "cell_type": "code",
   "execution_count": 8,
   "id": "d0b686e1",
   "metadata": {
    "execution": {
     "iopub.execute_input": "2025-10-10T20:37:11.031437Z",
     "iopub.status.busy": "2025-10-10T20:37:11.031053Z",
     "iopub.status.idle": "2025-10-10T21:16:05.345241Z",
     "shell.execute_reply": "2025-10-10T21:16:05.344137Z"
    },
    "papermill": {
     "duration": 2334.318753,
     "end_time": "2025-10-10T21:16:05.346532",
     "exception": false,
     "start_time": "2025-10-10T20:37:11.027779",
     "status": "completed"
    },
    "tags": []
   },
   "outputs": [
    {
     "name": "stdout",
     "output_type": "stream",
     "text": [
      "Используется устройство: cuda\n",
      "Загрузка данных...\n",
      "0.792 0.198 0.01\n",
      "Загружено 268549 валидных позиций\n",
      "Разбиение завершено:\n",
      "Train: 212690 samples (79.2%)\n",
      "Val: 53173 samples (19.8%)\n",
      "Test: 2686 samples (1.0%)\n",
      "Инициализация модели...\n"
     ]
    },
    {
     "name": "stderr",
     "output_type": "stream",
     "text": [
      "/usr/local/lib/python3.11/dist-packages/torchvision/models/_utils.py:208: UserWarning: The parameter 'pretrained' is deprecated since 0.13 and may be removed in the future, please use 'weights' instead.\n",
      "  warnings.warn(\n",
      "/usr/local/lib/python3.11/dist-packages/torchvision/models/_utils.py:223: UserWarning: Arguments other than a weight enum or `None` for 'weights' are deprecated since 0.13 and may be removed in the future. The current behavior is equivalent to passing `weights=ResNet50_Weights.IMAGENET1K_V1`. You can also use `weights=ResNet50_Weights.DEFAULT` to get the most up-to-date weights.\n",
      "  warnings.warn(msg)\n",
      "Downloading: \"https://download.pytorch.org/models/resnet50-0676ba61.pth\" to /root/.cache/torch/hub/checkpoints/resnet50-0676ba61.pth\n",
      "100%|██████████| 97.8M/97.8M [00:00<00:00, 202MB/s]\n"
     ]
    },
    {
     "name": "stdout",
     "output_type": "stream",
     "text": [
      "Начало обучения DualHead модели...\n",
      "Используется устройство: cuda\n",
      "Размер тренировочного набора: 212690\n",
      "Размер валидационного набора: 53173\n",
      "Архитектура: DualHead с механизмом внимания\n",
      "\n",
      "Эпоха 1/20\n",
      "--------------------------------------------------\n"
     ]
    },
    {
     "name": "stderr",
     "output_type": "stream",
     "text": [
      "Training: 100%|██████████| 416/416 [01:36<00:00,  4.32it/s, Total Loss=6.2120, From Loss=3.5031, To Loss=2.7090, From Acc=0.086, To Acc=0.233]\n",
      "Validation: 100%|██████████| 416/416 [00:17<00:00, 23.43it/s]\n"
     ]
    },
    {
     "name": "stdout",
     "output_type": "stream",
     "text": [
      "Train Loss: 6.4263 | Val Loss: 6.4165\n",
      "Train From Acc: 0.0756 | Val From Acc: 0.0660\n",
      "Train To Acc: 0.2493 | Val To Acc: 0.2584\n",
      "Learning Rate: 0.010000\n",
      "Сохранена лучшая модель!\n",
      "\n",
      "Эпоха 2/20\n",
      "--------------------------------------------------\n"
     ]
    },
    {
     "name": "stderr",
     "output_type": "stream",
     "text": [
      "Training: 100%|██████████| 416/416 [01:35<00:00,  4.35it/s, Total Loss=5.9943, From Loss=3.3673, To Loss=2.6270, From Acc=0.138, To Acc=0.252]\n",
      "Validation: 100%|██████████| 416/416 [00:17<00:00, 23.87it/s]\n"
     ]
    },
    {
     "name": "stdout",
     "output_type": "stream",
     "text": [
      "Train Loss: 5.9620 | Val Loss: 6.7099\n",
      "Train From Acc: 0.1388 | Val From Acc: 0.0651\n",
      "Train To Acc: 0.2630 | Val To Acc: 0.2439\n",
      "Learning Rate: 0.010000\n",
      "Early stopping: 1/10\n",
      "\n",
      "Эпоха 3/20\n",
      "--------------------------------------------------\n"
     ]
    },
    {
     "name": "stderr",
     "output_type": "stream",
     "text": [
      "Training: 100%|██████████| 416/416 [01:35<00:00,  4.34it/s, Total Loss=5.9332, From Loss=3.1462, To Loss=2.7870, From Acc=0.214, To Acc=0.214]\n",
      "Validation: 100%|██████████| 416/416 [00:17<00:00, 23.64it/s]\n"
     ]
    },
    {
     "name": "stdout",
     "output_type": "stream",
     "text": [
      "Train Loss: 5.7900 | Val Loss: 6.0385\n",
      "Train From Acc: 0.1811 | Val From Acc: 0.1098\n",
      "Train To Acc: 0.2675 | Val To Acc: 0.2478\n",
      "Learning Rate: 0.010000\n",
      "Сохранена лучшая модель!\n",
      "\n",
      "Эпоха 4/20\n",
      "--------------------------------------------------\n"
     ]
    },
    {
     "name": "stderr",
     "output_type": "stream",
     "text": [
      "Training: 100%|██████████| 416/416 [01:35<00:00,  4.34it/s, Total Loss=5.7138, From Loss=3.0472, To Loss=2.6666, From Acc=0.229, To Acc=0.286]\n",
      "Validation: 100%|██████████| 416/416 [00:17<00:00, 24.22it/s]\n"
     ]
    },
    {
     "name": "stdout",
     "output_type": "stream",
     "text": [
      "Train Loss: 5.6451 | Val Loss: 6.7967\n",
      "Train From Acc: 0.2122 | Val From Acc: 0.0747\n",
      "Train To Acc: 0.2717 | Val To Acc: 0.2528\n",
      "Learning Rate: 0.003000\n",
      "Early stopping: 1/10\n",
      "\n",
      "Эпоха 5/20\n",
      "--------------------------------------------------\n"
     ]
    },
    {
     "name": "stderr",
     "output_type": "stream",
     "text": [
      "Training: 100%|██████████| 416/416 [01:35<00:00,  4.34it/s, Total Loss=5.3639, From Loss=2.9040, To Loss=2.4599, From Acc=0.252, To Acc=0.243]\n",
      "Validation: 100%|██████████| 416/416 [00:17<00:00, 23.94it/s]\n"
     ]
    },
    {
     "name": "stdout",
     "output_type": "stream",
     "text": [
      "Train Loss: 5.3770 | Val Loss: 5.6017\n",
      "Train From Acc: 0.2465 | Val From Acc: 0.2149\n",
      "Train To Acc: 0.2922 | Val To Acc: 0.2860\n",
      "Learning Rate: 0.003000\n",
      "Сохранена лучшая модель!\n",
      "\n",
      "Эпоха 6/20\n",
      "--------------------------------------------------\n"
     ]
    },
    {
     "name": "stderr",
     "output_type": "stream",
     "text": [
      "Training: 100%|██████████| 416/416 [01:35<00:00,  4.34it/s, Total Loss=5.1541, From Loss=2.8465, To Loss=2.3076, From Acc=0.243, To Acc=0.310]\n",
      "Validation: 100%|██████████| 416/416 [00:17<00:00, 24.12it/s]\n"
     ]
    },
    {
     "name": "stdout",
     "output_type": "stream",
     "text": [
      "Train Loss: 5.2588 | Val Loss: 6.2485\n",
      "Train From Acc: 0.2632 | Val From Acc: 0.1339\n",
      "Train To Acc: 0.2982 | Val To Acc: 0.2791\n",
      "Learning Rate: 0.003000\n",
      "Early stopping: 1/10\n",
      "\n",
      "Эпоха 7/20\n",
      "--------------------------------------------------\n"
     ]
    },
    {
     "name": "stderr",
     "output_type": "stream",
     "text": [
      "Training: 100%|██████████| 416/416 [01:35<00:00,  4.35it/s, Total Loss=5.1269, From Loss=2.7435, To Loss=2.3833, From Acc=0.267, To Acc=0.310]\n",
      "Validation: 100%|██████████| 416/416 [00:17<00:00, 23.64it/s]\n"
     ]
    },
    {
     "name": "stdout",
     "output_type": "stream",
     "text": [
      "Train Loss: 5.1645 | Val Loss: 5.8247\n",
      "Train From Acc: 0.2755 | Val From Acc: 0.1209\n",
      "Train To Acc: 0.3026 | Val To Acc: 0.2914\n",
      "Learning Rate: 0.003000\n",
      "Early stopping: 2/10\n",
      "\n",
      "Эпоха 8/20\n",
      "--------------------------------------------------\n"
     ]
    },
    {
     "name": "stderr",
     "output_type": "stream",
     "text": [
      "Training: 100%|██████████| 416/416 [01:35<00:00,  4.35it/s, Total Loss=5.0899, From Loss=2.6125, To Loss=2.4774, From Acc=0.314, To Acc=0.267]\n",
      "Validation: 100%|██████████| 416/416 [00:17<00:00, 24.32it/s]\n"
     ]
    },
    {
     "name": "stdout",
     "output_type": "stream",
     "text": [
      "Train Loss: 5.1046 | Val Loss: 5.4762\n",
      "Train From Acc: 0.2862 | Val From Acc: 0.2002\n",
      "Train To Acc: 0.3045 | Val To Acc: 0.3016\n",
      "Learning Rate: 0.000900\n",
      "Сохранена лучшая модель!\n",
      "\n",
      "Эпоха 9/20\n",
      "--------------------------------------------------\n"
     ]
    },
    {
     "name": "stderr",
     "output_type": "stream",
     "text": [
      "Training: 100%|██████████| 416/416 [01:35<00:00,  4.35it/s, Total Loss=4.9565, From Loss=2.5329, To Loss=2.4237, From Acc=0.305, To Acc=0.314]\n",
      "Validation: 100%|██████████| 416/416 [00:17<00:00, 24.14it/s]\n"
     ]
    },
    {
     "name": "stdout",
     "output_type": "stream",
     "text": [
      "Train Loss: 4.8705 | Val Loss: 4.8748\n",
      "Train From Acc: 0.3127 | Val From Acc: 0.2983\n",
      "Train To Acc: 0.3234 | Val To Acc: 0.3289\n",
      "Learning Rate: 0.000900\n",
      "Сохранена лучшая модель!\n",
      "\n",
      "Эпоха 10/20\n",
      "--------------------------------------------------\n"
     ]
    },
    {
     "name": "stderr",
     "output_type": "stream",
     "text": [
      "Training: 100%|██████████| 416/416 [01:35<00:00,  4.35it/s, Total Loss=4.5608, From Loss=2.3320, To Loss=2.2289, From Acc=0.348, To Acc=0.352]\n",
      "Validation: 100%|██████████| 416/416 [00:17<00:00, 24.43it/s]\n"
     ]
    },
    {
     "name": "stdout",
     "output_type": "stream",
     "text": [
      "Train Loss: 4.7927 | Val Loss: 5.0319\n",
      "Train From Acc: 0.3207 | Val From Acc: 0.2649\n",
      "Train To Acc: 0.3292 | Val To Acc: 0.3289\n",
      "Learning Rate: 0.000900\n",
      "Early stopping: 1/10\n",
      "\n",
      "Эпоха 11/20\n",
      "--------------------------------------------------\n"
     ]
    },
    {
     "name": "stderr",
     "output_type": "stream",
     "text": [
      "Training: 100%|██████████| 416/416 [01:35<00:00,  4.36it/s, Total Loss=4.8193, From Loss=2.3766, To Loss=2.4427, From Acc=0.371, To Acc=0.319]\n",
      "Validation: 100%|██████████| 416/416 [00:17<00:00, 23.93it/s]\n"
     ]
    },
    {
     "name": "stdout",
     "output_type": "stream",
     "text": [
      "Train Loss: 4.7522 | Val Loss: 4.9512\n",
      "Train From Acc: 0.3254 | Val From Acc: 0.2814\n",
      "Train To Acc: 0.3332 | Val To Acc: 0.3254\n",
      "Learning Rate: 0.000900\n",
      "Early stopping: 2/10\n",
      "\n",
      "Эпоха 12/20\n",
      "--------------------------------------------------\n"
     ]
    },
    {
     "name": "stderr",
     "output_type": "stream",
     "text": [
      "Training: 100%|██████████| 416/416 [01:35<00:00,  4.36it/s, Total Loss=4.5464, From Loss=2.3696, To Loss=2.1768, From Acc=0.305, To Acc=0.414]\n",
      "Validation: 100%|██████████| 416/416 [00:16<00:00, 24.56it/s]\n"
     ]
    },
    {
     "name": "stdout",
     "output_type": "stream",
     "text": [
      "Train Loss: 4.7218 | Val Loss: 4.8328\n",
      "Train From Acc: 0.3280 | Val From Acc: 0.3042\n",
      "Train To Acc: 0.3344 | Val To Acc: 0.3323\n",
      "Learning Rate: 0.000270\n",
      "Сохранена лучшая модель!\n",
      "\n",
      "Эпоха 13/20\n",
      "--------------------------------------------------\n"
     ]
    },
    {
     "name": "stderr",
     "output_type": "stream",
     "text": [
      "Training: 100%|██████████| 416/416 [01:35<00:00,  4.35it/s, Total Loss=4.6157, From Loss=2.3478, To Loss=2.2678, From Acc=0.395, To Acc=0.333]\n",
      "Validation: 100%|██████████| 416/416 [00:17<00:00, 24.05it/s]\n"
     ]
    },
    {
     "name": "stdout",
     "output_type": "stream",
     "text": [
      "Train Loss: 4.5971 | Val Loss: 4.6370\n",
      "Train From Acc: 0.3415 | Val From Acc: 0.3219\n",
      "Train To Acc: 0.3473 | Val To Acc: 0.3469\n",
      "Learning Rate: 0.000270\n",
      "Сохранена лучшая модель!\n",
      "\n",
      "Эпоха 14/20\n",
      "--------------------------------------------------\n"
     ]
    },
    {
     "name": "stderr",
     "output_type": "stream",
     "text": [
      "Training: 100%|██████████| 416/416 [01:35<00:00,  4.36it/s, Total Loss=4.4413, From Loss=2.2291, To Loss=2.2122, From Acc=0.338, To Acc=0.333]\n",
      "Validation: 100%|██████████| 416/416 [00:17<00:00, 24.38it/s]\n"
     ]
    },
    {
     "name": "stdout",
     "output_type": "stream",
     "text": [
      "Train Loss: 4.5557 | Val Loss: 4.5319\n",
      "Train From Acc: 0.3456 | Val From Acc: 0.3403\n",
      "Train To Acc: 0.3522 | Val To Acc: 0.3530\n",
      "Learning Rate: 0.000270\n",
      "Сохранена лучшая модель!\n",
      "\n",
      "Эпоха 15/20\n",
      "--------------------------------------------------\n"
     ]
    },
    {
     "name": "stderr",
     "output_type": "stream",
     "text": [
      "Training: 100%|██████████| 416/416 [01:35<00:00,  4.36it/s, Total Loss=4.3442, From Loss=2.2852, To Loss=2.0590, From Acc=0.367, To Acc=0.381]\n",
      "Validation: 100%|██████████| 416/416 [00:16<00:00, 24.56it/s]\n"
     ]
    },
    {
     "name": "stdout",
     "output_type": "stream",
     "text": [
      "Train Loss: 4.5307 | Val Loss: 4.6721\n",
      "Train From Acc: 0.3489 | Val From Acc: 0.3067\n",
      "Train To Acc: 0.3534 | Val To Acc: 0.3415\n",
      "Learning Rate: 0.000270\n",
      "Early stopping: 1/10\n",
      "\n",
      "Эпоха 16/20\n",
      "--------------------------------------------------\n"
     ]
    },
    {
     "name": "stderr",
     "output_type": "stream",
     "text": [
      "Training: 100%|██████████| 416/416 [01:35<00:00,  4.36it/s, Total Loss=4.5255, From Loss=2.3013, To Loss=2.2243, From Acc=0.305, To Acc=0.348]\n",
      "Validation: 100%|██████████| 416/416 [00:17<00:00, 24.35it/s]\n"
     ]
    },
    {
     "name": "stdout",
     "output_type": "stream",
     "text": [
      "Train Loss: 4.5093 | Val Loss: 4.5744\n",
      "Train From Acc: 0.3492 | Val From Acc: 0.3335\n",
      "Train To Acc: 0.3550 | Val To Acc: 0.3491\n",
      "Learning Rate: 0.000081\n",
      "Early stopping: 2/10\n",
      "\n",
      "Эпоха 17/20\n",
      "--------------------------------------------------\n"
     ]
    },
    {
     "name": "stderr",
     "output_type": "stream",
     "text": [
      "Training: 100%|██████████| 416/416 [01:35<00:00,  4.36it/s, Total Loss=4.6125, From Loss=2.2680, To Loss=2.3445, From Acc=0.395, To Acc=0.314]\n",
      "Validation: 100%|██████████| 416/416 [00:17<00:00, 23.99it/s]\n"
     ]
    },
    {
     "name": "stdout",
     "output_type": "stream",
     "text": [
      "Train Loss: 4.4463 | Val Loss: 4.4176\n",
      "Train From Acc: 0.3572 | Val From Acc: 0.3537\n",
      "Train To Acc: 0.3619 | Val To Acc: 0.3604\n",
      "Learning Rate: 0.000081\n",
      "Сохранена лучшая модель!\n",
      "\n",
      "Эпоха 18/20\n",
      "--------------------------------------------------\n"
     ]
    },
    {
     "name": "stderr",
     "output_type": "stream",
     "text": [
      "Training: 100%|██████████| 416/416 [01:35<00:00,  4.36it/s, Total Loss=4.4410, From Loss=2.3393, To Loss=2.1016, From Acc=0.376, To Acc=0.381]\n",
      "Validation: 100%|██████████| 416/416 [00:17<00:00, 24.35it/s]\n"
     ]
    },
    {
     "name": "stdout",
     "output_type": "stream",
     "text": [
      "Train Loss: 4.4281 | Val Loss: 4.4068\n",
      "Train From Acc: 0.3580 | Val From Acc: 0.3547\n",
      "Train To Acc: 0.3637 | Val To Acc: 0.3599\n",
      "Learning Rate: 0.000081\n",
      "Сохранена лучшая модель!\n",
      "\n",
      "Эпоха 19/20\n",
      "--------------------------------------------------\n"
     ]
    },
    {
     "name": "stderr",
     "output_type": "stream",
     "text": [
      "Training: 100%|██████████| 416/416 [01:35<00:00,  4.36it/s, Total Loss=4.3495, From Loss=2.1520, To Loss=2.1975, From Acc=0.367, To Acc=0.376]\n",
      "Validation: 100%|██████████| 416/416 [00:17<00:00, 24.33it/s]\n"
     ]
    },
    {
     "name": "stdout",
     "output_type": "stream",
     "text": [
      "Train Loss: 4.4151 | Val Loss: 4.4153\n",
      "Train From Acc: 0.3599 | Val From Acc: 0.3468\n",
      "Train To Acc: 0.3648 | Val To Acc: 0.3601\n",
      "Learning Rate: 0.000081\n",
      "Early stopping: 1/10\n",
      "\n",
      "Эпоха 20/20\n",
      "--------------------------------------------------\n"
     ]
    },
    {
     "name": "stderr",
     "output_type": "stream",
     "text": [
      "Training: 100%|██████████| 416/416 [01:35<00:00,  4.35it/s, Total Loss=4.4025, From Loss=2.2886, To Loss=2.1139, From Acc=0.362, To Acc=0.381]\n",
      "Validation: 100%|██████████| 416/416 [00:17<00:00, 24.00it/s]\n"
     ]
    },
    {
     "name": "stdout",
     "output_type": "stream",
     "text": [
      "Train Loss: 4.4022 | Val Loss: 4.3813\n",
      "Train From Acc: 0.3611 | Val From Acc: 0.3551\n",
      "Train To Acc: 0.3658 | Val To Acc: 0.3605\n",
      "Learning Rate: 0.000024\n",
      "Сохранена лучшая модель!\n",
      "\n",
      "Обучение завершено!\n"
     ]
    },
    {
     "data": {
      "image/png": "[encoded data removed]",
      "text/plain": [
       "<Figure size 1500x1000 with 4 Axes>"
      ]
     },
     "metadata": {},
     "output_type": "display_data"
    },
    {
     "name": "stderr",
     "output_type": "stream",
     "text": [
      "Validation: 100%|██████████| 416/416 [00:17<00:00, 24.20it/s]\n"
     ]
    }
   ],
   "source": [
    "if __name__ == \"__main__\":\n",
    "    main()"
   ]
  },
  {
   "cell_type": "code",
   "execution_count": null,
   "id": "370693f4",
   "metadata": {
    "papermill": {
     "duration": 0.916912,
     "end_time": "2025-10-10T21:16:07.188854",
     "exception": false,
     "start_time": "2025-10-10T21:16:06.271942",
     "status": "completed"
    },
    "tags": []
   },
   "outputs": [],
   "source": []
  }
 ],
 "metadata": {
  "kaggle": {
   "accelerator": "gpu",
   "dataSources": [
    {
     "datasetId": 8433197,
     "sourceId": 13304384,
     "sourceType": "datasetVersion"
    }
   ],
   "dockerImageVersionId": 31154,
   "isGpuEnabled": true,
   "isInternetEnabled": true,
   "language": "python",
   "sourceType": "notebook"
  },
  "kernelspec": {
   "display_name": "Python 3",
   "language": "python",
   "name": "python3"
  },
  "language_info": {
   "codemirror_mode": {
    "name": "ipython",
    "version": 3
   },
   "file_extension": ".py",
   "mimetype": "text/x-python",
   "name": "python",
   "nbconvert_exporter": "python",
   "pygments_lexer": "ipython3",
   "version": "3.11.13"
  },
  "papermill": {
   "default_parameters": {},
   "duration": 2363.685379,
   "end_time": "2025-10-10T21:16:10.877355",
   "environment_variables": {},
   "exception": null,
   "input_path": "__notebook__.ipynb",
   "output_path": "__notebook__.ipynb",
   "parameters": {},
   "start_time": "2025-10-10T20:36:47.191976",
   "version": "2.6.0"
  }
 },
 "nbformat": 4,
 "nbformat_minor": 5
}
