{
 "cells": [
  {
   "cell_type": "code",
   "execution_count": 1,
   "metadata": {
    "execution": {
     "iopub.execute_input": "2025-10-09T11:06:44.133471Z",
     "iopub.status.busy": "2025-10-09T11:06:44.133174Z",
     "iopub.status.idle": "2025-10-09T11:06:49.394227Z",
     "shell.execute_reply": "2025-10-09T11:06:49.393578Z",
     "shell.execute_reply.started": "2025-10-09T11:06:44.133448Z"
    },
    "trusted": true
   },
   "outputs": [],
   "source": [
    "import chess\n",
    "import numpy as np\n",
    "import pandas as pd\n",
    "from sklearn.model_selection import train_test_split\n",
    "import matplotlib.pyplot as plt\n",
    "import seaborn as sns\n",
    "from collections import Counter\n",
    "import torch\n",
    "import torch.nn as nn\n",
    "import torch.nn.functional as F\n",
    "from torch.utils.data import Dataset, DataLoader, Subset\n",
    "from typing import List, Tuple\n",
    "import torch.optim as optim\n",
    "import time\n",
    "from tqdm import tqdm\n",
    "\n",
    "seed = 123456\n",
    "np.random.seed(seed=seed)"
   ]
  },
  {
   "cell_type": "code",
   "execution_count": 2,
   "metadata": {
    "execution": {
     "iopub.execute_input": "2025-10-09T11:06:49.395186Z",
     "iopub.status.busy": "2025-10-09T11:06:49.394856Z",
     "iopub.status.idle": "2025-10-09T11:06:49.908565Z",
     "shell.execute_reply": "2025-10-09T11:06:49.907650Z",
     "shell.execute_reply.started": "2025-10-09T11:06:49.395168Z"
    },
    "trusted": true
   },
   "outputs": [],
   "source": [
    "data = pd.read_csv(\"fens_training_set.csv\")"
   ]
  },
  {
   "cell_type": "code",
   "execution_count": 3,
   "metadata": {
    "execution": {
     "iopub.execute_input": "2025-10-09T11:06:49.911045Z",
     "iopub.status.busy": "2025-10-09T11:06:49.910713Z",
     "iopub.status.idle": "2025-10-09T11:06:49.917373Z",
     "shell.execute_reply": "2025-10-09T11:06:49.916581Z",
     "shell.execute_reply.started": "2025-10-09T11:06:49.911024Z"
    },
    "trusted": true
   },
   "outputs": [
    {
     "data": {
      "text/plain": [
       "(268550, 2)"
      ]
     },
     "execution_count": 3,
     "metadata": {},
     "output_type": "execute_result"
    }
   ],
   "source": [
    "data.shape"
   ]
  },
  {
   "cell_type": "markdown",
   "metadata": {},
   "source": [
    "# Проведём EDA\n"
   ]
  },
  {
   "cell_type": "code",
   "execution_count": 4,
   "metadata": {
    "execution": {
     "iopub.execute_input": "2025-10-09T11:06:49.918407Z",
     "iopub.status.busy": "2025-10-09T11:06:49.918172Z",
     "iopub.status.idle": "2025-10-09T11:06:49.934844Z",
     "shell.execute_reply": "2025-10-09T11:06:49.933945Z",
     "shell.execute_reply.started": "2025-10-09T11:06:49.918389Z"
    },
    "trusted": true
   },
   "outputs": [],
   "source": [
    "def validate_fen(fen):\n",
    "    try:\n",
    "        board = chess.Board(fen)\n",
    "        return True\n",
    "    except:\n",
    "        return False"
   ]
  },
  {
   "cell_type": "code",
   "execution_count": 5,
   "metadata": {
    "execution": {
     "iopub.execute_input": "2025-10-09T11:06:49.936014Z",
     "iopub.status.busy": "2025-10-09T11:06:49.935764Z",
     "iopub.status.idle": "2025-10-09T11:07:04.028248Z",
     "shell.execute_reply": "2025-10-09T11:07:04.027531Z",
     "shell.execute_reply.started": "2025-10-09T11:06:49.935994Z"
    },
    "trusted": true
   },
   "outputs": [
    {
     "name": "stdout",
     "output_type": "stream",
     "text": [
      "Валидных FEN: 268550/268550\n"
     ]
    }
   ],
   "source": [
    "data[\"fen_valid\"] = data[\"fen\"].apply(validate_fen)\n",
    "print(f\"Валидных FEN: {data['fen_valid'].sum()}/{len(data)}\")"
   ]
  },
  {
   "cell_type": "code",
   "execution_count": 6,
   "metadata": {
    "execution": {
     "iopub.execute_input": "2025-10-09T11:07:04.029291Z",
     "iopub.status.busy": "2025-10-09T11:07:04.028994Z",
     "iopub.status.idle": "2025-10-09T11:07:04.033808Z",
     "shell.execute_reply": "2025-10-09T11:07:04.033129Z",
     "shell.execute_reply.started": "2025-10-09T11:07:04.029265Z"
    },
    "trusted": true
   },
   "outputs": [],
   "source": [
    "def analyze_fen_structure(fen):\n",
    "    board = chess.Board(fen)\n",
    "    return {\n",
    "        \"piece_count\": len(board.piece_map()),\n",
    "        \"white_to_move\": board.turn,\n",
    "        \"castling_rights\": board.castling_rights,\n",
    "        \"en_passant_possible\": board.ep_square is not None,\n",
    "        \"halfmove_clock\": board.halfmove_clock,\n",
    "        \"fullmove_number\": board.fullmove_number,\n",
    "    }"
   ]
  },
  {
   "cell_type": "code",
   "execution_count": 7,
   "metadata": {
    "execution": {
     "iopub.execute_input": "2025-10-09T11:07:04.034814Z",
     "iopub.status.busy": "2025-10-09T11:07:04.034550Z",
     "iopub.status.idle": "2025-10-09T11:07:23.676893Z",
     "shell.execute_reply": "2025-10-09T11:07:23.676041Z",
     "shell.execute_reply.started": "2025-10-09T11:07:04.034787Z"
    },
    "trusted": true
   },
   "outputs": [],
   "source": [
    "fen_analysis = data[data[\"fen_valid\"]][\"fen\"].apply(analyze_fen_structure)"
   ]
  },
  {
   "cell_type": "code",
   "execution_count": 8,
   "metadata": {
    "execution": {
     "iopub.execute_input": "2025-10-09T11:07:23.678470Z",
     "iopub.status.busy": "2025-10-09T11:07:23.678019Z",
     "iopub.status.idle": "2025-10-09T11:07:24.099610Z",
     "shell.execute_reply": "2025-10-09T11:07:24.098965Z",
     "shell.execute_reply.started": "2025-10-09T11:07:23.678445Z"
    },
    "trusted": true
   },
   "outputs": [],
   "source": [
    "fen_df = pd.DataFrame(fen_analysis.tolist())"
   ]
  },
  {
   "cell_type": "code",
   "execution_count": 9,
   "metadata": {
    "execution": {
     "iopub.execute_input": "2025-10-09T11:07:24.103361Z",
     "iopub.status.busy": "2025-10-09T11:07:24.102856Z",
     "iopub.status.idle": "2025-10-09T11:07:24.110915Z",
     "shell.execute_reply": "2025-10-09T11:07:24.110137Z",
     "shell.execute_reply.started": "2025-10-09T11:07:24.103338Z"
    },
    "trusted": true
   },
   "outputs": [
    {
     "name": "stdout",
     "output_type": "stream",
     "text": [
      "Позиций где ход белых: 268550\n",
      "Позиций где ход черных: 0\n"
     ]
    }
   ],
   "source": [
    "print(f\"Позиций где ход белых: {(fen_df['white_to_move'] == True).sum()}\")\n",
    "print(f\"Позиций где ход черных: {(fen_df['white_to_move'] == False).sum()}\")"
   ]
  },
  {
   "cell_type": "code",
   "execution_count": 10,
   "metadata": {
    "execution": {
     "iopub.execute_input": "2025-10-09T11:07:24.112293Z",
     "iopub.status.busy": "2025-10-09T11:07:24.111870Z",
     "iopub.status.idle": "2025-10-09T11:07:24.125223Z",
     "shell.execute_reply": "2025-10-09T11:07:24.124463Z",
     "shell.execute_reply.started": "2025-10-09T11:07:24.112270Z"
    },
    "trusted": true
   },
   "outputs": [],
   "source": [
    "def analyze_move(move_uci, fen):\n",
    "    \"\"\"Детальный анализ хода\"\"\"\n",
    "    try:\n",
    "        board = chess.Board(fen)\n",
    "        move = chess.Move.from_uci(move_uci)\n",
    "\n",
    "        # Проверка легальности хода\n",
    "        is_legal = move in board.legal_moves\n",
    "\n",
    "        # Тип хода\n",
    "        move_types = []\n",
    "        if board.is_capture(move):\n",
    "            move_types.append(\"capture\")\n",
    "        if board.is_castling(move):\n",
    "            move_types.append(\"castling\")\n",
    "        if board.is_en_passant(move):\n",
    "            move_types.append(\"en_passant\")\n",
    "        if move.promotion:\n",
    "            move_types.append(\"promotion\")\n",
    "        if not move_types:\n",
    "            move_types.append(\"quiet\")\n",
    "\n",
    "        # Фигура, которая ходит\n",
    "        piece = board.piece_at(move.from_square)\n",
    "        piece_type = piece.symbol().upper() if piece else None\n",
    "\n",
    "        # Расстояние хода\n",
    "        from_row, from_col = move.from_square // 8, move.from_square % 8\n",
    "        to_row, to_col = move.to_square // 8, move.to_square % 8\n",
    "        distance = np.sqrt((from_row - to_row) ** 2 + (from_col - to_col) ** 2)\n",
    "\n",
    "        return {\n",
    "            \"is_legal\": is_legal,\n",
    "            \"move_types\": move_types,\n",
    "            \"piece_type\": piece_type,\n",
    "            \"move_distance\": distance,\n",
    "            \"is_check\": board.gives_check(move),\n",
    "        }\n",
    "    except:\n",
    "        return {\n",
    "            \"is_legal\": False,\n",
    "            \"move_types\": [],\n",
    "            \"piece_type\": None,\n",
    "            \"move_distance\": 0,\n",
    "            \"is_check\": False,\n",
    "        }"
   ]
  },
  {
   "cell_type": "code",
   "execution_count": 11,
   "metadata": {
    "execution": {
     "iopub.execute_input": "2025-10-09T11:07:24.126489Z",
     "iopub.status.busy": "2025-10-09T11:07:24.126218Z",
     "iopub.status.idle": "2025-10-09T11:07:53.854609Z",
     "shell.execute_reply": "2025-10-09T11:07:53.853640Z",
     "shell.execute_reply.started": "2025-10-09T11:07:24.126463Z"
    },
    "trusted": true
   },
   "outputs": [],
   "source": [
    "move_analysis = data.apply(lambda row: analyze_move(row[\"move\"], row[\"fen\"]), axis=1)\n",
    "move_df = pd.DataFrame(move_analysis.tolist())"
   ]
  },
  {
   "cell_type": "code",
   "execution_count": 12,
   "metadata": {
    "execution": {
     "iopub.execute_input": "2025-10-09T11:07:53.856293Z",
     "iopub.status.busy": "2025-10-09T11:07:53.855627Z",
     "iopub.status.idle": "2025-10-09T11:07:53.862303Z",
     "shell.execute_reply": "2025-10-09T11:07:53.861547Z",
     "shell.execute_reply.started": "2025-10-09T11:07:53.856262Z"
    },
    "trusted": true
   },
   "outputs": [
    {
     "name": "stdout",
     "output_type": "stream",
     "text": [
      "Легальных ходов: 268549/268550\n",
      "Ходов, объявляющих шах: 22601\n"
     ]
    }
   ],
   "source": [
    "print(f\"Легальных ходов: {move_df['is_legal'].sum()}/{len(move_df)}\")\n",
    "print(f\"Ходов, объявляющих шах: {move_df['is_check'].sum()}\")"
   ]
  },
  {
   "cell_type": "code",
   "execution_count": 13,
   "metadata": {
    "execution": {
     "iopub.execute_input": "2025-10-09T11:07:53.863597Z",
     "iopub.status.busy": "2025-10-09T11:07:53.863336Z",
     "iopub.status.idle": "2025-10-09T11:07:53.904366Z",
     "shell.execute_reply": "2025-10-09T11:07:53.903550Z",
     "shell.execute_reply.started": "2025-10-09T11:07:53.863578Z"
    },
    "trusted": true
   },
   "outputs": [
    {
     "data": {
      "application/vnd.microsoft.datawrangler.viewer.v0+json": {
       "columns": [
        {
         "name": "index",
         "rawType": "int64",
         "type": "integer"
        },
        {
         "name": "is_legal",
         "rawType": "bool",
         "type": "boolean"
        },
        {
         "name": "move_types",
         "rawType": "object",
         "type": "unknown"
        },
        {
         "name": "piece_type",
         "rawType": "object",
         "type": "string"
        },
        {
         "name": "move_distance",
         "rawType": "float64",
         "type": "float"
        },
        {
         "name": "is_check",
         "rawType": "bool",
         "type": "boolean"
        }
       ],
       "ref": "06ec87e8-e424-47fa-9154-9837d82f338d",
       "rows": [
        [
         "232329",
         "False",
         "['castling']",
         "K",
         "2.0",
         "True"
        ]
       ],
       "shape": {
        "columns": 5,
        "rows": 1
       }
      },
      "text/html": [
       "<div>\n",
       "<style scoped>\n",
       "    .dataframe tbody tr th:only-of-type {\n",
       "        vertical-align: middle;\n",
       "    }\n",
       "\n",
       "    .dataframe tbody tr th {\n",
       "        vertical-align: top;\n",
       "    }\n",
       "\n",
       "    .dataframe thead th {\n",
       "        text-align: right;\n",
       "    }\n",
       "</style>\n",
       "<table border=\"1\" class=\"dataframe\">\n",
       "  <thead>\n",
       "    <tr style=\"text-align: right;\">\n",
       "      <th></th>\n",
       "      <th>is_legal</th>\n",
       "      <th>move_types</th>\n",
       "      <th>piece_type</th>\n",
       "      <th>move_distance</th>\n",
       "      <th>is_check</th>\n",
       "    </tr>\n",
       "  </thead>\n",
       "  <tbody>\n",
       "    <tr>\n",
       "      <th>232329</th>\n",
       "      <td>False</td>\n",
       "      <td>[castling]</td>\n",
       "      <td>K</td>\n",
       "      <td>2.0</td>\n",
       "      <td>True</td>\n",
       "    </tr>\n",
       "  </tbody>\n",
       "</table>\n",
       "</div>"
      ],
      "text/plain": [
       "        is_legal  move_types piece_type  move_distance  is_check\n",
       "232329     False  [castling]          K            2.0      True"
      ]
     },
     "execution_count": 13,
     "metadata": {},
     "output_type": "execute_result"
    }
   ],
   "source": [
    "move_df[move_df[\"is_legal\"] == False]"
   ]
  },
  {
   "cell_type": "code",
   "execution_count": 14,
   "metadata": {
    "execution": {
     "iopub.execute_input": "2025-10-09T11:07:53.905738Z",
     "iopub.status.busy": "2025-10-09T11:07:53.905407Z",
     "iopub.status.idle": "2025-10-09T11:07:53.917893Z",
     "shell.execute_reply": "2025-10-09T11:07:53.917136Z",
     "shell.execute_reply.started": "2025-10-09T11:07:53.905716Z"
    },
    "trusted": true
   },
   "outputs": [
    {
     "data": {
      "application/vnd.microsoft.datawrangler.viewer.v0+json": {
       "columns": [
        {
         "name": "index",
         "rawType": "int64",
         "type": "integer"
        },
        {
         "name": "fen",
         "rawType": "object",
         "type": "string"
        },
        {
         "name": "move",
         "rawType": "object",
         "type": "string"
        },
        {
         "name": "fen_valid",
         "rawType": "bool",
         "type": "boolean"
        }
       ],
       "ref": "21fdd097-9dd0-48a2-93f5-77443dae748e",
       "rows": [
        [
         "232329",
         "1r2qk1r/ppb3pb/2p1P3/4p2p/4n3/1P1N3P/P1P3PB/1R1BQK1R w KQkq - 0 1",
         "f1h1",
         "True"
        ]
       ],
       "shape": {
        "columns": 3,
        "rows": 1
       }
      },
      "text/html": [
       "<div>\n",
       "<style scoped>\n",
       "    .dataframe tbody tr th:only-of-type {\n",
       "        vertical-align: middle;\n",
       "    }\n",
       "\n",
       "    .dataframe tbody tr th {\n",
       "        vertical-align: top;\n",
       "    }\n",
       "\n",
       "    .dataframe thead th {\n",
       "        text-align: right;\n",
       "    }\n",
       "</style>\n",
       "<table border=\"1\" class=\"dataframe\">\n",
       "  <thead>\n",
       "    <tr style=\"text-align: right;\">\n",
       "      <th></th>\n",
       "      <th>fen</th>\n",
       "      <th>move</th>\n",
       "      <th>fen_valid</th>\n",
       "    </tr>\n",
       "  </thead>\n",
       "  <tbody>\n",
       "    <tr>\n",
       "      <th>232329</th>\n",
       "      <td>1r2qk1r/ppb3pb/2p1P3/4p2p/4n3/1P1N3P/P1P3PB/1R...</td>\n",
       "      <td>f1h1</td>\n",
       "      <td>True</td>\n",
       "    </tr>\n",
       "  </tbody>\n",
       "</table>\n",
       "</div>"
      ],
      "text/plain": [
       "                                                      fen  move  fen_valid\n",
       "232329  1r2qk1r/ppb3pb/2p1P3/4p2p/4n3/1P1N3P/P1P3PB/1R...  f1h1       True"
      ]
     },
     "execution_count": 14,
     "metadata": {},
     "output_type": "execute_result"
    }
   ],
   "source": [
    "# Непонятно, почему посчитало нелегальным ходом\n",
    "data.iloc[move_df[move_df[\"is_legal\"] == False].index]"
   ]
  },
  {
   "cell_type": "code",
   "execution_count": 15,
   "metadata": {
    "execution": {
     "iopub.execute_input": "2025-10-09T11:07:53.919088Z",
     "iopub.status.busy": "2025-10-09T11:07:53.918800Z",
     "iopub.status.idle": "2025-10-09T11:07:53.945046Z",
     "shell.execute_reply": "2025-10-09T11:07:53.944189Z",
     "shell.execute_reply.started": "2025-10-09T11:07:53.919057Z"
    },
    "trusted": true
   },
   "outputs": [
    {
     "data": {
      "application/vnd.microsoft.datawrangler.viewer.v0+json": {
       "columns": [
        {
         "name": "index",
         "rawType": "int64",
         "type": "integer"
        },
        {
         "name": "fen",
         "rawType": "object",
         "type": "string"
        },
        {
         "name": "move",
         "rawType": "object",
         "type": "string"
        },
        {
         "name": "fen_valid",
         "rawType": "bool",
         "type": "boolean"
        }
       ],
       "ref": "cc02a499-1e2d-4dc6-a03a-201f953f175a",
       "rows": [
        [
         "4",
         "rnbqkb1r/pp3ppp/5n2/3p4/2pP4/3B1N2/PPP2PPP/RNBQ1RK1 w kq - 0 1",
         "f1e1",
         "True"
        ],
        [
         "14",
         "8/8/3r4/1pp1p2R/p2k4/P1p5/2B5/2K5 w - - 0 1",
         "h5h4",
         "True"
        ],
        [
         "16",
         "r3k3/5p1p/1pp1n2r/p1p1PRp1/2PbN3/P6P/1PP3P1/R6K w q - 0 1",
         "e4d6",
         "True"
        ],
        [
         "24",
         "r1b2rk1/1p3n1R/p3p1p1/2q2pN1/8/2N4Q/PPP2PP1/2K2B2 w - - 0 1",
         "h7h8",
         "True"
        ],
        [
         "27",
         "7r/R7/P3p3/1P1k4/2p5/4B2p/7b/2K5 w - - 0 1",
         "a7d7",
         "True"
        ],
        [
         "34",
         "3b3r/1p3k2/n1p2p2/P7/1P1p1B2/8/8/4RBK1 w - - 0 1",
         "f1c4",
         "True"
        ],
        [
         "44",
         "rnbqkbnr/pp2pppp/3p4/2p5/4P3/5N2/PPPP1PPP/RNBQKB1R w KQkq - 0 1",
         "f1b5",
         "True"
        ],
        [
         "58",
         "3rrk2/1p4p1/p1p3B1/7p/7b/2P5/PP4RP/R5K1 w - - 0 1",
         "a1f1",
         "True"
        ],
        [
         "75",
         "2rq1k1r/1p1nppbp/p2p1nbB/3P3p/3N4/P1N2P2/1PPQB1P1/R3K2R w KQ - 0 1",
         "h6g7",
         "True"
        ],
        [
         "85",
         "6k1/p6p/P2Np1p1/2b5/1R6/2n3P1/5P1P/6K1 w - - 0 1",
         "b4b8",
         "True"
        ],
        [
         "90",
         "6k1/pp6/7p/4R3/2PBp2b/4Pp1q/P2P1R1P/7K w - - 0 1",
         "e5e8",
         "True"
        ],
        [
         "91",
         "3k4/1p4Q1/4pp2/1p1q1b2/3P4/8/r5PK/3q4 w - - 0 1",
         "g7f6",
         "True"
        ],
        [
         "142",
         "r2r2k1/p4p1p/b3p1q1/8/3pPQ2/5N2/P2K1P1P/6R1 w - - 0 1",
         "g1g6",
         "True"
        ],
        [
         "149",
         "8/8/8/8/1kr2RK1/8/8/8 w - - 0 1",
         "f4c4",
         "True"
        ],
        [
         "158",
         "2r3r1/1b3ppk/3p1q2/2n1pPp1/2PpP1Q1/1p3R2/P5PP/1B2R2K w - - 0 1",
         "f3h3",
         "True"
        ],
        [
         "164",
         "2R5/5k2/1p3rpp/pPbP4/1r3N2/2p3P1/6KP/5R2 w - - 0 1",
         "c8c7",
         "True"
        ],
        [
         "165",
         "5r2/5q1k/3p1Qp1/p1p2b1p/3B4/K1Pp3P/P4P2/3R4 w - - 0 1",
         "f6f7",
         "True"
        ],
        [
         "179",
         "rnbqkbnr/pp2pppp/3p4/2p5/4P3/5N2/PPPP1PPP/RNBQKB1R w KQkq - 0 1",
         "f1b5",
         "True"
        ],
        [
         "192",
         "5k2/2p5/b2pQ3/3P4/p1Pq1PP1/6K1/1P6/8 w - - 0 1",
         "e6h6",
         "True"
        ],
        [
         "206",
         "8/8/8/1pr5/k7/7R/1K6/8 w - - 0 1",
         "h3a3",
         "True"
        ],
        [
         "207",
         "1Rr3k1/2r1qpp1/4p2p/8/3P4/6P1/3QPP1P/1R4K1 w - - 0 1",
         "b8c8",
         "True"
        ],
        [
         "217",
         "r7/p5pp/3k1p2/2p2b2/3p4/2N5/PPPR2PP/6K1 w - - 0 1",
         "c3b5",
         "True"
        ],
        [
         "223",
         "r7/7p/2ppk1p1/3n4/P1BR2PP/5P2/5BK1/1r6 w - - 0 1",
         "d4e4",
         "True"
        ],
        [
         "231",
         "8/5k1p/5bp1/4p3/3nB3/6P1/5PKP/1R6 w - - 0 1",
         "b1b7",
         "True"
        ],
        [
         "244",
         "6k1/8/p6P/3pN1Nq/5P2/4P1K1/P5P1/8 w - - 0 1",
         "h6h7",
         "True"
        ],
        [
         "261",
         "2k5/5p2/2p1p3/p5Q1/Pp3P2/6K1/1q3B1P/8 w - - 0 1",
         "g5g8",
         "True"
        ],
        [
         "281",
         "2r4b/4k3/6RP/p4p2/4b3/1B6/PP6/K2R4 w - - 0 1",
         "g6g7",
         "True"
        ],
        [
         "294",
         "6k1/5pp1/2p2n2/p4Q2/PbP5/5KP1/r4P1P/8 w - - 0 1",
         "f5c8",
         "True"
        ],
        [
         "305",
         "1r1r1k2/Q3q1bp/1p1pp1p1/4np2/1PPN4/P3P3/1BR2PPP/3R2K1 w - - 0 1",
         "a7e7",
         "True"
        ],
        [
         "318",
         "rnbqkb1r/pp2pppp/2p2n2/8/3PN3/8/PPP2PPP/R1BQKBNR w KQkq - 0 1",
         "e4f6",
         "True"
        ],
        [
         "326",
         "r2qkr2/1p5p/2p1P1p1/p1n5/4p3/4B3/PPP1B1PP/R2Q2K1 w q - 0 1",
         "d1d8",
         "True"
        ],
        [
         "343",
         "r2q1r2/p2bnppk/2p1p3/2bpP3/8/5N2/PPP1QPPP/R1B1K2R w KQ - 0 1",
         "f3g5",
         "True"
        ],
        [
         "368",
         "8/8/1p1r4/1P2p3/8/3kpQP1/6KP/8 w - - 0 1",
         "f3d1",
         "True"
        ],
        [
         "376",
         "8/3R2p1/5pNp/2k4P/2p2K2/p2r4/P5P1/4r3 w - - 0 1",
         "d7c7",
         "True"
        ],
        [
         "399",
         "4R3/8/8/5K2/8/r7/2k5/8 w - - 0 1",
         "e8e2",
         "True"
        ],
        [
         "420",
         "8/3r1p1R/8/4p3/4Pkp1/2PKN3/8/8 w - - 0 1",
         "e3d5",
         "True"
        ],
        [
         "436",
         "7R/5k2/2p5/K7/8/5r2/8/8 w - - 0 1",
         "h8h7",
         "True"
        ],
        [
         "438",
         "rn1q2r1/pb4p1/3p1p1k/2p4N/4PP2/2P4Q/P5PP/R4RK1 w - - 0 1",
         "h5f6",
         "True"
        ],
        [
         "481",
         "5k2/4N2R/5pP1/7p/4P1bP/5r2/6K1/8 w - - 0 1",
         "g6g7",
         "True"
        ],
        [
         "491",
         "8/2k5/7R/4N1p1/4K3/8/6r1/6n1 w - - 0 1",
         "h6h7",
         "True"
        ],
        [
         "499",
         "8/5p2/PK4k1/2R5/8/r6p/8/8 w - - 0 1",
         "c5c6",
         "True"
        ],
        [
         "508",
         "8/8/6p1/8/2Q2K2/8/5pq1/4k3 w - - 0 1",
         "c4c3",
         "True"
        ],
        [
         "509",
         "8/pp1R3R/1r4k1/5r1p/1b5P/1P1B2P1/P3p1K1/8 w - - 0 1",
         "h7g7",
         "True"
        ],
        [
         "513",
         "3q2k1/1p3pbp/p4p2/3rpBBQ/8/7P/PP3PP1/6K1 w - - 0 1",
         "h5h7",
         "True"
        ],
        [
         "540",
         "8/6K1/4p3/4Pq2/3nk3/B7/3Q4/8 w - - 0 1",
         "d2g2",
         "True"
        ],
        [
         "550",
         "3r4/7p/8/4k3/PR3p2/3Bp2P/1K6/8 w - - 0 1",
         "b4e4",
         "True"
        ],
        [
         "560",
         "r3r3/qbk4p/p4Qp1/1pbpP3/3N1P2/P1P5/1P4PP/R4R1K w - - 0 1",
         "f6f7",
         "True"
        ],
        [
         "562",
         "4rkr1/pppq1pN1/1b2b2p/1P1p4/2n4B/2PB1Q2/P4PPP/R3R1K1 w - - 0 1",
         "g7e6",
         "True"
        ],
        [
         "576",
         "1R6/5p2/4b1k1/5p2/5P2/1p1KN3/1P6/2r5 w - - 0 1",
         "b8g8",
         "True"
        ],
        [
         "579",
         "8/8/5pp1/6k1/5b2/4Q3/4K3/6rq w - - 0 1",
         "e3c5",
         "True"
        ]
       ],
       "shape": {
        "columns": 3,
        "rows": 22601
       }
      },
      "text/html": [
       "<div>\n",
       "<style scoped>\n",
       "    .dataframe tbody tr th:only-of-type {\n",
       "        vertical-align: middle;\n",
       "    }\n",
       "\n",
       "    .dataframe tbody tr th {\n",
       "        vertical-align: top;\n",
       "    }\n",
       "\n",
       "    .dataframe thead th {\n",
       "        text-align: right;\n",
       "    }\n",
       "</style>\n",
       "<table border=\"1\" class=\"dataframe\">\n",
       "  <thead>\n",
       "    <tr style=\"text-align: right;\">\n",
       "      <th></th>\n",
       "      <th>fen</th>\n",
       "      <th>move</th>\n",
       "      <th>fen_valid</th>\n",
       "    </tr>\n",
       "  </thead>\n",
       "  <tbody>\n",
       "    <tr>\n",
       "      <th>4</th>\n",
       "      <td>rnbqkb1r/pp3ppp/5n2/3p4/2pP4/3B1N2/PPP2PPP/RNB...</td>\n",
       "      <td>f1e1</td>\n",
       "      <td>True</td>\n",
       "    </tr>\n",
       "    <tr>\n",
       "      <th>14</th>\n",
       "      <td>8/8/3r4/1pp1p2R/p2k4/P1p5/2B5/2K5 w - - 0 1</td>\n",
       "      <td>h5h4</td>\n",
       "      <td>True</td>\n",
       "    </tr>\n",
       "    <tr>\n",
       "      <th>16</th>\n",
       "      <td>r3k3/5p1p/1pp1n2r/p1p1PRp1/2PbN3/P6P/1PP3P1/R6...</td>\n",
       "      <td>e4d6</td>\n",
       "      <td>True</td>\n",
       "    </tr>\n",
       "    <tr>\n",
       "      <th>24</th>\n",
       "      <td>r1b2rk1/1p3n1R/p3p1p1/2q2pN1/8/2N4Q/PPP2PP1/2K...</td>\n",
       "      <td>h7h8</td>\n",
       "      <td>True</td>\n",
       "    </tr>\n",
       "    <tr>\n",
       "      <th>27</th>\n",
       "      <td>7r/R7/P3p3/1P1k4/2p5/4B2p/7b/2K5 w - - 0 1</td>\n",
       "      <td>a7d7</td>\n",
       "      <td>True</td>\n",
       "    </tr>\n",
       "    <tr>\n",
       "      <th>...</th>\n",
       "      <td>...</td>\n",
       "      <td>...</td>\n",
       "      <td>...</td>\n",
       "    </tr>\n",
       "    <tr>\n",
       "      <th>268509</th>\n",
       "      <td>rn1qkb1r/ppp1pppp/3p4/4Pb2/1nPP4/5N2/PP3PPP/RN...</td>\n",
       "      <td>d1a4</td>\n",
       "      <td>True</td>\n",
       "    </tr>\n",
       "    <tr>\n",
       "      <th>268514</th>\n",
       "      <td>r5k1/1p1n1ppn/1qr5/4p1N1/pBPb4/P4Q2/1P3PPP/1R1...</td>\n",
       "      <td>f3f7</td>\n",
       "      <td>True</td>\n",
       "    </tr>\n",
       "    <tr>\n",
       "      <th>268541</th>\n",
       "      <td>3rr3/1pR1b2p/p3QBpk/8/8/q4P2/5KPP/7R w - - 0 1</td>\n",
       "      <td>e6h3</td>\n",
       "      <td>True</td>\n",
       "    </tr>\n",
       "    <tr>\n",
       "      <th>268543</th>\n",
       "      <td>2rqnrk1/1p1b1pb1/p2p1Pp1/3N2Pp/2PpP3/1P1Q3P/P1...</td>\n",
       "      <td>d5e7</td>\n",
       "      <td>True</td>\n",
       "    </tr>\n",
       "    <tr>\n",
       "      <th>268546</th>\n",
       "      <td>r1bq1rk1/ppp2ppp/3p4/2bn4/3N4/2P5/PPB2PPP/R1BQ...</td>\n",
       "      <td>c2h7</td>\n",
       "      <td>True</td>\n",
       "    </tr>\n",
       "  </tbody>\n",
       "</table>\n",
       "<p>22601 rows × 3 columns</p>\n",
       "</div>"
      ],
      "text/plain": [
       "                                                      fen  move  fen_valid\n",
       "4       rnbqkb1r/pp3ppp/5n2/3p4/2pP4/3B1N2/PPP2PPP/RNB...  f1e1       True\n",
       "14            8/8/3r4/1pp1p2R/p2k4/P1p5/2B5/2K5 w - - 0 1  h5h4       True\n",
       "16      r3k3/5p1p/1pp1n2r/p1p1PRp1/2PbN3/P6P/1PP3P1/R6...  e4d6       True\n",
       "24      r1b2rk1/1p3n1R/p3p1p1/2q2pN1/8/2N4Q/PPP2PP1/2K...  h7h8       True\n",
       "27             7r/R7/P3p3/1P1k4/2p5/4B2p/7b/2K5 w - - 0 1  a7d7       True\n",
       "...                                                   ...   ...        ...\n",
       "268509  rn1qkb1r/ppp1pppp/3p4/4Pb2/1nPP4/5N2/PP3PPP/RN...  d1a4       True\n",
       "268514  r5k1/1p1n1ppn/1qr5/4p1N1/pBPb4/P4Q2/1P3PPP/1R1...  f3f7       True\n",
       "268541     3rr3/1pR1b2p/p3QBpk/8/8/q4P2/5KPP/7R w - - 0 1  e6h3       True\n",
       "268543  2rqnrk1/1p1b1pb1/p2p1Pp1/3N2Pp/2PpP3/1P1Q3P/P1...  d5e7       True\n",
       "268546  r1bq1rk1/ppp2ppp/3p4/2bn4/3N4/2P5/PPB2PPP/R1BQ...  c2h7       True\n",
       "\n",
       "[22601 rows x 3 columns]"
      ]
     },
     "execution_count": 15,
     "metadata": {},
     "output_type": "execute_result"
    }
   ],
   "source": [
    "data.iloc[move_df[move_df[\"is_check\"] == True].index]"
   ]
  },
  {
   "cell_type": "code",
   "execution_count": 16,
   "metadata": {
    "execution": {
     "iopub.execute_input": "2025-10-09T11:07:53.946389Z",
     "iopub.status.busy": "2025-10-09T11:07:53.946055Z",
     "iopub.status.idle": "2025-10-09T11:07:54.596727Z",
     "shell.execute_reply": "2025-10-09T11:07:54.595725Z",
     "shell.execute_reply.started": "2025-10-09T11:07:53.946362Z"
    },
    "trusted": true
   },
   "outputs": [
    {
     "data": {
      "text/plain": [
       "Text(0.5, 1.0, 'Распределение типов ходов (логарифмический масштаб)')"
      ]
     },
     "execution_count": 16,
     "metadata": {},
     "output_type": "execute_result"
    },
    {
     "data": {
      "image/png": "[encoded data removed]",
      "text/plain": [
       "<Figure size 1500x1000 with 1 Axes>"
      ]
     },
     "metadata": {},
     "output_type": "display_data"
    }
   ],
   "source": [
    "plt.figure(figsize=(15, 10))\n",
    "plt.subplot(2, 3, 1)\n",
    "all_move_types = [\n",
    "    item for sublist in move_df[\"move_types\"].dropna() for item in sublist\n",
    "]\n",
    "move_type_counts = Counter(all_move_types)\n",
    "sns.barplot(y=list(move_type_counts.values()), x=list(move_type_counts.keys()))\n",
    "plt.yscale(\"log\")\n",
    "plt.title(\"Распределение типов ходов (логарифмический масштаб)\")"
   ]
  },
  {
   "cell_type": "code",
   "execution_count": 17,
   "metadata": {
    "execution": {
     "iopub.execute_input": "2025-10-09T11:07:54.597978Z",
     "iopub.status.busy": "2025-10-09T11:07:54.597690Z",
     "iopub.status.idle": "2025-10-09T11:07:54.869355Z",
     "shell.execute_reply": "2025-10-09T11:07:54.868357Z",
     "shell.execute_reply.started": "2025-10-09T11:07:54.597948Z"
    },
    "trusted": true
   },
   "outputs": [
    {
     "data": {
      "text/plain": [
       "Text(0.5, 1.0, 'Фигуры, совершающие ходы')"
      ]
     },
     "execution_count": 17,
     "metadata": {},
     "output_type": "execute_result"
    },
    {
     "data": {
      "image/png": "[encoded data removed]",
      "text/plain": [
       "<Figure size 1500x1000 with 1 Axes>"
      ]
     },
     "metadata": {},
     "output_type": "display_data"
    }
   ],
   "source": [
    "plt.figure(figsize=(15, 10))\n",
    "piece_counts = move_df[\"piece_type\"].value_counts()\n",
    "sns.barplot(y=piece_counts.values, x=piece_counts.index)\n",
    "plt.title(\"Фигуры, совершающие ходы\")"
   ]
  },
  {
   "cell_type": "code",
   "execution_count": 18,
   "metadata": {
    "execution": {
     "iopub.execute_input": "2025-10-09T11:07:54.871512Z",
     "iopub.status.busy": "2025-10-09T11:07:54.870500Z",
     "iopub.status.idle": "2025-10-09T11:07:55.296358Z",
     "shell.execute_reply": "2025-10-09T11:07:55.295357Z",
     "shell.execute_reply.started": "2025-10-09T11:07:54.871487Z"
    },
    "trusted": true
   },
   "outputs": [
    {
     "data": {
      "text/plain": [
       "Text(0.5, 0, 'Количество фигур')"
      ]
     },
     "execution_count": 18,
     "metadata": {},
     "output_type": "execute_result"
    },
    {
     "data": {
      "image/png": "[encoded data removed]",
      "text/plain": [
       "<Figure size 640x480 with 1 Axes>"
      ]
     },
     "metadata": {},
     "output_type": "display_data"
    }
   ],
   "source": [
    "# all_nums_figures_types = [\n",
    "#     item for sublist in fen_df[\"piece_count\"].dropna() for item in sublist\n",
    "# ]\n",
    "nums_figures_counts = Counter(fen_df[\"piece_count\"])\n",
    "sns.barplot(y=list(nums_figures_counts.values()), x=list(nums_figures_counts.keys()))\n",
    "plt.title(\"Распределение количества фигур\")\n",
    "plt.xlabel(\"Количество фигур\")"
   ]
  },
  {
   "cell_type": "code",
   "execution_count": 19,
   "metadata": {
    "execution": {
     "iopub.execute_input": "2025-10-09T11:07:55.297476Z",
     "iopub.status.busy": "2025-10-09T11:07:55.297220Z",
     "iopub.status.idle": "2025-10-09T11:07:55.304076Z",
     "shell.execute_reply": "2025-10-09T11:07:55.302980Z",
     "shell.execute_reply.started": "2025-10-09T11:07:55.297457Z"
    },
    "trusted": true
   },
   "outputs": [],
   "source": [
    "def analyze_tactical_patterns(fen, move_uci):\n",
    "    board = chess.Board(fen)\n",
    "    move = chess.Move.from_uci(move_uci)\n",
    "\n",
    "    patterns = []\n",
    "\n",
    "    # Атака на короля\n",
    "    if board.is_check():\n",
    "        patterns.append(\"check\")\n",
    "\n",
    "    # Связка\n",
    "    for square in chess.SQUARES:\n",
    "        if board.is_pinned(board.turn, square):\n",
    "            patterns.append(\"pin\")\n",
    "            break\n",
    "\n",
    "    # Двойной удар\n",
    "    board.push(move)\n",
    "    attacked_squares = len(\n",
    "        [sq for sq in chess.SQUARES if board.is_attacked_by(board.turn, sq)]\n",
    "    )\n",
    "    board.pop()\n",
    "\n",
    "    # Взятие фигур\n",
    "    if board.is_capture(move):\n",
    "        captured_piece = board.piece_at(move.to_square)\n",
    "        if captured_piece:\n",
    "            patterns.append(f\"capture_{captured_piece.symbol().upper()}\")\n",
    "\n",
    "    return patterns"
   ]
  },
  {
   "cell_type": "code",
   "execution_count": 20,
   "metadata": {
    "execution": {
     "iopub.execute_input": "2025-10-09T11:07:55.305812Z",
     "iopub.status.busy": "2025-10-09T11:07:55.305068Z",
     "iopub.status.idle": "2025-10-09T11:09:01.037656Z",
     "shell.execute_reply": "2025-10-09T11:09:01.036838Z",
     "shell.execute_reply.started": "2025-10-09T11:07:55.305789Z"
    },
    "trusted": true
   },
   "outputs": [
    {
     "name": "stdout",
     "output_type": "stream",
     "text": [
      "Топ тактических паттернов:\n",
      "  pin: 35255\n",
      "  capture_P: 25655\n",
      "  check: 19590\n",
      "  capture_N: 9021\n",
      "  capture_B: 8570\n",
      "  capture_R: 6390\n",
      "  capture_Q: 4057\n"
     ]
    }
   ],
   "source": [
    "# Анализ тактических паттернов\n",
    "data[\"tactical_patterns\"] = data.apply(\n",
    "    lambda row: analyze_tactical_patterns(row[\"fen\"], row[\"move\"]), axis=1\n",
    ")\n",
    "\n",
    "# Анализ частоты тактических паттернов\n",
    "all_patterns = [item for sublist in data[\"tactical_patterns\"] for item in sublist]\n",
    "pattern_counts = Counter(all_patterns)\n",
    "\n",
    "print(\"Топ тактических паттернов:\")\n",
    "for pattern, count in pattern_counts.most_common(10):\n",
    "    print(f\"  {pattern}: {count}\")"
   ]
  },
  {
   "cell_type": "markdown",
   "metadata": {},
   "source": [
    "# Разработка модели\n"
   ]
  },
  {
   "cell_type": "code",
   "execution_count": 21,
   "metadata": {
    "execution": {
     "iopub.execute_input": "2025-10-09T11:09:01.038684Z",
     "iopub.status.busy": "2025-10-09T11:09:01.038480Z",
     "iopub.status.idle": "2025-10-09T11:09:01.054856Z",
     "shell.execute_reply": "2025-10-09T11:09:01.053807Z",
     "shell.execute_reply.started": "2025-10-09T11:09:01.038667Z"
    },
    "trusted": true
   },
   "outputs": [],
   "source": [
    "class DualHeadChessDataset(Dataset):\n",
    "    def __init__(self, csv_file: str):\n",
    "        self.df = pd.read_csv(csv_file)\n",
    "\n",
    "        self._validate_data()\n",
    "        self.piece_to_idx = {\n",
    "            \"P\": 0,\n",
    "            \"N\": 1,\n",
    "            \"B\": 2,\n",
    "            \"R\": 3,\n",
    "            \"Q\": 4,\n",
    "            \"K\": 5,\n",
    "            \"p\": 6,\n",
    "            \"n\": 7,\n",
    "            \"b\": 8,\n",
    "            \"r\": 9,\n",
    "            \"q\": 10,\n",
    "            \"k\": 11,\n",
    "        }\n",
    "\n",
    "    def _validate_data(self):\n",
    "        valid_indices = []\n",
    "        for idx, row in self.df.iterrows():\n",
    "            try:\n",
    "                board = chess.Board(row[\"fen\"])\n",
    "                move = chess.Move.from_uci(row[\"move\"])\n",
    "                if move in board.legal_moves:\n",
    "                    valid_indices.append(idx)\n",
    "            except:\n",
    "                continue\n",
    "\n",
    "        self.df = self.df.loc[valid_indices].reset_index(drop=True)\n",
    "        print(f\"Загружено {len(self.df)} валидных позиций\")\n",
    "\n",
    "    def _board_to_tensor(self, fen: str) -> torch.Tensor:\n",
    "        board = chess.Board(fen)\n",
    "        tensor = torch.zeros(20, 8, 8, dtype=torch.float32)\n",
    "\n",
    "        # Фигуры (плоскости 0-11)\n",
    "        for square in chess.SQUARES:\n",
    "            piece = board.piece_at(square)\n",
    "            if piece:\n",
    "                row, col = square // 8, square % 8\n",
    "                piece_idx = self.piece_to_idx[piece.symbol()]\n",
    "                tensor[piece_idx, row, col] = 1.0\n",
    "\n",
    "        # Чей ход (плоскость 12)\n",
    "        tensor[12] = 1.0 if board.turn else 0.0\n",
    "\n",
    "        # Рокировки (плоскости 13-16)\n",
    "        castling_rights = [\n",
    "            board.has_kingside_castling_rights(chess.WHITE),\n",
    "            board.has_queenside_castling_rights(chess.WHITE),\n",
    "            board.has_kingside_castling_rights(chess.BLACK),\n",
    "            board.has_queenside_castling_rights(chess.BLACK),\n",
    "        ]\n",
    "        for i, has_right in enumerate(castling_rights):\n",
    "            if has_right:\n",
    "                tensor[13 + i] = 1.0\n",
    "\n",
    "        # Взятие на проходе (плоскость 17)\n",
    "        if board.ep_square is not None:\n",
    "            row, col = board.ep_square // 8, board.ep_square % 8\n",
    "            tensor[17, row, col] = 1.0\n",
    "\n",
    "        # Счетчик полуходов (плоскость 18)\n",
    "        tensor[18] = board.halfmove_clock / 50.0\n",
    "\n",
    "        # Номер хода (плоскость 19)\n",
    "        tensor[19] = board.fullmove_number / 500.0\n",
    "\n",
    "        return tensor\n",
    "\n",
    "    def _move_to_dual_labels(self, move_uci: str, fen: str) -> tuple:\n",
    "        board = chess.Board(fen)\n",
    "        move = chess.Move.from_uci(move_uci)\n",
    "\n",
    "        from_square = move.from_square\n",
    "\n",
    "        # Для to_square учитываем превращения\n",
    "        # ДИАПАЗОН ДОЛЖЕН БЫТЬ 0-67 (68 классов)\n",
    "        # print(move.promotion)\n",
    "        if move.promotion:\n",
    "            # Кодируем превращения: 64-68\n",
    "            to_square = 64 + (move.promotion - 1)  # 64, 65, 66, 67, 68\n",
    "        else:\n",
    "            to_square = move.to_square  # 0-63\n",
    "\n",
    "        # Проверяем, что to_square в правильном диапазоне\n",
    "        if to_square >= 69:\n",
    "            raise ValueError(f\"Некорректный to_square: {to_square} для хода {move_uci}\")\n",
    "\n",
    "        return from_square, to_square\n",
    "\n",
    "    def __len__(self):\n",
    "        return len(self.df)\n",
    "\n",
    "    def __getitem__(self, idx):\n",
    "        row = self.df.iloc[idx]\n",
    "        fen = row[\"fen\"]\n",
    "        move = row[\"move\"]\n",
    "\n",
    "        board_tensor = self._board_to_tensor(fen)\n",
    "        from_label, to_label = self._move_to_dual_labels(move, fen)\n",
    "\n",
    "        return board_tensor, from_label, to_label"
   ]
  },
  {
   "cell_type": "code",
   "execution_count": 22,
   "metadata": {
    "execution": {
     "iopub.execute_input": "2025-10-09T11:09:01.056029Z",
     "iopub.status.busy": "2025-10-09T11:09:01.055721Z",
     "iopub.status.idle": "2025-10-09T11:09:01.080462Z",
     "shell.execute_reply": "2025-10-09T11:09:01.079616Z",
     "shell.execute_reply.started": "2025-10-09T11:09:01.056001Z"
    },
    "trusted": true
   },
   "outputs": [],
   "source": [
    "class ChessDataSplitter:\n",
    "    def __init__(\n",
    "        self,\n",
    "        csv_file,\n",
    "        train_ratio=0.7,\n",
    "        val_ratio=0.15,\n",
    "        test_ratio=0.15,\n",
    "        random_state=42,\n",
    "    ):\n",
    "        print(train_ratio, val_ratio, test_ratio)\n",
    "        assert abs(train_ratio + val_ratio + test_ratio - 1.0) < 1e-6, (\n",
    "            \"Сумма долей должна быть равна 1\"\n",
    "        )\n",
    "\n",
    "        self.csv_file = csv_file\n",
    "        self.train_ratio = train_ratio\n",
    "        self.val_ratio = val_ratio\n",
    "        self.test_ratio = test_ratio\n",
    "        self.random_state = random_state\n",
    "\n",
    "        # Загружаем полный dataset\n",
    "        self.full_dataset = DualHeadChessDataset(csv_file)\n",
    "\n",
    "    def split_data(self):\n",
    "        \"\"\"Разбивает данные на train/val/test\"\"\"\n",
    "        # Получаем индексы\n",
    "        n_total = len(self.full_dataset)\n",
    "        indices = list(range(n_total))\n",
    "\n",
    "        # Первое разбиение: отделяем test\n",
    "        train_val_idx, test_idx = train_test_split(\n",
    "            indices,\n",
    "            test_size=self.test_ratio,\n",
    "            random_state=self.random_state,\n",
    "            shuffle=True,\n",
    "        )\n",
    "\n",
    "        # Второе разбиение: разделяем train и val\n",
    "        train_idx, val_idx = train_test_split(\n",
    "            train_val_idx,\n",
    "            test_size=self.val_ratio / (self.train_ratio + self.val_ratio),\n",
    "            random_state=self.random_state,\n",
    "            shuffle=True,\n",
    "        )\n",
    "\n",
    "        # Создаем Subset datasets\n",
    "        train_dataset = Subset(self.full_dataset, train_idx)\n",
    "        val_dataset = Subset(self.full_dataset, val_idx)\n",
    "        test_dataset = Subset(self.full_dataset, test_idx)\n",
    "\n",
    "        print(f\"Разбиение завершено:\")\n",
    "        print(\n",
    "            f\"Train: {len(train_dataset)} samples ({len(train_dataset) / n_total * 100:.1f}%)\"\n",
    "        )\n",
    "        print(\n",
    "            f\"Val: {len(val_dataset)} samples ({len(val_dataset) / n_total * 100:.1f}%)\"\n",
    "        )\n",
    "        print(\n",
    "            f\"Test: {len(test_dataset)} samples ({len(test_dataset) / n_total * 100:.1f}%)\"\n",
    "        )\n",
    "\n",
    "        return train_dataset, val_dataset, test_dataset"
   ]
  },
  {
   "cell_type": "code",
   "execution_count": 23,
   "metadata": {
    "execution": {
     "iopub.execute_input": "2025-10-09T11:09:01.081616Z",
     "iopub.status.busy": "2025-10-09T11:09:01.081380Z",
     "iopub.status.idle": "2025-10-09T11:09:01.101453Z",
     "shell.execute_reply": "2025-10-09T11:09:01.100507Z",
     "shell.execute_reply.started": "2025-10-09T11:09:01.081598Z"
    },
    "trusted": true
   },
   "outputs": [],
   "source": [
    "class DualHeadChessModel(nn.Module):\n",
    "    def __init__(self, device=\"cpu\"):\n",
    "        super().__init__()\n",
    "        self.device = device\n",
    "\n",
    "        # Общая CNN основа (backbone)\n",
    "        self.conv1 = nn.Conv2d(20, 128, 3, padding=1)\n",
    "        self.conv2 = nn.Conv2d(128, 256, 3, padding=1)\n",
    "        self.conv3 = nn.Conv2d(256, 512, 3, padding=1)\n",
    "\n",
    "        # Голова для предсказания исходной клетки (64 клетки)\n",
    "        self.from_fc1 = nn.Linear(512 * 8 * 8, 256)\n",
    "        self.from_output = nn.Linear(256, 64)\n",
    "\n",
    "        # Голова для предсказания целевой клетки (64 клетки + 5 превращения = 69)\n",
    "        self.to_conv = nn.Conv2d(\n",
    "            512 + 64, 256, 3, padding=1\n",
    "        )  # +64 для эмбеддинга исходной клетки\n",
    "        self.to_fc1 = nn.Linear(256 * 8 * 8, 128)\n",
    "        self.to_output = nn.Linear(128, 69)\n",
    "\n",
    "    def forward(self, board_tensor, from_square=None):\n",
    "        # Общие признаки\n",
    "        x = F.relu(self.conv1(board_tensor))\n",
    "        x = F.relu(self.conv2(x))\n",
    "        shared_features = F.relu(self.conv3(x))\n",
    "\n",
    "        # Вероятности для исходной клетки\n",
    "        from_flat = shared_features.view(shared_features.size(0), -1)\n",
    "        from_hidden = F.relu(self.from_fc1(from_flat))\n",
    "        from_probs = F.softmax(self.from_output(from_hidden), dim=1)\n",
    "\n",
    "        if from_square is None:\n",
    "            # Режим обучения - возвращаем обе головы\n",
    "            return from_probs, None\n",
    "\n",
    "        # Вероятности для целевой клетки (условные на исходной клетке)\n",
    "        from_onehot = torch.zeros(shared_features.size(0), 64, 8, 8)\n",
    "        from_onehot[torch.arange(shared_features.size(0)), from_square, :, :] = 1\n",
    "\n",
    "        # Объединяем общие признаки с информацией об исходной клетке\n",
    "        shared_features, from_onehot = shared_features.to(self.device), from_onehot.to(self.device)\n",
    "        to_input = torch.cat([shared_features, from_onehot], dim=1).to(self.device)\n",
    "        to_features = F.relu(self.to_conv(to_input))\n",
    "\n",
    "        to_flat = to_features.view(to_features.size(0), -1).to(self.device)\n",
    "        to_hidden = F.relu(self.to_fc1(to_flat))\n",
    "        to_probs = F.softmax(self.to_output(to_hidden), dim=1)\n",
    "\n",
    "        return from_probs, to_probs"
   ]
  },
  {
   "cell_type": "code",
   "execution_count": 44,
   "metadata": {
    "execution": {
     "iopub.execute_input": "2025-10-09T11:09:01.102811Z",
     "iopub.status.busy": "2025-10-09T11:09:01.102517Z",
     "iopub.status.idle": "2025-10-09T11:09:01.133979Z",
     "shell.execute_reply": "2025-10-09T11:09:01.133259Z",
     "shell.execute_reply.started": "2025-10-09T11:09:01.102790Z"
    },
    "trusted": true
   },
   "outputs": [],
   "source": [
    "class ChessTrainer:\n",
    "    def __init__(self\n",
    "                 ,model\n",
    "                 ,train_loader\n",
    "                 ,val_loader\n",
    "                 ,test_loader\n",
    "                 ,device=\"cpu\"\n",
    "                 ,lr=0.01\n",
    "                 ,weight_decay = 0.1\n",
    "                ):\n",
    "        self.model = model.to(device)\n",
    "        self.train_loader = train_loader\n",
    "        self.val_loader = val_loader\n",
    "        self.test_loader = test_loader\n",
    "        self.device = device\n",
    "        self.lr = lr\n",
    "        self.weight_decay = weight_decay\n",
    "\n",
    "        # Функции потерь\n",
    "        self.from_criterion = nn.CrossEntropyLoss()\n",
    "        self.to_criterion = nn.CrossEntropyLoss()\n",
    "\n",
    "        # Оптимизатор\n",
    "        self.optimizer = optim.AdamW(model.parameters(), lr=self.lr, weight_decay = self.weight_decay, amsgrad=True)\n",
    "\n",
    "        # Планировщик learning rate\n",
    "        self.scheduler = optim.lr_scheduler.StepLR(\n",
    "            self.optimizer, step_size=5, gamma=0.5\n",
    "        )\n",
    "\n",
    "        # История обучения\n",
    "        self.history = {\n",
    "            \"train_loss\": [],\n",
    "            \"val_loss\": [],\n",
    "            \"train_from_acc\": [],\n",
    "            \"val_from_acc\": [],\n",
    "            \"train_to_acc\": [],\n",
    "            \"val_to_acc\": [],\n",
    "            \"learning_rate\": [],\n",
    "        }\n",
    "\n",
    "    def train_epoch(self):\n",
    "        \"\"\"Одна эпоха обучения\"\"\"\n",
    "        self.model.train()\n",
    "        total_loss = 0\n",
    "        total_from_correct = 0\n",
    "        total_to_correct = 0\n",
    "        total_samples = 0\n",
    "\n",
    "        train_bar = tqdm(self.train_loader, desc=\"Training\")\n",
    "\n",
    "        for batch_idx, (boards, from_targets, to_targets) in enumerate(train_bar):\n",
    "            # Перемещаем данные на device\n",
    "            boards = boards.to(self.device)\n",
    "            from_targets = from_targets.to(self.device)\n",
    "            to_targets = to_targets.to(self.device)\n",
    "\n",
    "            # Обнуляем градиенты\n",
    "            self.optimizer.zero_grad()\n",
    "\n",
    "            # Прямой проход\n",
    "            from_probs, to_probs = self.model(boards, from_targets)\n",
    "\n",
    "            # Вычисляем потери\n",
    "            # print(to_probs, to_targets)\n",
    "            from_loss = self.from_criterion(from_probs, from_targets)\n",
    "            to_loss = self.to_criterion(to_probs, to_targets)\n",
    "            loss = from_loss + to_loss\n",
    "\n",
    "            # Обратный проход\n",
    "            loss.backward()\n",
    "\n",
    "            # Gradient clipping\n",
    "            torch.nn.utils.clip_grad_norm_(self.model.parameters(), max_norm=1.0)\n",
    "\n",
    "            # Шаг оптимизатора\n",
    "            self.optimizer.step()\n",
    "\n",
    "            # Статистика\n",
    "            total_loss += loss.item()\n",
    "            batch_size = boards.size(0)\n",
    "            total_samples += batch_size\n",
    "\n",
    "            # Точность для from-square\n",
    "            from_preds = torch.argmax(from_probs, dim=1)\n",
    "            from_correct = (from_preds == from_targets).sum().item()\n",
    "            total_from_correct += from_correct\n",
    "\n",
    "            # Точность для to-square\n",
    "            to_preds = torch.argmax(to_probs, dim=1)\n",
    "            to_correct = (to_preds == to_targets).sum().item()\n",
    "            total_to_correct += to_correct\n",
    "\n",
    "            # Обновляем progress bar\n",
    "            train_bar.set_postfix(\n",
    "                {\n",
    "                    \"Loss\": f\"{loss.item():.4f}\",\n",
    "                    \"From Acc\": f\"{from_correct / batch_size:.3f}\",\n",
    "                    \"To Acc\": f\"{to_correct / batch_size:.3f}\",\n",
    "                }\n",
    "            )\n",
    "\n",
    "        # Вычисляем средние метрики за эпоху\n",
    "        avg_loss = total_loss / len(self.train_loader)\n",
    "        from_acc = total_from_correct / total_samples\n",
    "        to_acc = total_to_correct / total_samples\n",
    "\n",
    "        return avg_loss, from_acc, to_acc\n",
    "\n",
    "    def validate(self):\n",
    "        \"\"\"Валидация модели\"\"\"\n",
    "        self.model.eval()\n",
    "        total_loss = 0\n",
    "        total_from_correct = 0\n",
    "        total_to_correct = 0\n",
    "        total_samples = 0\n",
    "\n",
    "        with torch.no_grad():\n",
    "            for boards, from_targets, to_targets in tqdm(\n",
    "                self.val_loader, desc=\"Validation\"\n",
    "            ):\n",
    "                boards = boards.to(self.device)\n",
    "                from_targets = from_targets.to(self.device)\n",
    "                to_targets = to_targets.to(self.device)\n",
    "\n",
    "                # Прямой проход\n",
    "                from_probs, to_probs = self.model(boards, from_targets)\n",
    "\n",
    "                # Потери\n",
    "                from_loss = self.from_criterion(from_probs, from_targets)\n",
    "                to_loss = self.to_criterion(to_probs, to_targets)\n",
    "                loss = from_loss + to_loss\n",
    "\n",
    "                total_loss += loss.item()\n",
    "                batch_size = boards.size(0)\n",
    "                total_samples += batch_size\n",
    "\n",
    "                # Точность\n",
    "                from_preds = torch.argmax(from_probs, dim=1)\n",
    "                # print(from_probs, from_preds, from_targets)\n",
    "                from_correct = (from_preds == from_targets).sum().item()\n",
    "                total_from_correct += from_correct\n",
    "\n",
    "                to_preds = torch.argmax(to_probs, dim=1)\n",
    "                to_correct = (to_preds == to_targets).sum().item()\n",
    "                total_to_correct += to_correct\n",
    "\n",
    "        avg_loss = total_loss / len(self.val_loader)\n",
    "        from_acc = total_from_correct / total_samples\n",
    "        to_acc = total_to_correct / total_samples\n",
    "\n",
    "        return avg_loss, from_acc, to_acc\n",
    "\n",
    "    def train(self, num_epochs=50, early_stopping_patience=10):\n",
    "        \"\"\"Полный цикл обучения\"\"\"\n",
    "        best_val_loss = float(\"inf\")\n",
    "        patience_counter = 0\n",
    "\n",
    "        print(\"Начало обучения...\")\n",
    "        print(f\"Используется устройство: {self.device}\")\n",
    "        print(f\"Размер тренировочного набора: {len(self.train_loader.dataset)}\")\n",
    "        print(f\"Размер валидационного набора: {len(self.val_loader.dataset)}\")\n",
    "\n",
    "        for epoch in range(num_epochs):\n",
    "            print(f\"\\nЭпоха {epoch + 1}/{num_epochs}\")\n",
    "            print(\"-\" * 50)\n",
    "\n",
    "            # Обучение\n",
    "            train_loss, train_from_acc, train_to_acc = self.train_epoch()\n",
    "\n",
    "            # Валидация\n",
    "            val_loss, val_from_acc, val_to_acc = self.validate()\n",
    "\n",
    "            # Обновление learning rate\n",
    "            self.scheduler.step()\n",
    "            current_lr = self.optimizer.param_groups[0][\"lr\"]\n",
    "\n",
    "            # Сохраняем историю\n",
    "            self.history[\"train_loss\"].append(train_loss)\n",
    "            self.history[\"val_loss\"].append(val_loss)\n",
    "            self.history[\"train_from_acc\"].append(train_from_acc)\n",
    "            self.history[\"val_from_acc\"].append(val_from_acc)\n",
    "            self.history[\"train_to_acc\"].append(train_to_acc)\n",
    "            self.history[\"val_to_acc\"].append(val_to_acc)\n",
    "            self.history[\"learning_rate\"].append(current_lr)\n",
    "\n",
    "            # Выводим результаты\n",
    "            print(f\"Train Loss: {train_loss:.4f} | Val Loss: {val_loss:.4f}\")\n",
    "            print(\n",
    "                f\"Train From Acc: {train_from_acc:.4f} | Val From Acc: {val_from_acc:.4f}\"\n",
    "            )\n",
    "            print(f\"Train To Acc: {train_to_acc:.4f} | Val To Acc: {val_to_acc:.4f}\")\n",
    "            print(f\"Learning Rate: {current_lr:.6f}\")\n",
    "\n",
    "            # Сохранение лучшей модели\n",
    "            if val_loss < best_val_loss:\n",
    "                best_val_loss = val_loss\n",
    "                patience_counter = 0\n",
    "                self.save_model(f\"best_chess_model.pth\")\n",
    "                print(\"Сохранена лучшая модель!\")\n",
    "            else:\n",
    "                patience_counter += 1\n",
    "                print(\n",
    "                    f\"Early stopping: {patience_counter}/{early_stopping_patience}\"\n",
    "                )\n",
    "\n",
    "            # Early stopping\n",
    "            if patience_counter >= early_stopping_patience:\n",
    "                print(\"Ранняя остановка!\")\n",
    "                break\n",
    "\n",
    "        print(\"\\nОбучение завершено!\")\n",
    "\n",
    "    def evaluate(self):\n",
    "        \"\"\"Финальная оценка на тестовом наборе\"\"\"\n",
    "        print(\"\\nОценка на тестовом наборе...\")\n",
    "        self.model.eval()\n",
    "\n",
    "        total_from_correct = 0\n",
    "        total_to_correct = 0\n",
    "        total_full_correct = 0\n",
    "        total_samples = 0\n",
    "\n",
    "        with torch.no_grad():\n",
    "            for boards, from_targets, to_targets in tqdm(\n",
    "                self.test_loader, desc=\"Testing\"\n",
    "            ):\n",
    "                boards = boards.to(self.device)\n",
    "                from_targets = from_targets.to(self.device)\n",
    "                to_targets = to_targets.to(self.device)\n",
    "\n",
    "                # Предсказание from-square\n",
    "                from_probs, _ = self.model(boards)\n",
    "                from_preds = torch.argmax(from_probs, dim=1)\n",
    "\n",
    "                # Предсказание to-square (используя правильные from-square для честной оценки)\n",
    "                _, to_probs = self.model(boards, from_targets)\n",
    "                to_preds = torch.argmax(to_probs, dim=1)\n",
    "\n",
    "                # Подсчет правильных предсказаний\n",
    "                from_correct = (from_preds == from_targets).sum().item()\n",
    "                to_correct = (to_preds == to_targets).sum().item()\n",
    "                full_correct = (\n",
    "                    ((from_preds == from_targets) & (to_preds == to_targets))\n",
    "                    .sum()\n",
    "                    .item()\n",
    "                )\n",
    "\n",
    "                total_from_correct += from_correct\n",
    "                total_to_correct += to_correct\n",
    "                total_full_correct += full_correct\n",
    "                total_samples += boards.size(0)\n",
    "\n",
    "        from_acc = total_from_correct / total_samples\n",
    "        to_acc = total_to_correct / total_samples\n",
    "        full_acc = total_full_correct / total_samples\n",
    "\n",
    "        print(f\"\\nРезультаты на тестовом наборе:\")\n",
    "        print(f\"From-square Accuracy: {from_acc:.4f}\")\n",
    "        print(f\"To-square Accuracy: {to_acc:.4f}\")\n",
    "        print(f\"Full Move Accuracy: {full_acc:.4f}\")\n",
    "\n",
    "        return from_acc, to_acc, full_acc\n",
    "\n",
    "    def save_model(self, path):\n",
    "        \"\"\"Сохранение модели\"\"\"\n",
    "        torch.save(\n",
    "            {\n",
    "                \"model_state_dict\": self.model.state_dict(),\n",
    "                \"optimizer_state_dict\": self.optimizer.state_dict(),\n",
    "                \"history\": self.history,\n",
    "            },\n",
    "            path,\n",
    "        )\n",
    "\n",
    "    def load_model(self, path):\n",
    "        \"\"\"Загрузка модели\"\"\"\n",
    "        checkpoint = torch.load(path, map_location=self.device)\n",
    "        self.model.load_state_dict(checkpoint[\"model_state_dict\"])\n",
    "        self.optimizer.load_state_dict(checkpoint[\"optimizer_state_dict\"])\n",
    "        self.history = checkpoint[\"history\"]\n",
    "\n",
    "    def plot_training_history(self):\n",
    "        \"\"\"Визуализация истории обучения\"\"\"\n",
    "        import matplotlib.pyplot as plt\n",
    "\n",
    "        fig, ((ax1, ax2), (ax3, ax4)) = plt.subplots(2, 2, figsize=(15, 10))\n",
    "\n",
    "        # Потери\n",
    "        ax1.plot(self.history[\"train_loss\"], label=\"Train Loss\")\n",
    "        ax1.plot(self.history[\"val_loss\"], label=\"Val Loss\")\n",
    "        ax1.set_title(\"Потери\")\n",
    "        ax1.set_xlabel(\"Эпоха\")\n",
    "        ax1.set_ylabel(\"Loss\")\n",
    "        ax1.legend()\n",
    "        ax1.grid(True)\n",
    "\n",
    "        # From-square точность\n",
    "        ax2.plot(self.history[\"train_from_acc\"], label=\"Train From Acc\")\n",
    "        ax2.plot(self.history[\"val_from_acc\"], label=\"Val From Acc\")\n",
    "        ax2.set_title(\"From-square Точность\")\n",
    "        ax2.set_xlabel(\"Эпоха\")\n",
    "        ax2.set_ylabel(\"Accuracy\")\n",
    "        ax2.legend()\n",
    "        ax2.grid(True)\n",
    "\n",
    "        # To-square точность\n",
    "        ax3.plot(self.history[\"train_to_acc\"], label=\"Train To Acc\")\n",
    "        ax3.plot(self.history[\"val_to_acc\"], label=\"Val To Acc\")\n",
    "        ax3.set_title(\"To-square Точность\")\n",
    "        ax3.set_xlabel(\"Эпоха\")\n",
    "        ax3.set_ylabel(\"Accuracy\")\n",
    "        ax3.legend()\n",
    "        ax3.grid(True)\n",
    "\n",
    "        # Learning rate\n",
    "        ax4.plot(self.history[\"learning_rate\"])\n",
    "        ax4.set_title(\"Learning Rate\")\n",
    "        ax4.set_xlabel(\"Эпоха\")\n",
    "        ax4.set_ylabel(\"LR\")\n",
    "        ax4.grid(True)\n",
    "\n",
    "        plt.tight_layout()\n",
    "        plt.savefig(\"training_history.png\", dpi=300, bbox_inches=\"tight\")\n",
    "        plt.show()"
   ]
  },
  {
   "cell_type": "code",
   "execution_count": 45,
   "metadata": {
    "execution": {
     "iopub.execute_input": "2025-10-09T11:09:01.135171Z",
     "iopub.status.busy": "2025-10-09T11:09:01.134876Z",
     "iopub.status.idle": "2025-10-09T11:09:01.155262Z",
     "shell.execute_reply": "2025-10-09T11:09:01.154505Z",
     "shell.execute_reply.started": "2025-10-09T11:09:01.135146Z"
    },
    "trusted": true
   },
   "outputs": [],
   "source": [
    "def main():\n",
    "    device = torch.device(\"cuda\" if torch.cuda.is_available() else \"cpu\")\n",
    "    print(f\"Используется устройство: {device}\")\n",
    "\n",
    "    # Загрузка данных\n",
    "    print(\"Загрузка данных...\")\n",
    "    splitter = ChessDataSplitter(\n",
    "        test_ratio=0.01,\n",
    "        val_ratio=0.2 * (1 - 0.01),\n",
    "        train_ratio=0.8 * (1 - 0.01),\n",
    "        csv_file=\"fens_training_set.csv\",\n",
    "    )\n",
    "    train_dataset, val_dataset, test_dataset = splitter.split_data()\n",
    "    train_loader = DataLoader(train_dataset, batch_size=128, shuffle=True, num_workers=0)\n",
    "    val_loader = DataLoader(val_dataset, batch_size=128, shuffle=False, num_workers=0)\n",
    "    test_loader = DataLoader(test_dataset, batch_size=10, shuffle=False, num_workers=0)\n",
    "\n",
    "    # Модель\n",
    "    print(\"Инициализация модели...\")\n",
    "    model = DualHeadChessModel(device=device)\n",
    "\n",
    "    # Тренер\n",
    "    trainer = ChessTrainer(model, train_loader, val_loader, test_loader, device=device, lr=0.9, weight_decay = 0.9)\n",
    "\n",
    "    # Обучение\n",
    "    trainer.train(num_epochs=20, early_stopping_patience=15)\n",
    "\n",
    "    trainer.plot_training_history()\n",
    "\n",
    "    # # Сохранение финальной модели\n",
    "    # trainer.save_model(\"final_chess_model.pth\")\n",
    "    # print(\"Модель сохранена!\")"
   ]
  },
  {
   "cell_type": "code",
   "execution_count": 46,
   "metadata": {
    "execution": {
     "iopub.execute_input": "2025-10-09T11:09:01.156446Z",
     "iopub.status.busy": "2025-10-09T11:09:01.156193Z"
    },
    "trusted": true
   },
   "outputs": [
    {
     "name": "stdout",
     "output_type": "stream",
     "text": [
      "Используется устройство: cuda\n",
      "Загрузка данных...\n",
      "0.792 0.198 0.01\n",
      "Загружено 268549 валидных позиций\n",
      "Разбиение завершено:\n",
      "Train: 212690 samples (79.2%)\n",
      "Val: 53173 samples (19.8%)\n",
      "Test: 2686 samples (1.0%)\n",
      "Инициализация модели...\n",
      "Начало обучения...\n",
      "Используется устройство: cuda\n",
      "Размер тренировочного набора: 212690\n",
      "Размер валидационного набора: 53173\n",
      "\n",
      "Эпоха 1/20\n",
      "--------------------------------------------------\n"
     ]
    },
    {
     "name": "stderr",
     "output_type": "stream",
     "text": [
      "Training: 100%|██████████| 1662/1662 [01:40<00:00, 16.61it/s, Loss=8.3820, From Acc=0.024, To Acc=0.012]\n",
      "Validation: 100%|██████████| 416/416 [00:18<00:00, 22.52it/s]\n"
     ]
    },
    {
     "name": "stdout",
     "output_type": "stream",
     "text": [
      "Train Loss: 8.3759 | Val Loss: 8.3774\n",
      "Train From Acc: 0.0375 | Val From Acc: 0.0399\n",
      "Train To Acc: 0.0343 | Val To Acc: 0.0307\n",
      "Learning Rate: 0.900000\n",
      "Сохранена лучшая модель!\n",
      "\n",
      "Эпоха 2/20\n",
      "--------------------------------------------------\n"
     ]
    },
    {
     "name": "stderr",
     "output_type": "stream",
     "text": [
      "Training: 100%|██████████| 1662/1662 [01:39<00:00, 16.62it/s, Loss=8.3852, From Acc=0.037, To Acc=0.012]\n",
      "Validation: 100%|██████████| 416/416 [00:18<00:00, 22.36it/s]\n"
     ]
    },
    {
     "name": "stdout",
     "output_type": "stream",
     "text": [
      "Train Loss: 8.3771 | Val Loss: 8.3770\n",
      "Train From Acc: 0.0362 | Val From Acc: 0.0295\n",
      "Train To Acc: 0.0344 | Val To Acc: 0.0391\n",
      "Learning Rate: 0.900000\n",
      "Сохранена лучшая модель!\n",
      "\n",
      "Эпоха 3/20\n",
      "--------------------------------------------------\n"
     ]
    },
    {
     "name": "stderr",
     "output_type": "stream",
     "text": [
      "Training: 100%|██████████| 1662/1662 [01:40<00:00, 16.49it/s, Loss=8.3762, From Acc=0.049, To Acc=0.012]\n",
      "Validation: 100%|██████████| 416/416 [00:18<00:00, 22.09it/s]\n"
     ]
    },
    {
     "name": "stdout",
     "output_type": "stream",
     "text": [
      "Train Loss: 8.3785 | Val Loss: 8.3786\n",
      "Train From Acc: 0.0342 | Val From Acc: 0.0295\n",
      "Train To Acc: 0.0331 | Val To Acc: 0.0391\n",
      "Learning Rate: 0.900000\n",
      "Early stopping: 1/15\n",
      "\n",
      "Эпоха 4/20\n",
      "--------------------------------------------------\n"
     ]
    },
    {
     "name": "stderr",
     "output_type": "stream",
     "text": [
      "Training: 100%|██████████| 1662/1662 [01:40<00:00, 16.52it/s, Loss=8.3799, From Acc=0.061, To Acc=0.037]\n",
      "Validation: 100%|██████████| 416/416 [00:18<00:00, 22.49it/s]\n"
     ]
    },
    {
     "name": "stdout",
     "output_type": "stream",
     "text": [
      "Train Loss: 8.3787 | Val Loss: 8.3793\n",
      "Train From Acc: 0.0339 | Val From Acc: 0.0399\n",
      "Train To Acc: 0.0330 | Val To Acc: 0.0275\n",
      "Learning Rate: 0.900000\n",
      "Early stopping: 2/15\n",
      "\n",
      "Эпоха 5/20\n",
      "--------------------------------------------------\n"
     ]
    },
    {
     "name": "stderr",
     "output_type": "stream",
     "text": [
      "Training: 100%|██████████| 1662/1662 [01:40<00:00, 16.50it/s, Loss=8.3814, From Acc=0.012, To Acc=0.012]\n",
      "Validation: 100%|██████████| 416/416 [00:18<00:00, 21.94it/s]\n"
     ]
    },
    {
     "name": "stdout",
     "output_type": "stream",
     "text": [
      "Train Loss: 8.3787 | Val Loss: 8.3795\n",
      "Train From Acc: 0.0341 | Val From Acc: 0.0390\n",
      "Train To Acc: 0.0336 | Val To Acc: 0.0307\n",
      "Learning Rate: 0.450000\n",
      "Early stopping: 3/15\n",
      "\n",
      "Эпоха 6/20\n",
      "--------------------------------------------------\n"
     ]
    },
    {
     "name": "stderr",
     "output_type": "stream",
     "text": [
      "Training: 100%|██████████| 1662/1662 [01:41<00:00, 16.34it/s, Loss=8.3753, From Acc=0.061, To Acc=0.061]\n",
      "Validation: 100%|██████████| 416/416 [00:19<00:00, 21.11it/s]\n"
     ]
    },
    {
     "name": "stdout",
     "output_type": "stream",
     "text": [
      "Train Loss: 8.3789 | Val Loss: 8.3787\n",
      "Train From Acc: 0.0363 | Val From Acc: 0.0339\n",
      "Train To Acc: 0.0332 | Val To Acc: 0.0297\n",
      "Learning Rate: 0.450000\n",
      "Early stopping: 4/15\n",
      "\n",
      "Эпоха 7/20\n",
      "--------------------------------------------------\n"
     ]
    },
    {
     "name": "stderr",
     "output_type": "stream",
     "text": [
      "Training: 100%|██████████| 1662/1662 [01:40<00:00, 16.62it/s, Loss=8.3809, From Acc=0.024, To Acc=0.000]\n",
      "Validation: 100%|██████████| 416/416 [00:18<00:00, 22.44it/s]\n"
     ]
    },
    {
     "name": "stdout",
     "output_type": "stream",
     "text": [
      "Train Loss: 8.3790 | Val Loss: 8.3781\n",
      "Train From Acc: 0.0355 | Val From Acc: 0.0317\n",
      "Train To Acc: 0.0326 | Val To Acc: 0.0307\n",
      "Learning Rate: 0.450000\n",
      "Early stopping: 5/15\n",
      "\n",
      "Эпоха 8/20\n",
      "--------------------------------------------------\n"
     ]
    },
    {
     "name": "stderr",
     "output_type": "stream",
     "text": [
      "Training: 100%|██████████| 1662/1662 [01:39<00:00, 16.66it/s, Loss=8.3766, From Acc=0.049, To Acc=0.024]\n",
      "Validation: 100%|██████████| 416/416 [00:18<00:00, 22.44it/s]\n"
     ]
    },
    {
     "name": "stdout",
     "output_type": "stream",
     "text": [
      "Train Loss: 8.3790 | Val Loss: 8.3782\n",
      "Train From Acc: 0.0347 | Val From Acc: 0.0370\n",
      "Train To Acc: 0.0323 | Val To Acc: 0.0398\n",
      "Learning Rate: 0.450000\n",
      "Early stopping: 6/15\n",
      "\n",
      "Эпоха 9/20\n",
      "--------------------------------------------------\n"
     ]
    },
    {
     "name": "stderr",
     "output_type": "stream",
     "text": [
      "Training: 100%|██████████| 1662/1662 [01:39<00:00, 16.64it/s, Loss=8.3792, From Acc=0.049, To Acc=0.024]\n",
      "Validation: 100%|██████████| 416/416 [00:18<00:00, 22.14it/s]\n"
     ]
    },
    {
     "name": "stdout",
     "output_type": "stream",
     "text": [
      "Train Loss: 8.3791 | Val Loss: 8.3790\n",
      "Train From Acc: 0.0335 | Val From Acc: 0.0399\n",
      "Train To Acc: 0.0331 | Val To Acc: 0.0314\n",
      "Learning Rate: 0.450000\n",
      "Early stopping: 7/15\n",
      "\n",
      "Эпоха 10/20\n",
      "--------------------------------------------------\n"
     ]
    },
    {
     "name": "stderr",
     "output_type": "stream",
     "text": [
      "Training: 100%|██████████| 1662/1662 [01:40<00:00, 16.55it/s, Loss=8.3751, From Acc=0.024, To Acc=0.024]\n",
      "Validation: 100%|██████████| 416/416 [00:19<00:00, 21.83it/s]\n"
     ]
    },
    {
     "name": "stdout",
     "output_type": "stream",
     "text": [
      "Train Loss: 8.3790 | Val Loss: 8.3791\n",
      "Train From Acc: 0.0348 | Val From Acc: 0.0216\n",
      "Train To Acc: 0.0336 | Val To Acc: 0.0316\n",
      "Learning Rate: 0.225000\n",
      "Early stopping: 8/15\n",
      "\n",
      "Эпоха 11/20\n",
      "--------------------------------------------------\n"
     ]
    },
    {
     "name": "stderr",
     "output_type": "stream",
     "text": [
      "Training: 100%|██████████| 1662/1662 [01:40<00:00, 16.51it/s, Loss=8.3768, From Acc=0.049, To Acc=0.049]\n",
      "Validation: 100%|██████████| 416/416 [00:18<00:00, 22.02it/s]\n"
     ]
    },
    {
     "name": "stdout",
     "output_type": "stream",
     "text": [
      "Train Loss: 8.3792 | Val Loss: 8.3785\n",
      "Train From Acc: 0.0355 | Val From Acc: 0.0339\n",
      "Train To Acc: 0.0318 | Val To Acc: 0.0307\n",
      "Learning Rate: 0.225000\n",
      "Early stopping: 9/15\n",
      "\n",
      "Эпоха 12/20\n",
      "--------------------------------------------------\n"
     ]
    },
    {
     "name": "stderr",
     "output_type": "stream",
     "text": [
      "Training: 100%|██████████| 1662/1662 [01:40<00:00, 16.47it/s, Loss=8.3780, From Acc=0.024, To Acc=0.012]\n",
      "Validation: 100%|██████████| 416/416 [00:18<00:00, 21.94it/s]\n"
     ]
    },
    {
     "name": "stdout",
     "output_type": "stream",
     "text": [
      "Train Loss: 8.3792 | Val Loss: 8.3797\n",
      "Train From Acc: 0.0361 | Val From Acc: 0.0292\n",
      "Train To Acc: 0.0307 | Val To Acc: 0.0314\n",
      "Learning Rate: 0.225000\n",
      "Early stopping: 10/15\n",
      "\n",
      "Эпоха 13/20\n",
      "--------------------------------------------------\n"
     ]
    },
    {
     "name": "stderr",
     "output_type": "stream",
     "text": [
      "Training: 100%|██████████| 1662/1662 [01:40<00:00, 16.49it/s, Loss=8.3847, From Acc=0.037, To Acc=0.024]\n",
      "Validation: 100%|██████████| 416/416 [00:18<00:00, 21.93it/s]\n"
     ]
    },
    {
     "name": "stdout",
     "output_type": "stream",
     "text": [
      "Train Loss: 8.3793 | Val Loss: 8.3794\n",
      "Train From Acc: 0.0349 | Val From Acc: 0.0390\n",
      "Train To Acc: 0.0314 | Val To Acc: 0.0314\n",
      "Learning Rate: 0.225000\n",
      "Early stopping: 11/15\n",
      "\n",
      "Эпоха 14/20\n",
      "--------------------------------------------------\n"
     ]
    },
    {
     "name": "stderr",
     "output_type": "stream",
     "text": [
      "Training: 100%|██████████| 1662/1662 [01:40<00:00, 16.47it/s, Loss=8.3789, From Acc=0.061, To Acc=0.000]\n",
      "Validation: 100%|██████████| 416/416 [00:18<00:00, 22.31it/s]\n"
     ]
    },
    {
     "name": "stdout",
     "output_type": "stream",
     "text": [
      "Train Loss: 8.3792 | Val Loss: 8.3789\n",
      "Train From Acc: 0.0360 | Val From Acc: 0.0317\n",
      "Train To Acc: 0.0318 | Val To Acc: 0.0318\n",
      "Learning Rate: 0.225000\n",
      "Early stopping: 12/15\n",
      "\n",
      "Эпоха 15/20\n",
      "--------------------------------------------------\n"
     ]
    },
    {
     "name": "stderr",
     "output_type": "stream",
     "text": [
      "Training: 100%|██████████| 1662/1662 [01:40<00:00, 16.46it/s, Loss=8.3787, From Acc=0.024, To Acc=0.049]\n",
      "Validation: 100%|██████████| 416/416 [00:18<00:00, 22.03it/s]\n"
     ]
    },
    {
     "name": "stdout",
     "output_type": "stream",
     "text": [
      "Train Loss: 8.3793 | Val Loss: 8.3795\n",
      "Train From Acc: 0.0361 | Val From Acc: 0.0262\n",
      "Train To Acc: 0.0308 | Val To Acc: 0.0302\n",
      "Learning Rate: 0.112500\n",
      "Early stopping: 13/15\n",
      "\n",
      "Эпоха 16/20\n",
      "--------------------------------------------------\n"
     ]
    },
    {
     "name": "stderr",
     "output_type": "stream",
     "text": [
      "Training: 100%|██████████| 1662/1662 [01:40<00:00, 16.46it/s, Loss=8.3789, From Acc=0.012, To Acc=0.024]\n",
      "Validation: 100%|██████████| 416/416 [00:18<00:00, 22.13it/s]\n"
     ]
    },
    {
     "name": "stdout",
     "output_type": "stream",
     "text": [
      "Train Loss: 8.3793 | Val Loss: 8.3789\n",
      "Train From Acc: 0.0362 | Val From Acc: 0.0390\n",
      "Train To Acc: 0.0312 | Val To Acc: 0.0266\n",
      "Learning Rate: 0.112500\n",
      "Early stopping: 14/15\n",
      "\n",
      "Эпоха 17/20\n",
      "--------------------------------------------------\n"
     ]
    },
    {
     "name": "stderr",
     "output_type": "stream",
     "text": [
      "Training: 100%|██████████| 1662/1662 [01:40<00:00, 16.47it/s, Loss=8.3822, From Acc=0.000, To Acc=0.012]\n",
      "Validation: 100%|██████████| 416/416 [00:19<00:00, 21.89it/s]\n"
     ]
    },
    {
     "name": "stdout",
     "output_type": "stream",
     "text": [
      "Train Loss: 8.3793 | Val Loss: 8.3797\n",
      "Train From Acc: 0.0359 | Val From Acc: 0.0399\n",
      "Train To Acc: 0.0318 | Val To Acc: 0.0297\n",
      "Learning Rate: 0.112500\n",
      "Early stopping: 15/15\n",
      "Ранняя остановка!\n",
      "\n",
      "Обучение завершено!\n"
     ]
    },
    {
     "data": {
      "image/png": "[encoded data removed]",
      "text/plain": [
       "<Figure size 1500x1000 with 4 Axes>"
      ]
     },
     "metadata": {},
     "output_type": "display_data"
    }
   ],
   "source": [
    "if __name__ == \"__main__\":\n",
    "    main()"
   ]
  },
  {
   "cell_type": "code",
   "execution_count": null,
   "metadata": {
    "trusted": true
   },
   "outputs": [],
   "source": []
  },
  {
   "cell_type": "code",
   "execution_count": null,
   "metadata": {
    "trusted": true
   },
   "outputs": [],
   "source": []
  }
 ],
 "metadata": {
  "kaggle": {
   "accelerator": "gpu",
   "dataSources": [
    {
     "datasetId": 8433197,
     "sourceId": 13304384,
     "sourceType": "datasetVersion"
    }
   ],
   "dockerImageVersionId": 31154,
   "isGpuEnabled": true,
   "isInternetEnabled": true,
   "language": "python",
   "sourceType": "notebook"
  },
  "kernelspec": {
   "display_name": "venv",
   "language": "python",
   "name": "python3"
  },
  "language_info": {
   "codemirror_mode": {
    "name": "ipython",
    "version": 3
   },
   "file_extension": ".py",
   "mimetype": "text/x-python",
   "name": "python",
   "nbconvert_exporter": "python",
   "pygments_lexer": "ipython3",
   "version": "3.13.8"
  }
 },
 "nbformat": 4,
 "nbformat_minor": 4
}
