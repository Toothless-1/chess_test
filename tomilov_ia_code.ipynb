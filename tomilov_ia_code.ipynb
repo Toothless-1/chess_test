{
 "cells": [
  {
   "cell_type": "code",
   "execution_count": null,
   "id": "459ef6fe",
   "metadata": {},
   "outputs": [],
   "source": [
    "import chess\n",
    "import numpy as np\n",
    "import pandas as pd\n",
    "from sklearn.model_selection import train_test_split\n",
    "import matplotlib.pyplot as plt\n",
    "import seaborn as sns\n",
    "from collections import Counter\n",
    "import torch\n",
    "import torch.nn as nn\n",
    "import torch.nn.functional as F\n",
    "\n",
    "seed = 123456\n",
    "np.random.seed(seed=seed)"
   ]
  },
  {
   "cell_type": "markdown",
   "id": "6f1b0979",
   "metadata": {},
   "source": [
    "# Реализуем board encoding\n"
   ]
  },
  {
   "cell_type": "code",
   "execution_count": null,
   "id": "f5b1ff40",
   "metadata": {},
   "outputs": [],
   "source": [
    "def basic_piece_encoding(board):\n",
    "    pieces = [\n",
    "        \"P\",\n",
    "        \"N\",\n",
    "        \"B\",\n",
    "        \"R\",\n",
    "        \"Q\",\n",
    "        \"K\",  # Белые\n",
    "        \"p\",\n",
    "        \"n\",\n",
    "        \"b\",\n",
    "        \"r\",\n",
    "        \"q\",\n",
    "        \"k\",\n",
    "    ]  # Черные\n",
    "\n",
    "    encoding = np.zeros((12, 8, 8), dtype=np.float32)\n",
    "\n",
    "    for i, piece in enumerate(pieces):\n",
    "        for square in range(64):\n",
    "            if board.piece_at(square) and board.piece_at(square).symbol() == piece:\n",
    "                row, col = square // 8, square % 8\n",
    "                encoding[i, row, col] = 1.0\n",
    "\n",
    "    return encoding"
   ]
  },
  {
   "cell_type": "code",
   "execution_count": null,
   "id": "13ed3ddb",
   "metadata": {},
   "outputs": [],
   "source": [
    "def advanced_board_encoding(board):\n",
    "    # Основные 12 плоскостей фигур\n",
    "    encoding = basic_piece_encoding(board)\n",
    "\n",
    "    # Плоскость 13: Чей ход\n",
    "    turn_plane = (\n",
    "        np.ones((1, 8, 8), dtype=np.float32)\n",
    "        if board.turn\n",
    "        else np.zeros((1, 8, 8), dtype=np.float32)\n",
    "    )\n",
    "\n",
    "    # Плоскости 14-17: Рокировки\n",
    "    castling_rights = [\n",
    "        board.has_kingside_castling_rights(chess.WHITE),\n",
    "        board.has_queenside_castling_rights(chess.WHITE),\n",
    "        board.has_kingside_castling_rights(chess.BLACK),\n",
    "        board.has_queenside_castling_rights(chess.BLACK),\n",
    "    ]\n",
    "    castling_planes = np.zeros((4, 8, 8), dtype=np.float32)\n",
    "    for i, has_right in enumerate(castling_rights):\n",
    "        if has_right:\n",
    "            castling_planes[i] = 1.0\n",
    "\n",
    "    # Плоскость 18: Взятие на проходе\n",
    "    en_passant_plane = np.zeros((1, 8, 8), dtype=np.float32)\n",
    "    if board.ep_square is not None:\n",
    "        row, col = board.ep_square // 8, board.ep_square % 8\n",
    "        en_passant_plane[0, row, col] = 1.0\n",
    "\n",
    "    # Плоскости 19-20: Счетчики (нормализованные)\n",
    "    halfmove_plane = np.full((1, 8, 8), board.halfmove_clock / 50.0, dtype=np.float32)\n",
    "    fullmove_plane = np.full((1, 8, 8), board.fullmove_number / 500.0, dtype=np.float32)\n",
    "\n",
    "    # Объединяем все плоскости\n",
    "    full_encoding = np.concatenate(\n",
    "        [\n",
    "            encoding,  # 12 плоскостей\n",
    "            turn_plane,  # 1 плоскость\n",
    "            castling_planes,  # 4 плоскости\n",
    "            en_passant_plane,  # 1 плоскость\n",
    "            halfmove_plane,  # 1 плоскость\n",
    "            fullmove_plane,  # 1 плоскость\n",
    "        ],\n",
    "        axis=0,\n",
    "    )  # Итого: 20 плоскостей\n",
    "\n",
    "    return full_encoding"
   ]
  },
  {
   "cell_type": "code",
   "execution_count": 4,
   "id": "70d1fcfe",
   "metadata": {},
   "outputs": [],
   "source": [
    "def fen_to_tensor(fen_string):\n",
    "    board = chess.Board(fen_string)\n",
    "    tensor = advanced_board_encoding(board)\n",
    "    return tensor"
   ]
  },
  {
   "cell_type": "code",
   "execution_count": 5,
   "id": "0d87f791",
   "metadata": {},
   "outputs": [],
   "source": [
    "data = pd.read_csv(\"fens_training_set.csv\")"
   ]
  },
  {
   "cell_type": "code",
   "execution_count": 6,
   "id": "c0ada29a",
   "metadata": {},
   "outputs": [
    {
     "data": {
      "text/plain": [
       "(268550, 2)"
      ]
     },
     "execution_count": 6,
     "metadata": {},
     "output_type": "execute_result"
    }
   ],
   "source": [
    "data.shape"
   ]
  },
  {
   "cell_type": "markdown",
   "id": "7bbf5587",
   "metadata": {},
   "source": [
    "# Проведём EDA\n"
   ]
  },
  {
   "cell_type": "code",
   "execution_count": 11,
   "id": "7e24b19e",
   "metadata": {},
   "outputs": [],
   "source": [
    "def validate_fen(fen):\n",
    "    try:\n",
    "        board = chess.Board(fen)\n",
    "        return True\n",
    "    except:\n",
    "        return False"
   ]
  },
  {
   "cell_type": "code",
   "execution_count": null,
   "id": "6427b1c8",
   "metadata": {},
   "outputs": [
    {
     "name": "stdout",
     "output_type": "stream",
     "text": [
      "Валидных FEN: 268550/268550\n"
     ]
    }
   ],
   "source": [
    "data[\"fen_valid\"] = data[\"fen\"].apply(validate_fen)\n",
    "print(f\"Валидных FEN: {data['fen_valid'].sum()}/{len(data)}\")"
   ]
  },
  {
   "cell_type": "code",
   "execution_count": 13,
   "id": "c9d7d017",
   "metadata": {},
   "outputs": [],
   "source": [
    "def analyze_fen_structure(fen):\n",
    "    board = chess.Board(fen)\n",
    "    return {\n",
    "        \"piece_count\": len(board.piece_map()),\n",
    "        \"white_to_move\": board.turn,\n",
    "        \"castling_rights\": board.castling_rights,\n",
    "        \"en_passant_possible\": board.ep_square is not None,\n",
    "        \"halfmove_clock\": board.halfmove_clock,\n",
    "        \"fullmove_number\": board.fullmove_number,\n",
    "    }"
   ]
  },
  {
   "cell_type": "code",
   "execution_count": null,
   "id": "45684582",
   "metadata": {},
   "outputs": [],
   "source": [
    "fen_analysis = data[data[\"fen_valid\"]][\"fen\"].apply(analyze_fen_structure)"
   ]
  },
  {
   "cell_type": "code",
   "execution_count": 15,
   "id": "cd1af8b5",
   "metadata": {},
   "outputs": [],
   "source": [
    "fen_df = pd.DataFrame(fen_analysis.tolist())"
   ]
  },
  {
   "cell_type": "code",
   "execution_count": 16,
   "id": "7e6c1048",
   "metadata": {},
   "outputs": [
    {
     "name": "stdout",
     "output_type": "stream",
     "text": [
      "Позиций где ход белых: 268550\n",
      "Позиций где ход черных: 0\n"
     ]
    }
   ],
   "source": [
    "print(f\"Позиций где ход белых: {(fen_df['white_to_move'] == True).sum()}\")\n",
    "print(f\"Позиций где ход черных: {(fen_df['white_to_move'] == False).sum()}\")"
   ]
  },
  {
   "cell_type": "code",
   "execution_count": 17,
   "id": "593564b9",
   "metadata": {},
   "outputs": [],
   "source": [
    "def analyze_move(move_uci, fen):\n",
    "    \"\"\"Детальный анализ хода\"\"\"\n",
    "    try:\n",
    "        board = chess.Board(fen)\n",
    "        move = chess.Move.from_uci(move_uci)\n",
    "\n",
    "        # Проверка легальности хода\n",
    "        is_legal = move in board.legal_moves\n",
    "\n",
    "        # Тип хода\n",
    "        move_types = []\n",
    "        if board.is_capture(move):\n",
    "            move_types.append(\"capture\")\n",
    "        if board.is_castling(move):\n",
    "            move_types.append(\"castling\")\n",
    "        if board.is_en_passant(move):\n",
    "            move_types.append(\"en_passant\")\n",
    "        if move.promotion:\n",
    "            move_types.append(\"promotion\")\n",
    "        if not move_types:\n",
    "            move_types.append(\"quiet\")\n",
    "\n",
    "        # Фигура, которая ходит\n",
    "        piece = board.piece_at(move.from_square)\n",
    "        piece_type = piece.symbol().upper() if piece else None\n",
    "\n",
    "        # Расстояние хода\n",
    "        from_row, from_col = move.from_square // 8, move.from_square % 8\n",
    "        to_row, to_col = move.to_square // 8, move.to_square % 8\n",
    "        distance = np.sqrt((from_row - to_row) ** 2 + (from_col - to_col) ** 2)\n",
    "\n",
    "        return {\n",
    "            \"is_legal\": is_legal,\n",
    "            \"move_types\": move_types,\n",
    "            \"piece_type\": piece_type,\n",
    "            \"move_distance\": distance,\n",
    "            \"is_check\": board.gives_check(move),\n",
    "        }\n",
    "    except:\n",
    "        return {\n",
    "            \"is_legal\": False,\n",
    "            \"move_types\": [],\n",
    "            \"piece_type\": None,\n",
    "            \"move_distance\": 0,\n",
    "            \"is_check\": False,\n",
    "        }"
   ]
  },
  {
   "cell_type": "code",
   "execution_count": null,
   "id": "071e4cfb",
   "metadata": {},
   "outputs": [],
   "source": [
    "move_analysis = data.apply(lambda row: analyze_move(row[\"move\"], row[\"fen\"]), axis=1)\n",
    "move_df = pd.DataFrame(move_analysis.tolist())"
   ]
  },
  {
   "cell_type": "code",
   "execution_count": 19,
   "id": "f067bb93",
   "metadata": {},
   "outputs": [
    {
     "name": "stdout",
     "output_type": "stream",
     "text": [
      "Легальных ходов: 268549/268550\n",
      "Ходов, объявляющих шах: 22601\n"
     ]
    }
   ],
   "source": [
    "print(f\"Легальных ходов: {move_df['is_legal'].sum()}/{len(move_df)}\")\n",
    "print(f\"Ходов, объявляющих шах: {move_df['is_check'].sum()}\")"
   ]
  },
  {
   "cell_type": "code",
   "execution_count": 24,
   "id": "38e9d4e5",
   "metadata": {},
   "outputs": [
    {
     "data": {
      "application/vnd.microsoft.datawrangler.viewer.v0+json": {
       "columns": [
        {
         "name": "index",
         "rawType": "int64",
         "type": "integer"
        },
        {
         "name": "is_legal",
         "rawType": "bool",
         "type": "boolean"
        },
        {
         "name": "move_types",
         "rawType": "object",
         "type": "unknown"
        },
        {
         "name": "piece_type",
         "rawType": "object",
         "type": "string"
        },
        {
         "name": "move_distance",
         "rawType": "float64",
         "type": "float"
        },
        {
         "name": "is_check",
         "rawType": "bool",
         "type": "boolean"
        }
       ],
       "ref": "6cea895e-ed4a-4545-8c22-977c8f3f4835",
       "rows": [
        [
         "232329",
         "False",
         "['castling']",
         "K",
         "2.0",
         "True"
        ]
       ],
       "shape": {
        "columns": 5,
        "rows": 1
       }
      },
      "text/html": [
       "<div>\n",
       "<style scoped>\n",
       "    .dataframe tbody tr th:only-of-type {\n",
       "        vertical-align: middle;\n",
       "    }\n",
       "\n",
       "    .dataframe tbody tr th {\n",
       "        vertical-align: top;\n",
       "    }\n",
       "\n",
       "    .dataframe thead th {\n",
       "        text-align: right;\n",
       "    }\n",
       "</style>\n",
       "<table border=\"1\" class=\"dataframe\">\n",
       "  <thead>\n",
       "    <tr style=\"text-align: right;\">\n",
       "      <th></th>\n",
       "      <th>is_legal</th>\n",
       "      <th>move_types</th>\n",
       "      <th>piece_type</th>\n",
       "      <th>move_distance</th>\n",
       "      <th>is_check</th>\n",
       "    </tr>\n",
       "  </thead>\n",
       "  <tbody>\n",
       "    <tr>\n",
       "      <th>232329</th>\n",
       "      <td>False</td>\n",
       "      <td>[castling]</td>\n",
       "      <td>K</td>\n",
       "      <td>2.0</td>\n",
       "      <td>True</td>\n",
       "    </tr>\n",
       "  </tbody>\n",
       "</table>\n",
       "</div>"
      ],
      "text/plain": [
       "        is_legal  move_types piece_type  move_distance  is_check\n",
       "232329     False  [castling]          K            2.0      True"
      ]
     },
     "execution_count": 24,
     "metadata": {},
     "output_type": "execute_result"
    }
   ],
   "source": [
    "move_df[move_df[\"is_legal\"] == False]"
   ]
  },
  {
   "cell_type": "code",
   "execution_count": null,
   "id": "f3be46f0",
   "metadata": {},
   "outputs": [
    {
     "data": {
      "application/vnd.microsoft.datawrangler.viewer.v0+json": {
       "columns": [
        {
         "name": "index",
         "rawType": "int64",
         "type": "integer"
        },
        {
         "name": "fen",
         "rawType": "object",
         "type": "string"
        },
        {
         "name": "move",
         "rawType": "object",
         "type": "string"
        },
        {
         "name": "fen_valid",
         "rawType": "bool",
         "type": "boolean"
        }
       ],
       "ref": "fac0699f-97de-42a0-83b6-07db5110c30f",
       "rows": [
        [
         "232329",
         "1r2qk1r/ppb3pb/2p1P3/4p2p/4n3/1P1N3P/P1P3PB/1R1BQK1R w KQkq - 0 1",
         "f1h1",
         "True"
        ]
       ],
       "shape": {
        "columns": 3,
        "rows": 1
       }
      },
      "text/html": [
       "<div>\n",
       "<style scoped>\n",
       "    .dataframe tbody tr th:only-of-type {\n",
       "        vertical-align: middle;\n",
       "    }\n",
       "\n",
       "    .dataframe tbody tr th {\n",
       "        vertical-align: top;\n",
       "    }\n",
       "\n",
       "    .dataframe thead th {\n",
       "        text-align: right;\n",
       "    }\n",
       "</style>\n",
       "<table border=\"1\" class=\"dataframe\">\n",
       "  <thead>\n",
       "    <tr style=\"text-align: right;\">\n",
       "      <th></th>\n",
       "      <th>fen</th>\n",
       "      <th>move</th>\n",
       "      <th>fen_valid</th>\n",
       "    </tr>\n",
       "  </thead>\n",
       "  <tbody>\n",
       "    <tr>\n",
       "      <th>232329</th>\n",
       "      <td>1r2qk1r/ppb3pb/2p1P3/4p2p/4n3/1P1N3P/P1P3PB/1R...</td>\n",
       "      <td>f1h1</td>\n",
       "      <td>True</td>\n",
       "    </tr>\n",
       "  </tbody>\n",
       "</table>\n",
       "</div>"
      ],
      "text/plain": [
       "                                                      fen  move  fen_valid\n",
       "232329  1r2qk1r/ppb3pb/2p1P3/4p2p/4n3/1P1N3P/P1P3PB/1R...  f1h1       True"
      ]
     },
     "execution_count": 23,
     "metadata": {},
     "output_type": "execute_result"
    }
   ],
   "source": [
    "# Непонятно, почему посчитало нелегальным ходом\n",
    "data.iloc[move_df[move_df[\"is_legal\"] == False].index]"
   ]
  },
  {
   "cell_type": "code",
   "execution_count": 27,
   "id": "65b300a5",
   "metadata": {},
   "outputs": [
    {
     "data": {
      "application/vnd.microsoft.datawrangler.viewer.v0+json": {
       "columns": [
        {
         "name": "index",
         "rawType": "int64",
         "type": "integer"
        },
        {
         "name": "fen",
         "rawType": "object",
         "type": "string"
        },
        {
         "name": "move",
         "rawType": "object",
         "type": "string"
        },
        {
         "name": "fen_valid",
         "rawType": "bool",
         "type": "boolean"
        }
       ],
       "ref": "f2f9d08c-c15d-47d8-8a49-0b335696d1f8",
       "rows": [
        [
         "4",
         "rnbqkb1r/pp3ppp/5n2/3p4/2pP4/3B1N2/PPP2PPP/RNBQ1RK1 w kq - 0 1",
         "f1e1",
         "True"
        ],
        [
         "14",
         "8/8/3r4/1pp1p2R/p2k4/P1p5/2B5/2K5 w - - 0 1",
         "h5h4",
         "True"
        ],
        [
         "16",
         "r3k3/5p1p/1pp1n2r/p1p1PRp1/2PbN3/P6P/1PP3P1/R6K w q - 0 1",
         "e4d6",
         "True"
        ],
        [
         "24",
         "r1b2rk1/1p3n1R/p3p1p1/2q2pN1/8/2N4Q/PPP2PP1/2K2B2 w - - 0 1",
         "h7h8",
         "True"
        ],
        [
         "27",
         "7r/R7/P3p3/1P1k4/2p5/4B2p/7b/2K5 w - - 0 1",
         "a7d7",
         "True"
        ],
        [
         "34",
         "3b3r/1p3k2/n1p2p2/P7/1P1p1B2/8/8/4RBK1 w - - 0 1",
         "f1c4",
         "True"
        ],
        [
         "44",
         "rnbqkbnr/pp2pppp/3p4/2p5/4P3/5N2/PPPP1PPP/RNBQKB1R w KQkq - 0 1",
         "f1b5",
         "True"
        ],
        [
         "58",
         "3rrk2/1p4p1/p1p3B1/7p/7b/2P5/PP4RP/R5K1 w - - 0 1",
         "a1f1",
         "True"
        ],
        [
         "75",
         "2rq1k1r/1p1nppbp/p2p1nbB/3P3p/3N4/P1N2P2/1PPQB1P1/R3K2R w KQ - 0 1",
         "h6g7",
         "True"
        ],
        [
         "85",
         "6k1/p6p/P2Np1p1/2b5/1R6/2n3P1/5P1P/6K1 w - - 0 1",
         "b4b8",
         "True"
        ],
        [
         "90",
         "6k1/pp6/7p/4R3/2PBp2b/4Pp1q/P2P1R1P/7K w - - 0 1",
         "e5e8",
         "True"
        ],
        [
         "91",
         "3k4/1p4Q1/4pp2/1p1q1b2/3P4/8/r5PK/3q4 w - - 0 1",
         "g7f6",
         "True"
        ],
        [
         "142",
         "r2r2k1/p4p1p/b3p1q1/8/3pPQ2/5N2/P2K1P1P/6R1 w - - 0 1",
         "g1g6",
         "True"
        ],
        [
         "149",
         "8/8/8/8/1kr2RK1/8/8/8 w - - 0 1",
         "f4c4",
         "True"
        ],
        [
         "158",
         "2r3r1/1b3ppk/3p1q2/2n1pPp1/2PpP1Q1/1p3R2/P5PP/1B2R2K w - - 0 1",
         "f3h3",
         "True"
        ],
        [
         "164",
         "2R5/5k2/1p3rpp/pPbP4/1r3N2/2p3P1/6KP/5R2 w - - 0 1",
         "c8c7",
         "True"
        ],
        [
         "165",
         "5r2/5q1k/3p1Qp1/p1p2b1p/3B4/K1Pp3P/P4P2/3R4 w - - 0 1",
         "f6f7",
         "True"
        ],
        [
         "179",
         "rnbqkbnr/pp2pppp/3p4/2p5/4P3/5N2/PPPP1PPP/RNBQKB1R w KQkq - 0 1",
         "f1b5",
         "True"
        ],
        [
         "192",
         "5k2/2p5/b2pQ3/3P4/p1Pq1PP1/6K1/1P6/8 w - - 0 1",
         "e6h6",
         "True"
        ],
        [
         "206",
         "8/8/8/1pr5/k7/7R/1K6/8 w - - 0 1",
         "h3a3",
         "True"
        ],
        [
         "207",
         "1Rr3k1/2r1qpp1/4p2p/8/3P4/6P1/3QPP1P/1R4K1 w - - 0 1",
         "b8c8",
         "True"
        ],
        [
         "217",
         "r7/p5pp/3k1p2/2p2b2/3p4/2N5/PPPR2PP/6K1 w - - 0 1",
         "c3b5",
         "True"
        ],
        [
         "223",
         "r7/7p/2ppk1p1/3n4/P1BR2PP/5P2/5BK1/1r6 w - - 0 1",
         "d4e4",
         "True"
        ],
        [
         "231",
         "8/5k1p/5bp1/4p3/3nB3/6P1/5PKP/1R6 w - - 0 1",
         "b1b7",
         "True"
        ],
        [
         "244",
         "6k1/8/p6P/3pN1Nq/5P2/4P1K1/P5P1/8 w - - 0 1",
         "h6h7",
         "True"
        ],
        [
         "261",
         "2k5/5p2/2p1p3/p5Q1/Pp3P2/6K1/1q3B1P/8 w - - 0 1",
         "g5g8",
         "True"
        ],
        [
         "281",
         "2r4b/4k3/6RP/p4p2/4b3/1B6/PP6/K2R4 w - - 0 1",
         "g6g7",
         "True"
        ],
        [
         "294",
         "6k1/5pp1/2p2n2/p4Q2/PbP5/5KP1/r4P1P/8 w - - 0 1",
         "f5c8",
         "True"
        ],
        [
         "305",
         "1r1r1k2/Q3q1bp/1p1pp1p1/4np2/1PPN4/P3P3/1BR2PPP/3R2K1 w - - 0 1",
         "a7e7",
         "True"
        ],
        [
         "318",
         "rnbqkb1r/pp2pppp/2p2n2/8/3PN3/8/PPP2PPP/R1BQKBNR w KQkq - 0 1",
         "e4f6",
         "True"
        ],
        [
         "326",
         "r2qkr2/1p5p/2p1P1p1/p1n5/4p3/4B3/PPP1B1PP/R2Q2K1 w q - 0 1",
         "d1d8",
         "True"
        ],
        [
         "343",
         "r2q1r2/p2bnppk/2p1p3/2bpP3/8/5N2/PPP1QPPP/R1B1K2R w KQ - 0 1",
         "f3g5",
         "True"
        ],
        [
         "368",
         "8/8/1p1r4/1P2p3/8/3kpQP1/6KP/8 w - - 0 1",
         "f3d1",
         "True"
        ],
        [
         "376",
         "8/3R2p1/5pNp/2k4P/2p2K2/p2r4/P5P1/4r3 w - - 0 1",
         "d7c7",
         "True"
        ],
        [
         "399",
         "4R3/8/8/5K2/8/r7/2k5/8 w - - 0 1",
         "e8e2",
         "True"
        ],
        [
         "420",
         "8/3r1p1R/8/4p3/4Pkp1/2PKN3/8/8 w - - 0 1",
         "e3d5",
         "True"
        ],
        [
         "436",
         "7R/5k2/2p5/K7/8/5r2/8/8 w - - 0 1",
         "h8h7",
         "True"
        ],
        [
         "438",
         "rn1q2r1/pb4p1/3p1p1k/2p4N/4PP2/2P4Q/P5PP/R4RK1 w - - 0 1",
         "h5f6",
         "True"
        ],
        [
         "481",
         "5k2/4N2R/5pP1/7p/4P1bP/5r2/6K1/8 w - - 0 1",
         "g6g7",
         "True"
        ],
        [
         "491",
         "8/2k5/7R/4N1p1/4K3/8/6r1/6n1 w - - 0 1",
         "h6h7",
         "True"
        ],
        [
         "499",
         "8/5p2/PK4k1/2R5/8/r6p/8/8 w - - 0 1",
         "c5c6",
         "True"
        ],
        [
         "508",
         "8/8/6p1/8/2Q2K2/8/5pq1/4k3 w - - 0 1",
         "c4c3",
         "True"
        ],
        [
         "509",
         "8/pp1R3R/1r4k1/5r1p/1b5P/1P1B2P1/P3p1K1/8 w - - 0 1",
         "h7g7",
         "True"
        ],
        [
         "513",
         "3q2k1/1p3pbp/p4p2/3rpBBQ/8/7P/PP3PP1/6K1 w - - 0 1",
         "h5h7",
         "True"
        ],
        [
         "540",
         "8/6K1/4p3/4Pq2/3nk3/B7/3Q4/8 w - - 0 1",
         "d2g2",
         "True"
        ],
        [
         "550",
         "3r4/7p/8/4k3/PR3p2/3Bp2P/1K6/8 w - - 0 1",
         "b4e4",
         "True"
        ],
        [
         "560",
         "r3r3/qbk4p/p4Qp1/1pbpP3/3N1P2/P1P5/1P4PP/R4R1K w - - 0 1",
         "f6f7",
         "True"
        ],
        [
         "562",
         "4rkr1/pppq1pN1/1b2b2p/1P1p4/2n4B/2PB1Q2/P4PPP/R3R1K1 w - - 0 1",
         "g7e6",
         "True"
        ],
        [
         "576",
         "1R6/5p2/4b1k1/5p2/5P2/1p1KN3/1P6/2r5 w - - 0 1",
         "b8g8",
         "True"
        ],
        [
         "579",
         "8/8/5pp1/6k1/5b2/4Q3/4K3/6rq w - - 0 1",
         "e3c5",
         "True"
        ]
       ],
       "shape": {
        "columns": 3,
        "rows": 22601
       }
      },
      "text/html": [
       "<div>\n",
       "<style scoped>\n",
       "    .dataframe tbody tr th:only-of-type {\n",
       "        vertical-align: middle;\n",
       "    }\n",
       "\n",
       "    .dataframe tbody tr th {\n",
       "        vertical-align: top;\n",
       "    }\n",
       "\n",
       "    .dataframe thead th {\n",
       "        text-align: right;\n",
       "    }\n",
       "</style>\n",
       "<table border=\"1\" class=\"dataframe\">\n",
       "  <thead>\n",
       "    <tr style=\"text-align: right;\">\n",
       "      <th></th>\n",
       "      <th>fen</th>\n",
       "      <th>move</th>\n",
       "      <th>fen_valid</th>\n",
       "    </tr>\n",
       "  </thead>\n",
       "  <tbody>\n",
       "    <tr>\n",
       "      <th>4</th>\n",
       "      <td>rnbqkb1r/pp3ppp/5n2/3p4/2pP4/3B1N2/PPP2PPP/RNB...</td>\n",
       "      <td>f1e1</td>\n",
       "      <td>True</td>\n",
       "    </tr>\n",
       "    <tr>\n",
       "      <th>14</th>\n",
       "      <td>8/8/3r4/1pp1p2R/p2k4/P1p5/2B5/2K5 w - - 0 1</td>\n",
       "      <td>h5h4</td>\n",
       "      <td>True</td>\n",
       "    </tr>\n",
       "    <tr>\n",
       "      <th>16</th>\n",
       "      <td>r3k3/5p1p/1pp1n2r/p1p1PRp1/2PbN3/P6P/1PP3P1/R6...</td>\n",
       "      <td>e4d6</td>\n",
       "      <td>True</td>\n",
       "    </tr>\n",
       "    <tr>\n",
       "      <th>24</th>\n",
       "      <td>r1b2rk1/1p3n1R/p3p1p1/2q2pN1/8/2N4Q/PPP2PP1/2K...</td>\n",
       "      <td>h7h8</td>\n",
       "      <td>True</td>\n",
       "    </tr>\n",
       "    <tr>\n",
       "      <th>27</th>\n",
       "      <td>7r/R7/P3p3/1P1k4/2p5/4B2p/7b/2K5 w - - 0 1</td>\n",
       "      <td>a7d7</td>\n",
       "      <td>True</td>\n",
       "    </tr>\n",
       "    <tr>\n",
       "      <th>...</th>\n",
       "      <td>...</td>\n",
       "      <td>...</td>\n",
       "      <td>...</td>\n",
       "    </tr>\n",
       "    <tr>\n",
       "      <th>268509</th>\n",
       "      <td>rn1qkb1r/ppp1pppp/3p4/4Pb2/1nPP4/5N2/PP3PPP/RN...</td>\n",
       "      <td>d1a4</td>\n",
       "      <td>True</td>\n",
       "    </tr>\n",
       "    <tr>\n",
       "      <th>268514</th>\n",
       "      <td>r5k1/1p1n1ppn/1qr5/4p1N1/pBPb4/P4Q2/1P3PPP/1R1...</td>\n",
       "      <td>f3f7</td>\n",
       "      <td>True</td>\n",
       "    </tr>\n",
       "    <tr>\n",
       "      <th>268541</th>\n",
       "      <td>3rr3/1pR1b2p/p3QBpk/8/8/q4P2/5KPP/7R w - - 0 1</td>\n",
       "      <td>e6h3</td>\n",
       "      <td>True</td>\n",
       "    </tr>\n",
       "    <tr>\n",
       "      <th>268543</th>\n",
       "      <td>2rqnrk1/1p1b1pb1/p2p1Pp1/3N2Pp/2PpP3/1P1Q3P/P1...</td>\n",
       "      <td>d5e7</td>\n",
       "      <td>True</td>\n",
       "    </tr>\n",
       "    <tr>\n",
       "      <th>268546</th>\n",
       "      <td>r1bq1rk1/ppp2ppp/3p4/2bn4/3N4/2P5/PPB2PPP/R1BQ...</td>\n",
       "      <td>c2h7</td>\n",
       "      <td>True</td>\n",
       "    </tr>\n",
       "  </tbody>\n",
       "</table>\n",
       "<p>22601 rows × 3 columns</p>\n",
       "</div>"
      ],
      "text/plain": [
       "                                                      fen  move  fen_valid\n",
       "4       rnbqkb1r/pp3ppp/5n2/3p4/2pP4/3B1N2/PPP2PPP/RNB...  f1e1       True\n",
       "14            8/8/3r4/1pp1p2R/p2k4/P1p5/2B5/2K5 w - - 0 1  h5h4       True\n",
       "16      r3k3/5p1p/1pp1n2r/p1p1PRp1/2PbN3/P6P/1PP3P1/R6...  e4d6       True\n",
       "24      r1b2rk1/1p3n1R/p3p1p1/2q2pN1/8/2N4Q/PPP2PP1/2K...  h7h8       True\n",
       "27             7r/R7/P3p3/1P1k4/2p5/4B2p/7b/2K5 w - - 0 1  a7d7       True\n",
       "...                                                   ...   ...        ...\n",
       "268509  rn1qkb1r/ppp1pppp/3p4/4Pb2/1nPP4/5N2/PP3PPP/RN...  d1a4       True\n",
       "268514  r5k1/1p1n1ppn/1qr5/4p1N1/pBPb4/P4Q2/1P3PPP/1R1...  f3f7       True\n",
       "268541     3rr3/1pR1b2p/p3QBpk/8/8/q4P2/5KPP/7R w - - 0 1  e6h3       True\n",
       "268543  2rqnrk1/1p1b1pb1/p2p1Pp1/3N2Pp/2PpP3/1P1Q3P/P1...  d5e7       True\n",
       "268546  r1bq1rk1/ppp2ppp/3p4/2bn4/3N4/2P5/PPB2PPP/R1BQ...  c2h7       True\n",
       "\n",
       "[22601 rows x 3 columns]"
      ]
     },
     "execution_count": 27,
     "metadata": {},
     "output_type": "execute_result"
    }
   ],
   "source": [
    "data.iloc[move_df[move_df[\"is_check\"] == True].index]"
   ]
  },
  {
   "cell_type": "code",
   "execution_count": 40,
   "id": "85c18b3c",
   "metadata": {},
   "outputs": [
    {
     "data": {
      "text/plain": [
       "Text(0.5, 1.0, 'Распределение типов ходов (логарифмический масштаб)')"
      ]
     },
     "execution_count": 40,
     "metadata": {},
     "output_type": "execute_result"
    },
    {
     "data": {
      "image/png": "[encoded data removed]",
      "text/plain": [
       "<Figure size 1500x1000 with 1 Axes>"
      ]
     },
     "metadata": {},
     "output_type": "display_data"
    }
   ],
   "source": [
    "plt.figure(figsize=(15, 10))\n",
    "plt.subplot(2, 3, 1)\n",
    "all_move_types = [\n",
    "    item for sublist in move_df[\"move_types\"].dropna() for item in sublist\n",
    "]\n",
    "move_type_counts = Counter(all_move_types)\n",
    "sns.barplot(y=list(move_type_counts.values()), x=list(move_type_counts.keys()))\n",
    "plt.yscale(\"log\")\n",
    "plt.title(\"Распределение типов ходов (логарифмический масштаб)\")"
   ]
  },
  {
   "cell_type": "code",
   "execution_count": null,
   "id": "32090c84",
   "metadata": {},
   "outputs": [
    {
     "data": {
      "text/plain": [
       "Text(0.5, 1.0, 'Фигуры, совершающие ходы')"
      ]
     },
     "execution_count": 42,
     "metadata": {},
     "output_type": "execute_result"
    },
    {
     "data": {
      "image/png": "[encoded data removed]",
      "text/plain": [
       "<Figure size 1500x1000 with 1 Axes>"
      ]
     },
     "metadata": {},
     "output_type": "display_data"
    }
   ],
   "source": [
    "plt.figure(figsize=(15, 10))\n",
    "piece_counts = move_df[\"piece_type\"].value_counts()\n",
    "sns.barplot(y=piece_counts.values, x=piece_counts.index)\n",
    "plt.title(\"Фигуры, совершающие ходы\")"
   ]
  },
  {
   "cell_type": "code",
   "execution_count": null,
   "id": "8d333a9c",
   "metadata": {},
   "outputs": [
    {
     "data": {
      "text/plain": [
       "Text(0.5, 0, 'Количество фигур')"
      ]
     },
     "execution_count": 57,
     "metadata": {},
     "output_type": "execute_result"
    },
    {
     "data": {
      "image/png": "[encoded data removed]",
      "text/plain": [
       "<Figure size 640x480 with 1 Axes>"
      ]
     },
     "metadata": {},
     "output_type": "display_data"
    }
   ],
   "source": [
    "# all_nums_figures_types = [\n",
    "#     item for sublist in fen_df[\"piece_count\"].dropna() for item in sublist\n",
    "# ]\n",
    "nums_figures_counts = Counter(fen_df[\"piece_count\"])\n",
    "sns.barplot(y=list(nums_figures_counts.values()), x=list(nums_figures_counts.keys()))\n",
    "plt.title(\"Распределение количества фигур\")\n",
    "plt.xlabel(\"Количество фигур\")"
   ]
  },
  {
   "cell_type": "code",
   "execution_count": null,
   "id": "8f0477bb",
   "metadata": {},
   "outputs": [],
   "source": [
    "def analyze_tactical_patterns(fen, move_uci):\n",
    "    board = chess.Board(fen)\n",
    "    move = chess.Move.from_uci(move_uci)\n",
    "\n",
    "    patterns = []\n",
    "\n",
    "    # Атака на короля\n",
    "    if board.is_check():\n",
    "        patterns.append(\"check\")\n",
    "\n",
    "    # Связка\n",
    "    for square in chess.SQUARES:\n",
    "        if board.is_pinned(board.turn, square):\n",
    "            patterns.append(\"pin\")\n",
    "            break\n",
    "\n",
    "    # Двойной удар\n",
    "    board.push(move)\n",
    "    attacked_squares = len(\n",
    "        [sq for sq in chess.SQUARES if board.is_attacked_by(board.turn, sq)]\n",
    "    )\n",
    "    board.pop()\n",
    "\n",
    "    # Взятие фигур\n",
    "    if board.is_capture(move):\n",
    "        captured_piece = board.piece_at(move.to_square)\n",
    "        if captured_piece:\n",
    "            patterns.append(f\"capture_{captured_piece.symbol().upper()}\")\n",
    "\n",
    "    return patterns"
   ]
  },
  {
   "cell_type": "code",
   "execution_count": null,
   "id": "f852b8c9",
   "metadata": {},
   "outputs": [
    {
     "name": "stdout",
     "output_type": "stream",
     "text": [
      "Топ тактических паттернов:\n",
      "  pin: 35255\n",
      "  capture_P: 25655\n",
      "  check: 19590\n",
      "  capture_N: 9021\n",
      "  capture_B: 8570\n",
      "  capture_R: 6390\n",
      "  capture_Q: 4057\n"
     ]
    }
   ],
   "source": [
    "# Анализ тактических паттернов\n",
    "data[\"tactical_patterns\"] = data.apply(\n",
    "    lambda row: analyze_tactical_patterns(row[\"fen\"], row[\"move\"]), axis=1\n",
    ")\n",
    "\n",
    "# Анализ частоты тактических паттернов\n",
    "all_patterns = [item for sublist in data[\"tactical_patterns\"] for item in sublist]\n",
    "pattern_counts = Counter(all_patterns)\n",
    "\n",
    "print(\"Топ тактических паттернов:\")\n",
    "for pattern, count in pattern_counts.most_common(10):\n",
    "    print(f\"  {pattern}: {count}\")"
   ]
  },
  {
   "cell_type": "markdown",
   "id": "215217a3",
   "metadata": {},
   "source": [
    "# Разработка модели\n"
   ]
  },
  {
   "cell_type": "code",
   "execution_count": null,
   "id": "809ac94a",
   "metadata": {},
   "outputs": [],
   "source": []
  }
 ],
 "metadata": {
  "kernelspec": {
   "display_name": ".venv",
   "language": "python",
   "name": "python3"
  },
  "language_info": {
   "codemirror_mode": {
    "name": "ipython",
    "version": 3
   },
   "file_extension": ".py",
   "mimetype": "text/x-python",
   "name": "python",
   "nbconvert_exporter": "python",
   "pygments_lexer": "ipython3",
   "version": "3.13.7"
  }
 },
 "nbformat": 4,
 "nbformat_minor": 5
}
